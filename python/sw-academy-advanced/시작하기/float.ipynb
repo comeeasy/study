{
 "metadata": {
  "language_info": {
   "codemirror_mode": {
    "name": "ipython",
    "version": 3
   },
   "file_extension": ".py",
   "mimetype": "text/x-python",
   "name": "python",
   "nbconvert_exporter": "python",
   "pygments_lexer": "ipython3",
   "version": 3
  },
  "orig_nbformat": 2,
  "kernelspec": {
   "name": "python_defaultSpec_1597122235313",
   "display_name": "Python 3.8.2 64-bit"
  }
 },
 "nbformat": 4,
 "nbformat_minor": 2,
 "cells": [
  {
   "cell_type": "code",
   "execution_count": 1,
   "metadata": {},
   "outputs": [],
   "source": [
    "# 단정도 실수의 가수 부분을 만드는 법\n",
    "# 단정도 실수 : 4byte 짜리 float in C\n",
    "\n",
    "# 1001.0011\n",
    "# 1. 정수부의 첫 번째 자리가 1이 되도록 소수점 오른쪽으로 이동\n",
    "# 1001.0011\n",
    "# 0001.0010 0110 0000 0000 0000 000 : 소수부를 23비트로 만듬\n",
    "# 00100110000000000000000 을 가수부에 저장\n",
    "\n"
   ]
  },
  {
   "cell_type": "code",
   "execution_count": 2,
   "metadata": {},
   "outputs": [],
   "source": [
    "# Exess expression\n",
    "# 실제 값을 반으로 나누어 양수와 음수를 나타냄\n",
    "# 실제 비트     :  8 7 6 5 4  3  2  1  0\n",
    "# Exess rep     :  4 3 2 1 0 -1 -2 -3 -4"
   ]
  },
  {
   "cell_type": "code",
   "execution_count": null,
   "metadata": {},
   "outputs": [],
   "source": [
    "# 32비트 float  -> 6자리 까지 유효\n",
    "# 64비트 double -> 15자리 까지 유효"
   ]
  }
 ]
}