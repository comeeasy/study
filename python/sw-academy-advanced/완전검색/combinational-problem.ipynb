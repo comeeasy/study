{
 "metadata": {
  "language_info": {
   "codemirror_mode": {
    "name": "ipython",
    "version": 3
   },
   "file_extension": ".py",
   "mimetype": "text/x-python",
   "name": "python",
   "nbconvert_exporter": "python",
   "pygments_lexer": "ipython3",
   "version": 3
  },
  "orig_nbformat": 2,
  "kernelspec": {
   "name": "python_defaultSpec_1597221110826",
   "display_name": "Python 3.8.2 64-bit"
  }
 },
 "nbformat": 4,
 "nbformat_minor": 2,
 "cells": [
  {
   "cell_type": "code",
   "execution_count": 81,
   "metadata": {},
   "outputs": [],
   "source": [
    "# 순열 생성하는 함수\n",
    "# 주어진 중복되지 않은 숫자들의 list를 받아 이를 \n",
    "# 가능한 모든 순열로 표현\n",
    "\n",
    "# tree를 만들어서 표현하면 되네...\n",
    "\n",
    "def perm(set_num) :\n",
    "    # 리스트를 반환해서 여기에 계속 앞의 element들을 추가할거야\n",
    "    to_ret = []\n",
    "\n",
    "    # escape 조건 요소가 하나밖에 없으면 그 자체가 모든 수열임\n",
    "    if len(set_num) <= 1 :\n",
    "        return list(set_num)\n",
    "    # 그렇지 않으면 모든 요소를 뺀 copy 리스트들을 perm함수에 인자로 넣어\n",
    "    # 해당 elem을 제외한 나머지 요소들로 순열 조합을 만들어 각 조합들의 list들을\n",
    "    # 받아서 각 list들에 처음에 제외했던 elem을 앞에 넣는다.\n",
    "    else :\n",
    "        # 각 요소들을 제외한 나머지 set으로 구성된\n",
    "        # permutation들의 list를 더한 새로운 list를 return\n",
    "        for elem in set_num :\n",
    "            # copy를 하는 이유는\n",
    "            # copy = set_num 을 하면 같은 주소를 가르키기 떄문에\n",
    "            # copy의 값을 변경하면 set_num의 값도 바뀌기 떄문이다.\n",
    "            copy = list(set_num)\n",
    "            copy.remove(elem)\n",
    "\n",
    "            # 각 copy list들의 list들에 가장 앞에 있던 elem을 각각 insert\n",
    "            for each in list(perm(copy)) :\n",
    "                # each 가 int라면 list로 변환이 안됨 iterable하지 않아서\n",
    "                if isinstance(each, int) == 1 :\n",
    "                    to_ret.append([elem, each])\n",
    "                # each가 list라면\n",
    "                else :\n",
    "                    each.insert(0, elem)\n",
    "                    to_ret.append(each)\n",
    "\n",
    "    return to_ret\n",
    "\n",
    "\n",
    "            "
   ]
  },
  {
   "cell_type": "code",
   "execution_count": 89,
   "metadata": {
    "tags": []
   },
   "outputs": [
    {
     "output_type": "execute_result",
     "data": {
      "text/plain": "[[1, 2, 3, 4, 5],\n [1, 2, 3, 5, 4],\n [1, 2, 4, 3, 5],\n [1, 2, 4, 5, 3],\n [1, 2, 5, 3, 4],\n [1, 2, 5, 4, 3],\n [1, 3, 2, 4, 5],\n [1, 3, 2, 5, 4],\n [1, 3, 4, 2, 5],\n [1, 3, 4, 5, 2],\n [1, 3, 5, 2, 4],\n [1, 3, 5, 4, 2],\n [1, 4, 2, 3, 5],\n [1, 4, 2, 5, 3],\n [1, 4, 3, 2, 5],\n [1, 4, 3, 5, 2],\n [1, 4, 5, 2, 3],\n [1, 4, 5, 3, 2],\n [1, 5, 2, 3, 4],\n [1, 5, 2, 4, 3],\n [1, 5, 3, 2, 4],\n [1, 5, 3, 4, 2],\n [1, 5, 4, 2, 3],\n [1, 5, 4, 3, 2],\n [2, 1, 3, 4, 5],\n [2, 1, 3, 5, 4],\n [2, 1, 4, 3, 5],\n [2, 1, 4, 5, 3],\n [2, 1, 5, 3, 4],\n [2, 1, 5, 4, 3],\n [2, 3, 1, 4, 5],\n [2, 3, 1, 5, 4],\n [2, 3, 4, 1, 5],\n [2, 3, 4, 5, 1],\n [2, 3, 5, 1, 4],\n [2, 3, 5, 4, 1],\n [2, 4, 1, 3, 5],\n [2, 4, 1, 5, 3],\n [2, 4, 3, 1, 5],\n [2, 4, 3, 5, 1],\n [2, 4, 5, 1, 3],\n [2, 4, 5, 3, 1],\n [2, 5, 1, 3, 4],\n [2, 5, 1, 4, 3],\n [2, 5, 3, 1, 4],\n [2, 5, 3, 4, 1],\n [2, 5, 4, 1, 3],\n [2, 5, 4, 3, 1],\n [3, 1, 2, 4, 5],\n [3, 1, 2, 5, 4],\n [3, 1, 4, 2, 5],\n [3, 1, 4, 5, 2],\n [3, 1, 5, 2, 4],\n [3, 1, 5, 4, 2],\n [3, 2, 1, 4, 5],\n [3, 2, 1, 5, 4],\n [3, 2, 4, 1, 5],\n [3, 2, 4, 5, 1],\n [3, 2, 5, 1, 4],\n [3, 2, 5, 4, 1],\n [3, 4, 1, 2, 5],\n [3, 4, 1, 5, 2],\n [3, 4, 2, 1, 5],\n [3, 4, 2, 5, 1],\n [3, 4, 5, 1, 2],\n [3, 4, 5, 2, 1],\n [3, 5, 1, 2, 4],\n [3, 5, 1, 4, 2],\n [3, 5, 2, 1, 4],\n [3, 5, 2, 4, 1],\n [3, 5, 4, 1, 2],\n [3, 5, 4, 2, 1],\n [4, 1, 2, 3, 5],\n [4, 1, 2, 5, 3],\n [4, 1, 3, 2, 5],\n [4, 1, 3, 5, 2],\n [4, 1, 5, 2, 3],\n [4, 1, 5, 3, 2],\n [4, 2, 1, 3, 5],\n [4, 2, 1, 5, 3],\n [4, 2, 3, 1, 5],\n [4, 2, 3, 5, 1],\n [4, 2, 5, 1, 3],\n [4, 2, 5, 3, 1],\n [4, 3, 1, 2, 5],\n [4, 3, 1, 5, 2],\n [4, 3, 2, 1, 5],\n [4, 3, 2, 5, 1],\n [4, 3, 5, 1, 2],\n [4, 3, 5, 2, 1],\n [4, 5, 1, 2, 3],\n [4, 5, 1, 3, 2],\n [4, 5, 2, 1, 3],\n [4, 5, 2, 3, 1],\n [4, 5, 3, 1, 2],\n [4, 5, 3, 2, 1],\n [5, 1, 2, 3, 4],\n [5, 1, 2, 4, 3],\n [5, 1, 3, 2, 4],\n [5, 1, 3, 4, 2],\n [5, 1, 4, 2, 3],\n [5, 1, 4, 3, 2],\n [5, 2, 1, 3, 4],\n [5, 2, 1, 4, 3],\n [5, 2, 3, 1, 4],\n [5, 2, 3, 4, 1],\n [5, 2, 4, 1, 3],\n [5, 2, 4, 3, 1],\n [5, 3, 1, 2, 4],\n [5, 3, 1, 4, 2],\n [5, 3, 2, 1, 4],\n [5, 3, 2, 4, 1],\n [5, 3, 4, 1, 2],\n [5, 3, 4, 2, 1],\n [5, 4, 1, 2, 3],\n [5, 4, 1, 3, 2],\n [5, 4, 2, 1, 3],\n [5, 4, 2, 3, 1],\n [5, 4, 3, 1, 2],\n [5, 4, 3, 2, 1]]"
     },
     "metadata": {},
     "execution_count": 89
    }
   ],
   "source": [
    "set_num = {1, 2, 3, 4, 5}\n",
    "\n",
    "perm(set_num)\n"
   ]
  },
  {
   "cell_type": "code",
   "execution_count": 87,
   "metadata": {},
   "outputs": [
    {
     "output_type": "execute_result",
     "data": {
      "text/plain": "[4, 1, 2, 3]"
     },
     "metadata": {},
     "execution_count": 87
    }
   ],
   "source": [
    "num = [1, 2, 3]\n",
    "num.insert(0, 4)\n",
    "num"
   ]
  },
  {
   "cell_type": "code",
   "execution_count": 86,
   "metadata": {
    "tags": []
   },
   "outputs": [
    {
     "output_type": "stream",
     "name": "stdout",
     "text": "1\n2\n3\n4\n5\n6\n7\n8\n9\n10\n11\n12\n"
    }
   ],
   "source": [
    "# static variable 사용하는 방벙\n",
    "# 함수 안에 함수가 class인것 처럼 변수를 선언하고\n",
    "# 함수 바깥 scope에 foo.count = 0\n",
    "# 처럼 선언해주면 함수 바깥에서 이를 가져와 사용한다.a\n",
    "\n",
    "# static처럼 사용 가능\n",
    "\n",
    "def foo() :\n",
    "    foo.count += 1\n",
    "    print(foo.count)\n",
    "    if foo.count <= 10 :\n",
    "        foo()\n",
    "    \n",
    "\n",
    "foo.count = 0\n",
    "foo()\n",
    "foo()"
   ]
  },
  {
   "cell_type": "code",
   "execution_count": null,
   "metadata": {},
   "outputs": [],
   "source": []
  }
 ]
}