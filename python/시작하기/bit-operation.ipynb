{
 "metadata": {
  "language_info": {
   "codemirror_mode": {
    "name": "ipython",
    "version": 3
   },
   "file_extension": ".py",
   "mimetype": "text/x-python",
   "name": "python",
   "nbconvert_exporter": "python",
   "pygments_lexer": "ipython3",
   "version": 3
  },
  "orig_nbformat": 2,
  "kernelspec": {
   "name": "python_defaultSpec_1597120909040",
   "display_name": "Python 3.8.2 64-bit"
  }
 },
 "nbformat": 4,
 "nbformat_minor": 2,
 "cells": [
  {
   "cell_type": "code",
   "execution_count": 14,
   "metadata": {},
   "outputs": [],
   "source": [
    "def bit_print(i) :\n",
    "    for j in range(7, -1, -1) :\n",
    "        print('1' if (i & (1 << j)) else '0', end='')"
   ]
  },
  {
   "cell_type": "code",
   "execution_count": 15,
   "metadata": {},
   "outputs": [],
   "source": [
    "# i번째 bit가 1인지 파악\n",
    "# num & ( 1 << i )"
   ]
  },
  {
   "cell_type": "code",
   "execution_count": 16,
   "metadata": {
    "tags": []
   },
   "outputs": [
    {
     "output_type": "stream",
     "name": "stdout",
     "text": "-5 = 11111011\n-4 = 11111100\n-3 = 11111101\n-2 = 11111110\n-1 = 11111111\n 0 = 00000000\n 1 = 00000001\n 2 = 00000010\n 3 = 00000011\n 4 = 00000100\n 5 = 00000101\n"
    }
   ],
   "source": [
    "for i in range(-5, 6) :\n",
    "    print('%2d = ' % i, end='')\n",
    "    bit_print(i)\n",
    "    print()"
   ]
  },
  {
   "cell_type": "code",
   "execution_count": 19,
   "metadata": {
    "tags": []
   },
   "outputs": [
    {
     "output_type": "stream",
     "name": "stdout",
     "text": "16 = 00010000\n 1020304 = 00000100 00000011 00000010 00000001"
    }
   ],
   "source": [
    "# 비트 연산 2\n",
    "# 4byte 크기의 int 변수에 저장된 값들을 한 바이트씩 읽어서 비트형태로\n",
    "# 출력하는 예제\n",
    "\n",
    "a = 0x10\n",
    "x = 0x01020304\n",
    "\n",
    "print('%d = ' % a, end='')\n",
    "bit_print(a)\n",
    "print()\n",
    "\n",
    "print('%8x = ' % x, end='')\n",
    "for i in range(0, 25, 8) :\n",
    "    bit_print(x >> i)\n",
    "    print(end=' ')"
   ]
  },
  {
   "cell_type": "code",
   "execution_count": 20,
   "metadata": {},
   "outputs": [],
   "source": [
    "# Endianness\n",
    "# : 컴퓨터의 메모리와 같은 1차원의 공간에\n",
    "#   여러 개의 연속된 대상을 배열하는 방법을 의미하며\n",
    "#   HW 아키텍쳐마다 다름\n",
    "\n",
    "# little endian : 작은 값이 가장 처음에 나옴\n",
    "# big endian    : 큰 값이 가장 처음에 나옴"
   ]
  },
  {
   "cell_type": "code",
   "execution_count": 21,
   "metadata": {
    "tags": []
   },
   "outputs": [
    {
     "output_type": "stream",
     "name": "stdout",
     "text": "little endian\n"
    }
   ],
   "source": [
    "# endian 확인 방법\n",
    "\n",
    "n = 0x00111111\n",
    "print(\"little endian\" if n & 0x11 else 'big endian')"
   ]
  },
  {
   "cell_type": "code",
   "execution_count": null,
   "metadata": {},
   "outputs": [],
   "source": []
  }
 ]
}