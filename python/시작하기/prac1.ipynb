{
 "metadata": {
  "language_info": {
   "codemirror_mode": {
    "name": "ipython",
    "version": 3
   },
   "file_extension": ".py",
   "mimetype": "text/x-python",
   "name": "python",
   "nbconvert_exporter": "python",
   "pygments_lexer": "ipython3",
   "version": 3
  },
  "orig_nbformat": 2,
  "kernelspec": {
   "name": "python_defaultSpec_1597125986915",
   "display_name": "Python 3.8.2 64-bit"
  }
 },
 "nbformat": 4,
 "nbformat_minor": 2,
 "cells": [
  {
   "cell_type": "markdown",
   "metadata": {},
   "source": [
    "'''\n",
    "0보다 크고 1미만인 십진수 N을 이진수로 바꾸려고 한다. 예를 들어 0.625를 이진 수로 바꾸면 0.101이 된다.\n",
    "\n",
    "N = 0.625\n",
    "0.101 (이진수)\n",
    "= 1*2-1 + 0*2-2 + 1*2-3\n",
    "= 0.5 + 0 + 0.125\n",
    "= 0.625\n",
    "\n",
    "N을 소수점 아래 12자리 이내인 이진수로 표시할 수 있으면 0.을 제외한 나머지 숫자를 출력하고, 13자리 이상이 필요한 경우에는 ‘overflow’를 출력하는 프로그램을 작성하시오.\n",
    "\n",
    "\n",
    "[입력]\n",
    "\n",
    "첫 줄에 테스트케이스의 수 T가 주어진다. 1<=T<=50\n",
    "\n",
    "다음 줄부터 테스트 케이스의 별로 소수점 아래가 12자리 이내인 N이 주어진다.\n",
    "\n",
    "\n",
    "[출력]\n",
    "\n",
    "각 줄마다 \"#T\" (T는 테스트 케이스 번호)를 출력한 뒤, 답을 출력한다.\n",
    "'''"
   ]
  },
  {
   "cell_type": "code",
   "execution_count": 22,
   "metadata": {},
   "outputs": [],
   "source": [
    "# define function\n",
    "\n",
    "def foo(i) :\n",
    "    to_ret = \"\"\n",
    "    digits = 0\n",
    "\n",
    "    while(i == 0) :\n",
    "        i *= 10\n",
    "        to_ret += ('1' if i > 0 else '0')\n",
    "        digits += 1\n",
    "    \n",
    "        print(to_ret)\n",
    "\n",
    "    if digits < 13 :\n",
    "        return to_ret\n",
    "    else :\n",
    "        return 'overflow'"
   ]
  },
  {
   "cell_type": "code",
   "execution_count": 23,
   "metadata": {
    "tags": []
   },
   "outputs": [
    {
     "output_type": "stream",
     "name": "stdout",
     "text": "#1 \n"
    }
   ],
   "source": [
    "T = int(input())\n",
    "\n",
    "for i in range(1, T+1) :\n",
    "    num = float(input())\n",
    "    answer = foo(num)\n",
    "\n",
    "    print(\"#{0} {1}\".format(i, answer))"
   ]
  },
  {
   "cell_type": "code",
   "execution_count": null,
   "metadata": {},
   "outputs": [],
   "source": []
  }
 ]
}