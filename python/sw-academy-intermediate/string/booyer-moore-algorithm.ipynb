{
 "metadata": {
  "language_info": {
   "codemirror_mode": {
    "name": "ipython",
    "version": 3
   },
   "file_extension": ".py",
   "mimetype": "text/x-python",
   "name": "python",
   "nbconvert_exporter": "python",
   "pygments_lexer": "ipython3",
   "version": "3.8.2-final"
  },
  "orig_nbformat": 2,
  "kernelspec": {
   "name": "python_defaultSpec_1597733681773",
   "display_name": "Python 3.8.2 64-bit"
  }
 },
 "nbformat": 4,
 "nbformat_minor": 2,
 "cells": [
  {
   "cell_type": "code",
   "execution_count": null,
   "metadata": {},
   "outputs": [],
   "source": [
    "# 비교할 문자열과 패턴을 비교하는데 패턴이 먼저 비교할 문자열보다\n",
    "# 작아야할 것이며,\n",
    "# 작다면 패턴문자열의 가장 마지막 인덱스부터 차례로 비교한다.\n",
    "# 패턴의 첫번째 문자까지 같으면 패턴을 찾은 것이다.\n",
    "# 그러나 다른 문자가 발생할 것이고, 발생했다면 주어진 패턴 안에서\n",
    "# 해당 문자를 찾는다 이 문자는 여러개가 있을 수 있을것이고\n",
    "# 해당 문자를 뒤에서부터 탐색하여 최초로 나온 인덱스에 있는\n",
    "# 문자로 설정한다."
   ]
  },
  {
   "cell_type": "code",
   "execution_count": null,
   "metadata": {},
   "outputs": [],
   "source": [
    "# ex indeex     indeieindeex\n",
    "#               indeex\n",
    "# 먼저는 오른쪽에 있는 e에 맞추고, 다음에 왼쪽에 있는 e에 맞춰봄\n",
    "#                indeex\n",
    "#                 indeex\n",
    "#                     indeex    -> 패턴 찾음"
   ]
  },
  {
   "cell_type": "code",
   "execution_count": 2,
   "metadata": {},
   "outputs": [
    {
     "output_type": "error",
     "ename": "NameError",
     "evalue": "name 'skip' is not defined",
     "traceback": [
      "\u001b[0;31m---------------------------------------------------------------------------\u001b[0m",
      "\u001b[0;31mNameError\u001b[0m                                 Traceback (most recent call last)",
      "\u001b[0;32m<ipython-input-2-c6b35cc6134d>\u001b[0m in \u001b[0;36m<module>\u001b[0;34m\u001b[0m\n\u001b[1;32m     20\u001b[0m                 \u001b[0;32mif\u001b[0m \u001b[0mpattern\u001b[0m\u001b[0;34m[\u001b[0m\u001b[0mj\u001b[0m\u001b[0;34m]\u001b[0m \u001b[0;34m==\u001b[0m \u001b[0mwrongChInToFindString\u001b[0m \u001b[0;34m:\u001b[0m \u001b[0mskip\u001b[0m \u001b[0;34m=\u001b[0m \u001b[0mi\u001b[0m \u001b[0;34m-\u001b[0m \u001b[0mj\u001b[0m \u001b[0;34m+\u001b[0m \u001b[0;36m1\u001b[0m\u001b[0;34m\u001b[0m\u001b[0;34m\u001b[0m\u001b[0m\n\u001b[1;32m     21\u001b[0m                 \u001b[0;32melse\u001b[0m \u001b[0;34m:\u001b[0m \u001b[0mskip\u001b[0m \u001b[0;34m=\u001b[0m \u001b[0mlen\u001b[0m\u001b[0;34m(\u001b[0m\u001b[0mpattern\u001b[0m\u001b[0;34m)\u001b[0m \u001b[0;34m-\u001b[0m \u001b[0mi\u001b[0m\u001b[0;34m\u001b[0m\u001b[0;34m\u001b[0m\u001b[0m\n\u001b[0;32m---> 22\u001b[0;31m             \u001b[0mfindIndex\u001b[0m \u001b[0;34m+=\u001b[0m \u001b[0mskip\u001b[0m\u001b[0;34m\u001b[0m\u001b[0;34m\u001b[0m\u001b[0m\n\u001b[0m\u001b[1;32m     23\u001b[0m \u001b[0;34m\u001b[0m\u001b[0m\n\u001b[1;32m     24\u001b[0m         \u001b[0;31m# 만약 마지막 문자까지 동일하다면 해당 패턴을 찾은것\u001b[0m\u001b[0;34m\u001b[0m\u001b[0;34m\u001b[0m\u001b[0;34m\u001b[0m\u001b[0m\n",
      "\u001b[0;31mNameError\u001b[0m: name 'skip' is not defined"
     ]
    }
   ],
   "source": [
    "# 조사를 시작하는 인덱스가 조사할 문자열의 마지막 인덱스 보다 작거나 같아야한다\n",
    "\n",
    "pattern = 'abc'\n",
    "toFindString = 'xxxxxabcxxxxx'\n",
    "\n",
    "findIndex = len(pattern) - 1\n",
    "\n",
    "\n",
    "while(findIndex < len(toFindString)) :\n",
    "    # 패턴문과 조사할 문자열을 차례대로 비교한다\n",
    "    for i in range(0, len(pattern)) :\n",
    "        # 만약 다른 문자가 있다면 해당 인덱스를 저장하고\n",
    "        # 패턴문을 마지막 인덱스 (len(pattern) - 1) 에서부터 i번쨰\n",
    "        # 에 있는 인덱스부터 시작하여 해당 인덱스까지 몇 칸을 shift해야하는지\n",
    "        # 조사\n",
    "\n",
    "        if pattern[len(pattern)-1-i] != toFindString[findIndex-i] :\n",
    "            wrongChInToFindString = toFindString[findIndex-i]\n",
    "\n",
    "            skip = 0\n",
    "            for j in range(len(pattern)-1-i, -1, -1) :\n",
    "                if pattern[j] == wrongChInToFindString : \n",
    "                    skip = i - j + 1\n",
    "                    break\n",
    "                else : \n",
    "                    if j == 0 :\n",
    "                    skip = len(pattern) - i\n",
    "\n",
    "            findIndex += skip\n",
    "\n",
    "        # 만약 마지막 문자까지 동일하다면 해당 패턴을 찾은것\n",
    "        if i == len(pattern) - 1 and skip == 0 : \n",
    "            print('1')\n",
    "        # 그렇지 않다면 새로운 findIndex부터 시작\n",
    "        else : break\n",
    "# while문을 빠져나왔다면 찾지 못한 것이므로\n",
    "# return 0\n",
    "print('1')\n",
    "\n"
   ]
  },
  {
   "cell_type": "code",
   "execution_count": null,
   "metadata": {},
   "outputs": [],
   "source": []
  }
 ]
}