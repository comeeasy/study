{
 "metadata": {
  "language_info": {
   "codemirror_mode": {
    "name": "ipython",
    "version": 3
   },
   "file_extension": ".py",
   "mimetype": "text/x-python",
   "name": "python",
   "nbconvert_exporter": "python",
   "pygments_lexer": "ipython3",
   "version": "3.8.2-final"
  },
  "orig_nbformat": 2,
  "kernelspec": {
   "name": "python_defaultSpec_1597743201144",
   "display_name": "Python 3.8.2 64-bit"
  }
 },
 "nbformat": 4,
 "nbformat_minor": 2,
 "cells": [
  {
   "cell_type": "code",
   "execution_count": 1,
   "metadata": {
    "tags": []
   },
   "outputs": [
    {
     "output_type": "stream",
     "name": "stdout",
     "text": "[1, 2, 2, 3, 3, 3, 4, 4, 4, 4]\n{1: 1, 2: 2, 3: 3, 4: 4}\n"
    }
   ],
   "source": [
    "# num-of-ch.py\n",
    "\n",
    "'''\n",
    "두 개의 문자열 str1과 str2가 주어진다. 문자열 str1에 포함된 글자들이 str2에 몇 개씩 들어있는지 찾고, \n",
    "그중 가장 많은 글자의 개수를 출력하는 프로그램을 만드시오.\n",
    "예를 들어 str1 = “ABCA”, str2 = “ABABCA”인 경우, str1의 A가 str2에 3개 있으므로 \n",
    "가장 많은 글자가 되고 3을 출력한다.\n",
    "파이썬의 경우 딕셔너리를 이용할 수 있다.\n",
    "\n",
    "[입력]\n",
    "\n",
    "첫 줄에 테스트 케이스 개수 T가 주어진다.  1≤T≤50\n",
    "다음 줄부터 테스트 케이스 별로 길이가 N인 문자열 str1과 길이가 M인 str2가 각각 다른 줄에 주어진다. 5≤N≤100, 10≤M≤1000, N≤M\n",
    "\n",
    "[출력]\n",
    "\n",
    "각 줄마다 \"#T\" (T는 테스트 케이스 번호)를 출력한 뒤, 답을 출력한다.\n",
    "'''\n",
    "\n",
    "str = '1223334444'\n",
    "\n",
    "str_list = list(map(int, list(str)))\n",
    "print(str_list)\n",
    "\n",
    "str_dic = {num: str_list.count(num) for num in set(str_list)}\n",
    "print(str_dic)"
   ]
  },
  {
   "cell_type": "code",
   "execution_count": null,
   "metadata": {},
   "outputs": [],
   "source": []
  }
 ]
}