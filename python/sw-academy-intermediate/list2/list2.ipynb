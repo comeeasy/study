{
 "metadata": {
  "language_info": {
   "codemirror_mode": {
    "name": "ipython",
    "version": 3
   },
   "file_extension": ".py",
   "mimetype": "text/x-python",
   "name": "python",
   "nbconvert_exporter": "python",
   "pygments_lexer": "ipython3",
   "version": 3
  },
  "orig_nbformat": 2,
  "kernelspec": {
   "name": "python_defaultSpec_1597377697138",
   "display_name": "Python 3.8.2 64-bit"
  }
 },
 "nbformat": 4,
 "nbformat_minor": 2,
 "cells": [
  {
   "cell_type": "code",
   "execution_count": 4,
   "metadata": {
    "tags": []
   },
   "outputs": [
    {
     "output_type": "stream",
     "name": "stdout",
     "text": "[0, 0, 0, 0, 0]\n[2, 4, 6, 8]\n"
    }
   ],
   "source": [
    "# list 초기화 (== 선언)\n",
    "\n",
    "#arr = [0, 0, 0, 0, 0]\n",
    "arr = [0] * 5\n",
    "arr1 = [i for i in  range(2, 9, 2)]\n",
    "print(arr)\n",
    "print(arr1)\n",
    "\n"
   ]
  },
  {
   "cell_type": "code",
   "execution_count": 7,
   "metadata": {
    "tags": []
   },
   "outputs": [
    {
     "output_type": "stream",
     "name": "stdout",
     "text": "[[1, 2, 3], [4, 5, 6], [7, 8, 9]]\n[[1, 2, 3], [1, 2, 3], [1, 2, 3]]\n[[1, 2, 3], [4, 5, 6], [7, 8, 9]]\n[[0, 0], [0, 1], [1, 0], [1, 1], [2, 0], [2, 1]]\n"
    }
   ],
   "source": [
    "# n차원 list 선언, 초기화\n",
    "\n",
    "brr0 = [[1, 2, 3], [4, 5, 6], [7, 8, 9]]\n",
    "brr1 = [[1, 2, 3]] * 3\n",
    "brr2 = [[i, i+1, i+2] for i in range(1, 8, 3)]\n",
    "brr3 = [[i, j] for  i in range(3) for j in range(2)]\n",
    "\n",
    "print(brr0)\n",
    "print(brr1)\n",
    "print(brr2)\n",
    "print(brr3)"
   ]
  },
  {
   "cell_type": "code",
   "execution_count": 12,
   "metadata": {},
   "outputs": [
    {
     "output_type": "execute_result",
     "data": {
      "text/plain": "[[0, 1, 0, 0], [0, 0, 0, 0], [0, 0, 1, 0]]"
     },
     "metadata": {},
     "execution_count": 12
    }
   ],
   "source": [
    "# n차원 list 입력받기\n",
    "# 3 4\n",
    "# 0 1 0 0\n",
    "# 0 0 0 0\n",
    "# 0 0 1 0\n",
    "\n",
    "# ex1\n",
    "n, m = map(int, input().split())\n",
    "mylist = [0 for i in range(n)]\n",
    "for i in range(n) :\n",
    "    mylist[i] = list(map(int, input().split()))\n",
    "\n",
    "mylist"
   ]
  },
  {
   "cell_type": "code",
   "execution_count": 14,
   "metadata": {
    "tags": []
   },
   "outputs": [
    {
     "output_type": "stream",
     "name": "stdout",
     "text": "[[0, 1, 0, 0], [0, 0, 0, 0], [0, 0, 1, 0]]\n[[0, 1], [2, 2]]\n"
    }
   ],
   "source": [
    "# n차원 list에서 원하는 데이터의 위치 찾기\n",
    "n, m = map(int, input().split())\n",
    "\n",
    "newlist = []\n",
    "mylist = [0 for i in range(n)]\n",
    "for i in range(n) :\n",
    "    mylist[i] = list(map(int, input().split()))\n",
    "    for j in range(m) :\n",
    "        if mylist[i][j] == 1 :\n",
    "            newlist.append([i, j])\n",
    "\n",
    "print(mylist)\n",
    "print(newlist)"
   ]
  },
  {
   "cell_type": "code",
   "execution_count": 24,
   "metadata": {
    "tags": []
   },
   "outputs": [
    {
     "output_type": "stream",
     "name": "stdout",
     "text": "[0, 0], [0, 1], [0, 2], [0, 3], [0, 4], \n[1, 0], [1, 1], [1, 2], [1, 3], [1, 4], \n[2, 0], [2, 1], [2, 2], [2, 3], [2, 4], \n[3, 0], [3, 1], [3, 2], [3, 3], [3, 4], \n[4, 0], [4, 1], [4, 2], [4, 3], [4, 4], \n"
    }
   ],
   "source": [
    "# delta 값을 이용한 2차 list 탐색\n",
    "\n",
    "n = 5\n",
    "\n",
    "arr = [[i, j] for i in range(n) for j in range(n)]\n",
    "dx = [ 0, 0, -1, 1]  # delta x\n",
    "dy = [-1, 1,  0, 0]  # delta y\n",
    "#     남  북  서  동  \n",
    "\n",
    "for x in range(1, len(arr)-1) :\n",
    "    for y in range(1, len(arr[x])-1) :\n",
    "        for i in range(4) :\n",
    "            testX = x + dx[i]\n",
    "            testY = y + dy[i]\n",
    "            print(arr[testX][testY])\n",
    "\n",
    "for i in range(n) :\n",
    "    for j in range(n) :\n",
    "        print(arr[n*i + j], end=', ')\n",
    "    print()\n"
   ]
  },
  {
   "cell_type": "code",
   "execution_count": 30,
   "metadata": {
    "tags": []
   },
   "outputs": [
    {
     "output_type": "stream",
     "name": "stdout",
     "text": "[1, 2, 3]\n[4, 5, 6]\n[7, 8, 9]\n\n[1, 4, 7]\n[2, 5, 8]\n[3, 6, 9]\n"
    }
   ],
   "source": [
    "# transpose\n",
    "arr = [[1, 2, 3], [4 ,5 ,6], [7 ,8, 9]]\n",
    "\n",
    "for i in range(3) :\n",
    "    print(arr[i])\n",
    "\n",
    "print()\n",
    "for i in range(3) :\n",
    "    for j in range(3) :\n",
    "        # diagonal elements 에 대해서는 교환을 실행하지 않음\n",
    "        if i < j :\n",
    "            # swap\n",
    "            arr[i][j], arr[j][i] = arr[j][i], arr[i][j]\n",
    "\n",
    "for i in range(3) :\n",
    "    print(arr[i])"
   ]
  },
  {
   "cell_type": "code",
   "execution_count": 31,
   "metadata": {},
   "outputs": [
    {
     "output_type": "execute_result",
     "data": {
      "text/plain": "[('a', 0), ('b', 1), ('c', 2)]"
     },
     "metadata": {},
     "execution_count": 31
    }
   ],
   "source": [
    "# zip inner function\n",
    "# zip(*iterable)\n",
    "\n",
    "alpha = ['a', 'b', 'c']\n",
    "index = [0, 1, 2]\n",
    "\n",
    "# tuple 객체로 묶어줌\n",
    "alpha_index = list(zip(alpha, index))\n",
    "alpha_index"
   ]
  },
  {
   "cell_type": "code",
   "execution_count": 34,
   "metadata": {
    "tags": []
   },
   "outputs": [
    {
     "output_type": "stream",
     "name": "stdout",
     "text": "[(1, 4, 7), (2, 5, 8), (3, 6, 9)]\n"
    }
   ],
   "source": [
    "arr = [[1, 2, 3], [4, 5, 6], [7, 8, 9]]\n",
    "# *는 각각의 element들을 각각의 iterable object로 사용한다는 의미인듯\n",
    "print(list(zip(*arr)))\n",
    "# --> transpose"
   ]
  },
  {
   "cell_type": "code",
   "execution_count": 69,
   "metadata": {
    "tags": []
   },
   "outputs": [
    {
     "output_type": "stream",
     "name": "stdout",
     "text": "[0, 0, 0, 0]\n[[0, 0, 0, 0]]\n[0, 0, 0, 1]\n[[0, 0, 0, 0], [0, 0, 0, 1]]\n[0, 0, 1, 0]\n[[0, 0, 0, 0], [0, 0, 0, 1], [0, 0, 1, 0]]\n[0, 0, 1, 1]\n[[0, 0, 0, 0], [0, 0, 0, 1], [0, 0, 1, 0], [0, 0, 1, 1]]\n[0, 1, 0, 0]\n[[0, 0, 0, 0], [0, 0, 0, 1], [0, 0, 1, 0], [0, 0, 1, 1], [0, 1, 0, 0]]\n[0, 1, 0, 1]\n[[0, 0, 0, 0], [0, 0, 0, 1], [0, 0, 1, 0], [0, 0, 1, 1], [0, 1, 0, 0], [0, 1, 0, 1]]\n[0, 1, 1, 0]\n[[0, 0, 0, 0], [0, 0, 0, 1], [0, 0, 1, 0], [0, 0, 1, 1], [0, 1, 0, 0], [0, 1, 0, 1], [0, 1, 1, 0]]\n[0, 1, 1, 1]\n[[0, 0, 0, 0], [0, 0, 0, 1], [0, 0, 1, 0], [0, 0, 1, 1], [0, 1, 0, 0], [0, 1, 0, 1], [0, 1, 1, 0], [0, 1, 1, 1]]\n[1, 0, 0, 0]\n[[0, 0, 0, 0], [0, 0, 0, 1], [0, 0, 1, 0], [0, 0, 1, 1], [0, 1, 0, 0], [0, 1, 0, 1], [0, 1, 1, 0], [0, 1, 1, 1], [1, 0, 0, 0]]\n[1, 0, 0, 1]\n[[0, 0, 0, 0], [0, 0, 0, 1], [0, 0, 1, 0], [0, 0, 1, 1], [0, 1, 0, 0], [0, 1, 0, 1], [0, 1, 1, 0], [0, 1, 1, 1], [1, 0, 0, 0], [1, 0, 0, 1]]\n[1, 0, 1, 0]\n[[0, 0, 0, 0], [0, 0, 0, 1], [0, 0, 1, 0], [0, 0, 1, 1], [0, 1, 0, 0], [0, 1, 0, 1], [0, 1, 1, 0], [0, 1, 1, 1], [1, 0, 0, 0], [1, 0, 0, 1], [1, 0, 1, 0]]\n[1, 0, 1, 1]\n[[0, 0, 0, 0], [0, 0, 0, 1], [0, 0, 1, 0], [0, 0, 1, 1], [0, 1, 0, 0], [0, 1, 0, 1], [0, 1, 1, 0], [0, 1, 1, 1], [1, 0, 0, 0], [1, 0, 0, 1], [1, 0, 1, 0], [1, 0, 1, 1]]\n[1, 1, 0, 0]\n[[0, 0, 0, 0], [0, 0, 0, 1], [0, 0, 1, 0], [0, 0, 1, 1], [0, 1, 0, 0], [0, 1, 0, 1], [0, 1, 1, 0], [0, 1, 1, 1], [1, 0, 0, 0], [1, 0, 0, 1], [1, 0, 1, 0], [1, 0, 1, 1], [1, 1, 0, 0]]\n[1, 1, 0, 1]\n[[0, 0, 0, 0], [0, 0, 0, 1], [0, 0, 1, 0], [0, 0, 1, 1], [0, 1, 0, 0], [0, 1, 0, 1], [0, 1, 1, 0], [0, 1, 1, 1], [1, 0, 0, 0], [1, 0, 0, 1], [1, 0, 1, 0], [1, 0, 1, 1], [1, 1, 0, 0], [1, 1, 0, 1]]\n[1, 1, 1, 0]\n[[0, 0, 0, 0], [0, 0, 0, 1], [0, 0, 1, 0], [0, 0, 1, 1], [0, 1, 0, 0], [0, 1, 0, 1], [0, 1, 1, 0], [0, 1, 1, 1], [1, 0, 0, 0], [1, 0, 0, 1], [1, 0, 1, 0], [1, 0, 1, 1], [1, 1, 0, 0], [1, 1, 0, 1], [1, 1, 1, 0]]\n[1, 1, 1, 1]\n[[0, 0, 0, 0], [0, 0, 0, 1], [0, 0, 1, 0], [0, 0, 1, 1], [0, 1, 0, 0], [0, 1, 0, 1], [0, 1, 1, 0], [0, 1, 1, 1], [1, 0, 0, 0], [1, 0, 0, 1], [1, 0, 1, 0], [1, 0, 1, 1], [1, 1, 0, 0], [1, 1, 0, 1], [1, 1, 1, 0], [1, 1, 1, 1]]\n"
    }
   ],
   "source": [
    "# 부분집합\n",
    "# 유한 개의 정수로 이루어진 집합이 있을 때, 이 집합의 부분 집합 중에서\n",
    "# 그 집합의 우너소를 모두 더한 값이  0이 되는 경우가 있는지를 알아내는 문제\n",
    "\n",
    "# {-7, -3, -2, 5, 8}\n",
    "# {-3, -2, 5}은 부분집합이면서 모두 더한 값이 0인 부분집합\n",
    "\n",
    "# 완전 탐색 기법으로 생각하기전에 주어진 집합의 부분집합을 생성해야한다\n",
    "# loop를 이용하여 부분 집합을 생성하는 방법\n",
    "\n",
    "# 부분집합은 각각의 elem이 있을 수도 있고 없을 수도 없는 것을 이용하여\n",
    "# 생성한다. 아래 코드는 있는 경우는 1, 없는 경우를 0으로 표현하였다\n",
    "bits = []\n",
    "bit = [0, 0, 0 ,0]\n",
    "for i in range(2) :\n",
    "    bit[0] = i                      # 0번째 원소\n",
    "    for j in range(2) :         \n",
    "        bit[1] = j                  # 1번째 원소\n",
    "        for k in range(2) :\n",
    "            bit[2] = k              # 2번째 원소\n",
    "            for l in range(2) :\n",
    "                bit[3] = l            # 3번째 원소\n",
    "                print(bit)  \n",
    "                bits.append(list(bit))    \n",
    "                print(bits)\n",
    "\n",
    "# 아래와 같은 오류를 일으키는 이유는 python이 객체를 포인터로 가리키기 때문에\n",
    "# bit가 변하면 아래의 모든 값이 변하는 것이다. \n",
    "# 따라서 항상 새로운 객체를 생성하여 append 시켜줘야한다."
   ]
  },
  {
   "cell_type": "code",
   "execution_count": 95,
   "metadata": {
    "tags": []
   },
   "outputs": [
    {
     "output_type": "execute_result",
     "data": {
      "text/plain": "[[],\n [4],\n [3],\n [3, 4],\n [2],\n [2, 4],\n [2, 3],\n [2, 3, 4],\n [1],\n [1, 4],\n [1, 3],\n [1, 3, 4],\n [1, 2],\n [1, 2, 4],\n [1, 2, 3],\n [1, 2, 3, 4]]"
     },
     "metadata": {},
     "execution_count": 95
    }
   ],
   "source": [
    "# 위 bit list를 이용하여 해당 elem을 포함할지 안할지를 결정한다\n",
    "list_set = [1, 2, 3, 4]\n",
    "subset_list = []\n",
    "\n",
    "for bit in bits :\n",
    "    subset = set()\n",
    "    #print(\"bit : {0}\".format(bit))\n",
    "    for i in range(4) :\n",
    "        if bit[i] == 1 :\n",
    "            subset.add(list_set[i])\n",
    "    subset_list.append(list(subset))\n",
    "        \n",
    "\n",
    "subset_list\n",
    "    "
   ]
  },
  {
   "cell_type": "code",
   "execution_count": 96,
   "metadata": {
    "tags": []
   },
   "outputs": [
    {
     "output_type": "stream",
     "name": "stdout",
     "text": "\n3,\n6,\n3,6,\n7,\n3,7,\n6,7,\n3,6,7,\n1,\n3,1,\n6,1,\n3,6,1,\n7,1,\n3,7,1,\n6,7,1,\n3,6,7,1,\n5,\n3,5,\n6,5,\n3,6,5,\n7,5,\n3,7,5,\n6,7,5,\n3,6,7,5,\n1,5,\n3,1,5,\n6,1,5,\n3,6,1,5,\n7,1,5,\n3,7,1,5,\n6,7,1,5,\n3,6,7,1,5,\n4,\n3,4,\n6,4,\n3,6,4,\n7,4,\n3,7,4,\n6,7,4,\n3,6,7,4,\n1,4,\n3,1,4,\n6,1,4,\n3,6,1,4,\n7,1,4,\n3,7,1,4,\n6,7,1,4,\n3,6,7,1,4,\n5,4,\n3,5,4,\n6,5,4,\n3,6,5,4,\n7,5,4,\n3,7,5,4,\n6,7,5,4,\n3,6,7,5,4,\n1,5,4,\n3,1,5,4,\n6,1,5,4,\n3,6,1,5,4,\n7,1,5,4,\n3,7,1,5,4,\n6,7,1,5,4,\n3,6,7,1,5,4,\n"
    }
   ],
   "source": [
    "# 부분집합을 구하는 알고리즘 2\n",
    "arr = [3, 6, 7, 1, 5, 4]\n",
    "n = len(arr) # n: 원소의 갯수\n",
    "\n",
    "# 0, 1, 2, 3, ... , 2^n 까지의 비트대로 출력한것\n",
    "for i in range(1<<n) : ## 2^n\n",
    "    for j in range(n) :\n",
    "        if i & (1 << j) :\n",
    "            print(arr[j], end=',')\n",
    "    print()"
   ]
  },
  {
   "cell_type": "code",
   "execution_count": null,
   "metadata": {},
   "outputs": [],
   "source": [
    "# Search\n",
    "\n"
   ]
  }
 ]
}