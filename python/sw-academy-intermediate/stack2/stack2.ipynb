{
 "metadata": {
  "language_info": {
   "codemirror_mode": {
    "name": "ipython",
    "version": 3
   },
   "file_extension": ".py",
   "mimetype": "text/x-python",
   "name": "python",
   "nbconvert_exporter": "python",
   "pygments_lexer": "ipython3",
   "version": 3
  },
  "orig_nbformat": 2
 },
 "nbformat": 4,
 "nbformat_minor": 2,
 "cells": [
  {
   "cell_type": "code",
   "execution_count": null,
   "metadata": {},
   "outputs": [],
   "source": [
    "# back tracking\n",
    "#   : 해를 찾는 도중에 '믹히면', 되돌아가서 다시\n",
    "#     해를 찾는 기법\n",
    "\n",
    "# 어떤 노드의 유망성을 점검한 후에 유망(promising)\n",
    "# 하지 않다고 결정되면 그 노드의 부모로 되돌아가(back tracking)\n",
    "# 다음 자식 노드로 감\n",
    "\n",
    "# back trackin 활용\n",
    "# 1. 미로\n",
    "\n",
    "#   - 입구와 출구가 주어진 미로에서 입구부터 출구까지\n",
    "#     경로를 찾는 문제\n",
    "#   - 이동할 수 있는 방향은 4방향으로 제한\n"
   ]
  }
 ]
}