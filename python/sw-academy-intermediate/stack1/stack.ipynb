{
 "metadata": {
  "language_info": {
   "codemirror_mode": {
    "name": "ipython",
    "version": 3
   },
   "file_extension": ".py",
   "mimetype": "text/x-python",
   "name": "python",
   "nbconvert_exporter": "python",
   "pygments_lexer": "ipython3",
   "version": "3.8.2-final"
  },
  "orig_nbformat": 2,
  "kernelspec": {
   "name": "python_defaultSpec_1597983788651",
   "display_name": "Python 3.8.2 64-bit"
  }
 },
 "nbformat": 4,
 "nbformat_minor": 2,
 "cells": [
  {
   "cell_type": "code",
   "execution_count": 1,
   "metadata": {},
   "outputs": [],
   "source": [
    "def push(item) :\n",
    "    s.append(item)\n",
    "\n",
    "def pop() :\n",
    "    if len(s) == 0 :\n",
    "        return 0\n",
    "    else :\n",
    "        # s는 stack이라고 여기는 list이며\n",
    "        # pop() 에는 인자로 인덱스가 들어간다\n",
    "        # -1 인덱스는 뒤에서 첫번째 인덱스이므로\n",
    "        # 마지막 요소를 return 한다\n",
    "        return s.pop(-1)\n",
    "    "
   ]
  },
  {
   "cell_type": "code",
   "execution_count": null,
   "metadata": {},
   "outputs": [],
   "source": [
    "# DP (Dynamic programming)\n",
    "\n",
    "#   : 먼저 입력 크기가 작은 부분 문제들을 모두 해결한 후에\n",
    "#     그 해들을 이용하여 보단 큰 크기의 부분 문제들을 해결\n",
    "\n",
    "#     최종적으로 원래 주어진 입력의 문제를 해결\n",
    "\n",
    "# 1. 문제를 부분 문제로 분할\n",
    "# 2. 부분 문제로 나누는 일을 끝냈으면 가장 작은 부분 문제부터\n",
    "#     해를 구함\n",
    "# 3. 그 결과는 테이블에 저장하고, 저장된 부분 문제의 해를 이용하여\n",
    "#    상위 문제의 해를 구함"
   ]
  }
 ]
}