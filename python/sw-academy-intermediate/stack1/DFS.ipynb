{
 "metadata": {
  "language_info": {
   "codemirror_mode": {
    "name": "ipython",
    "version": 3
   },
   "file_extension": ".py",
   "mimetype": "text/x-python",
   "name": "python",
   "nbconvert_exporter": "python",
   "pygments_lexer": "ipython3",
   "version": 3
  },
  "orig_nbformat": 2
 },
 "nbformat": 4,
 "nbformat_minor": 2,
 "cells": [
  {
   "cell_type": "code",
   "execution_count": null,
   "metadata": {},
   "outputs": [],
   "source": [
    "# stack을 이용하는 깊이 우선 탐색을 살펴보자\n",
    "\n",
    "# 1. \n",
    "# 시작 정점의 한 방향으로 갈 수 있는 경로가 있는 곳까지\n",
    "# 깊이 탐색\n",
    "# 2. \n",
    "# 더 이상 갈 곳이 없게 되면, 가장 마지막에 만났던 갈림길\n",
    "# 간선이 있는 정점으로 되돌아옴\n",
    "# 3.\n",
    "# 다른 방향의 정점으로 탐색을 계속 반복하여 결국 모든 정점을\n",
    "# 방문하여 순회\n"
   ]
  }
 ]
}