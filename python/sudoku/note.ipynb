{
 "metadata": {
  "language_info": {
   "codemirror_mode": {
    "name": "ipython",
    "version": 3
   },
   "file_extension": ".py",
   "mimetype": "text/x-python",
   "name": "python",
   "nbconvert_exporter": "python",
   "pygments_lexer": "ipython3",
   "version": "3.8.2-final"
  },
  "orig_nbformat": 2,
  "kernelspec": {
   "name": "python_defaultSpec_1598425356892",
   "display_name": "Python 3.8.2 64-bit"
  }
 },
 "nbformat": 4,
 "nbformat_minor": 2,
 "cells": [
  {
   "cell_type": "markdown",
   "metadata": {},
   "source": [
    "# 스도쿠 기본 규칙\n",
    "\n",
    "# 1. 3 * 3 n square matrix에 1 부터 9 까지의 숫자가\n",
    "#     중복되지 않게 들어가야함\n",
    "# 2. row, column에 대하여 1 부터 9 까지의 숫자가\n",
    "#       중복없이 들어가야함\n",
    "\n",
    "# 모든 9 * 9 칸 안에 모든 숫자에 대하여 위 1., 2. 규칙을 만족한다면\n",
    "# 게임이 끝난 것이다. \n",
    "\n",
    "# (0, 0) - (8, 8) 에 대하여 3 * 3 정사각행렬과\n",
    "# row, column을 return 하는 함수가 있어야한다.\n",
    "# 그래야 게임이 끝났는지 검사할 수 있다.\n",
    "\n",
    "# 각 위치마다 1., 2.를 조사하여 들어갈 수 있는 숫자의\n",
    "# 후보를 구할 수 있다. 이 후보들은 const하게 사용해야한다.\n",
    "\n",
    "# brute force 방식으로 먼저 문제를 풀어보자\n",
    "# 각 위치마다 후보를 구하여 모든 경우의 수를 탐색하여 정답인 경우\n",
    "# 결과를 출력하고 프로그램 종료\n",
    "\n",
    "# 입력 방식은 공백없이 빈 위치는 0으로 표시한다\n",
    "# ex)\n",
    "\n",
    "# 530070000\n",
    "# 600195000\n",
    "# 098000060\n",
    "# 800060003\n",
    "# 400803001\n",
    "# 700020006\n",
    "# 060000280\n",
    "# 000419005\n",
    "# 000080079\n",
    "\n",
    "# 위와 같이 입력받는다\n",
    "# 출력은 결과\n",
    "\n",
    "\n",
    "\n"
   ]
  },
  {
   "cell_type": "code",
   "execution_count": 2,
   "metadata": {},
   "outputs": [],
   "source": [
    "# 위치의 클래스를 정의한다.\n",
    "\n",
    "class loc() :\n",
    "    def __init__(self, row, column, number) :\n",
    "        self.row = row\n",
    "        self.column = column\n",
    "        self.number - number\n",
    "        # 빈 후보의 리스트를 할당한다.\n",
    "        self.candidate = []\n",
    "\n",
    "    def __repr__(self) :\n",
    "        print(self.number)\n"
   ]
  },
  {
   "cell_type": "code",
   "execution_count": 9,
   "metadata": {
    "tags": []
   },
   "outputs": [
    {
     "output_type": "execute_result",
     "data": {
      "text/plain": "[1, 2, 3, 4, 5, 6, 7, 8, 9]"
     },
     "metadata": {},
     "execution_count": 9
    }
   ],
   "source": [
    "a = [[1, 2, 3], [4, 5, 6], [7, 8, 9]]\n",
    "\n",
    "b = [a[row][column] for row in range(3)\n",
    "                    for column in range(3)]\n",
    "\n",
    "b\n"
   ]
  },
  {
   "cell_type": "code",
   "execution_count": 11,
   "metadata": {},
   "outputs": [],
   "source": [
    "def three_by_three_matrix(sudoku, row, column) :\n",
    "    startRowIdx    = row // 3\n",
    "    startColumnIdx = column // 3\n",
    "    \n",
    "    return [a[row][column] for row in range(startRowIdx, startRowIdx+3)\n",
    "                           for column in range(startColumnIdx, startColumnIdx+3)]"
   ]
  },
  {
   "cell_type": "code",
   "execution_count": null,
   "metadata": {},
   "outputs": [],
   "source": []
  }
 ]
}