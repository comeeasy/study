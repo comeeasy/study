{
 "metadata": {
  "language_info": {
   "codemirror_mode": {
    "name": "ipython",
    "version": 3
   },
   "file_extension": ".py",
   "mimetype": "text/x-python",
   "name": "python",
   "nbconvert_exporter": "python",
   "pygments_lexer": "ipython3",
   "version": 3
  },
  "orig_nbformat": 2
 },
 "nbformat": 4,
 "nbformat_minor": 2,
 "cells": [
  {
   "cell_type": "code",
   "execution_count": null,
   "metadata": {},
   "outputs": [],
   "source": [
    "def solution(skill, skill_trees) :\n",
    "    answer = 0\n",
    "\n",
    "    for skills in skill_trees :\n",
    "        skill_list = list(skill)\n",
    "\n",
    "        for s in skills :\n",
    "            if s in skill :\n",
    "                if s != skill_list.pop(0)\n",
    "                    break\n",
    "        else :\n",
    "            answer += 1\n",
    "    \n",
    "    return answer"
   ]
  }
 ]
}