{
 "metadata": {
  "language_info": {
   "codemirror_mode": {
    "name": "ipython",
    "version": 3
   },
   "file_extension": ".py",
   "mimetype": "text/x-python",
   "name": "python",
   "nbconvert_exporter": "python",
   "pygments_lexer": "ipython3",
   "version": "3.8.2-final"
  },
  "orig_nbformat": 2,
  "kernelspec": {
   "name": "python_defaultSpec_1596175020081",
   "display_name": "Python 3.8.2 64-bit"
  }
 },
 "nbformat": 4,
 "nbformat_minor": 2,
 "cells": [
  {
   "cell_type": "code",
   "execution_count": 74,
   "metadata": {
    "tags": []
   },
   "outputs": [
    {
     "output_type": "stream",
     "name": "stdout",
     "text": "Hello Jupitor\n"
    }
   ],
   "source": [
    "print('Hello Jupitor')"
   ]
  },
  {
   "cell_type": "code",
   "execution_count": 75,
   "metadata": {},
   "outputs": [],
   "source": [
    "import numpy as np\n",
    "import pandas as pd"
   ]
  },
  {
   "cell_type": "code",
   "execution_count": 76,
   "metadata": {},
   "outputs": [
    {
     "output_type": "execute_result",
     "data": {
      "text/plain": "0    1.0\n1    3.0\n2    5.0\n3    NaN\n4    6.0\n5    8.0\ndtype: float64"
     },
     "metadata": {},
     "execution_count": 76
    }
   ],
   "source": [
    "s = pd.Series([1, 3, 5, np.nan, 6, 8])\n",
    "s"
   ]
  },
  {
   "cell_type": "code",
   "execution_count": 77,
   "metadata": {
    "tags": []
   },
   "outputs": [
    {
     "output_type": "stream",
     "name": "stdout",
     "text": "DatetimeIndex(['2013-01-01', '2013-01-02', '2013-01-03', '2013-01-04',\n               '2013-01-05', '2013-01-06'],\n              dtype='datetime64[ns]', freq='D')\nDatetimeIndex(['2013-01-31', '2013-02-28', '2013-03-31', '2013-04-30',\n               '2013-05-31', '2013-06-30'],\n              dtype='datetime64[ns]', freq='M')\nDatetimeIndex(['2013-12-31', '2014-12-31', '2015-12-31', '2016-12-31',\n               '2017-12-31', '2018-12-31'],\n              dtype='datetime64[ns]', freq='A-DEC')\n"
    }
   ],
   "source": [
    "dates = pd.date_range('20130101', periods=6, freq='D')\n",
    "print(dates)\n",
    "dates2 = pd.date_range('20130101', periods=6, freq='M')\n",
    "print(dates2)\n",
    "dates3 = pd.date_range('20130101', periods=6, freq='Y')\n",
    "print(dates3)"
   ]
  },
  {
   "cell_type": "code",
   "execution_count": 78,
   "metadata": {},
   "outputs": [
    {
     "output_type": "execute_result",
     "data": {
      "text/plain": "                   A         B         C         D\n2013-01-01 -1.861670  1.507707  0.634822 -1.225244\n2013-01-02  1.175150  0.809828 -0.477383  0.410365\n2013-01-03  0.572354  0.802708 -0.653188 -0.485505\n2013-01-04  0.150041 -0.311701 -0.113150  1.307652\n2013-01-05  1.365597  0.677248 -1.353817 -0.444635\n2013-01-06 -1.577094 -0.527702  1.976511 -0.465774",
      "text/html": "<div>\n<style scoped>\n    .dataframe tbody tr th:only-of-type {\n        vertical-align: middle;\n    }\n\n    .dataframe tbody tr th {\n        vertical-align: top;\n    }\n\n    .dataframe thead th {\n        text-align: right;\n    }\n</style>\n<table border=\"1\" class=\"dataframe\">\n  <thead>\n    <tr style=\"text-align: right;\">\n      <th></th>\n      <th>A</th>\n      <th>B</th>\n      <th>C</th>\n      <th>D</th>\n    </tr>\n  </thead>\n  <tbody>\n    <tr>\n      <th>2013-01-01</th>\n      <td>-1.861670</td>\n      <td>1.507707</td>\n      <td>0.634822</td>\n      <td>-1.225244</td>\n    </tr>\n    <tr>\n      <th>2013-01-02</th>\n      <td>1.175150</td>\n      <td>0.809828</td>\n      <td>-0.477383</td>\n      <td>0.410365</td>\n    </tr>\n    <tr>\n      <th>2013-01-03</th>\n      <td>0.572354</td>\n      <td>0.802708</td>\n      <td>-0.653188</td>\n      <td>-0.485505</td>\n    </tr>\n    <tr>\n      <th>2013-01-04</th>\n      <td>0.150041</td>\n      <td>-0.311701</td>\n      <td>-0.113150</td>\n      <td>1.307652</td>\n    </tr>\n    <tr>\n      <th>2013-01-05</th>\n      <td>1.365597</td>\n      <td>0.677248</td>\n      <td>-1.353817</td>\n      <td>-0.444635</td>\n    </tr>\n    <tr>\n      <th>2013-01-06</th>\n      <td>-1.577094</td>\n      <td>-0.527702</td>\n      <td>1.976511</td>\n      <td>-0.465774</td>\n    </tr>\n  </tbody>\n</table>\n</div>"
     },
     "metadata": {},
     "execution_count": 78
    }
   ],
   "source": [
    "# Creating a DataFrame by passing a BumPy array, with a datetime index\n",
    "# and labeled columns\n",
    "\n",
    "df = pd.DataFrame(np.random.randn(6, 4), index=dates, columns=list('ABCD'))\n",
    "df"
   ]
  },
  {
   "cell_type": "code",
   "execution_count": 79,
   "metadata": {},
   "outputs": [
    {
     "output_type": "execute_result",
     "data": {
      "text/plain": "     A          B    C  D      E    F\n0  1.0 2013-01-02  1.0  3   test  foo\n1  1.0 2013-01-02  1.0  3  train  foo\n2  1.0 2013-01-02  1.0  3   test  foo\n3  1.0 2013-01-02  1.0  3  train  foo",
      "text/html": "<div>\n<style scoped>\n    .dataframe tbody tr th:only-of-type {\n        vertical-align: middle;\n    }\n\n    .dataframe tbody tr th {\n        vertical-align: top;\n    }\n\n    .dataframe thead th {\n        text-align: right;\n    }\n</style>\n<table border=\"1\" class=\"dataframe\">\n  <thead>\n    <tr style=\"text-align: right;\">\n      <th></th>\n      <th>A</th>\n      <th>B</th>\n      <th>C</th>\n      <th>D</th>\n      <th>E</th>\n      <th>F</th>\n    </tr>\n  </thead>\n  <tbody>\n    <tr>\n      <th>0</th>\n      <td>1.0</td>\n      <td>2013-01-02</td>\n      <td>1.0</td>\n      <td>3</td>\n      <td>test</td>\n      <td>foo</td>\n    </tr>\n    <tr>\n      <th>1</th>\n      <td>1.0</td>\n      <td>2013-01-02</td>\n      <td>1.0</td>\n      <td>3</td>\n      <td>train</td>\n      <td>foo</td>\n    </tr>\n    <tr>\n      <th>2</th>\n      <td>1.0</td>\n      <td>2013-01-02</td>\n      <td>1.0</td>\n      <td>3</td>\n      <td>test</td>\n      <td>foo</td>\n    </tr>\n    <tr>\n      <th>3</th>\n      <td>1.0</td>\n      <td>2013-01-02</td>\n      <td>1.0</td>\n      <td>3</td>\n      <td>train</td>\n      <td>foo</td>\n    </tr>\n  </tbody>\n</table>\n</div>"
     },
     "metadata": {},
     "execution_count": 79
    }
   ],
   "source": [
    "# Crearting a DataFrame by passing a dict of objects that can be\n",
    "# converted to series-like\n",
    "df2 = pd.DataFrame({'A' : 1.,\n",
    "                    'B' : pd.Timestamp('20130102'),\n",
    "                    'C' : pd.Series(1, index=list(range(4)), dtype='float32'),\n",
    "                    'D' : np.array([3] * 4, dtype='int32'),\n",
    "                    'E' : pd.Categorical(['test', 'train', 'test', 'train']),\n",
    "                    'F' : 'foo'})\n",
    "df2"
   ]
  },
  {
   "cell_type": "code",
   "execution_count": 80,
   "metadata": {},
   "outputs": [
    {
     "output_type": "execute_result",
     "data": {
      "text/plain": "A           float64\nB    datetime64[ns]\nC           float32\nD             int32\nE          category\nF            object\ndtype: object"
     },
     "metadata": {},
     "execution_count": 80
    }
   ],
   "source": [
    "df2.dtypes"
   ]
  },
  {
   "cell_type": "code",
   "execution_count": 81,
   "metadata": {
    "tags": []
   },
   "outputs": [
    {
     "output_type": "execute_result",
     "data": {
      "text/plain": "                   A         B         C         D\n2013-01-01 -1.861670  1.507707  0.634822 -1.225244\n2013-01-02  1.175150  0.809828 -0.477383  0.410365\n2013-01-03  0.572354  0.802708 -0.653188 -0.485505\n2013-01-04  0.150041 -0.311701 -0.113150  1.307652\n2013-01-05  1.365597  0.677248 -1.353817 -0.444635",
      "text/html": "<div>\n<style scoped>\n    .dataframe tbody tr th:only-of-type {\n        vertical-align: middle;\n    }\n\n    .dataframe tbody tr th {\n        vertical-align: top;\n    }\n\n    .dataframe thead th {\n        text-align: right;\n    }\n</style>\n<table border=\"1\" class=\"dataframe\">\n  <thead>\n    <tr style=\"text-align: right;\">\n      <th></th>\n      <th>A</th>\n      <th>B</th>\n      <th>C</th>\n      <th>D</th>\n    </tr>\n  </thead>\n  <tbody>\n    <tr>\n      <th>2013-01-01</th>\n      <td>-1.861670</td>\n      <td>1.507707</td>\n      <td>0.634822</td>\n      <td>-1.225244</td>\n    </tr>\n    <tr>\n      <th>2013-01-02</th>\n      <td>1.175150</td>\n      <td>0.809828</td>\n      <td>-0.477383</td>\n      <td>0.410365</td>\n    </tr>\n    <tr>\n      <th>2013-01-03</th>\n      <td>0.572354</td>\n      <td>0.802708</td>\n      <td>-0.653188</td>\n      <td>-0.485505</td>\n    </tr>\n    <tr>\n      <th>2013-01-04</th>\n      <td>0.150041</td>\n      <td>-0.311701</td>\n      <td>-0.113150</td>\n      <td>1.307652</td>\n    </tr>\n    <tr>\n      <th>2013-01-05</th>\n      <td>1.365597</td>\n      <td>0.677248</td>\n      <td>-1.353817</td>\n      <td>-0.444635</td>\n    </tr>\n  </tbody>\n</table>\n</div>"
     },
     "metadata": {},
     "execution_count": 81
    }
   ],
   "source": [
    "# Here is how to view the top and bottom rows of the frame :\n",
    "df.head()"
   ]
  },
  {
   "cell_type": "code",
   "execution_count": 82,
   "metadata": {},
   "outputs": [
    {
     "output_type": "execute_result",
     "data": {
      "text/plain": "                   A         B         C         D\n2013-01-02  1.175150  0.809828 -0.477383  0.410365\n2013-01-03  0.572354  0.802708 -0.653188 -0.485505\n2013-01-04  0.150041 -0.311701 -0.113150  1.307652\n2013-01-05  1.365597  0.677248 -1.353817 -0.444635\n2013-01-06 -1.577094 -0.527702  1.976511 -0.465774",
      "text/html": "<div>\n<style scoped>\n    .dataframe tbody tr th:only-of-type {\n        vertical-align: middle;\n    }\n\n    .dataframe tbody tr th {\n        vertical-align: top;\n    }\n\n    .dataframe thead th {\n        text-align: right;\n    }\n</style>\n<table border=\"1\" class=\"dataframe\">\n  <thead>\n    <tr style=\"text-align: right;\">\n      <th></th>\n      <th>A</th>\n      <th>B</th>\n      <th>C</th>\n      <th>D</th>\n    </tr>\n  </thead>\n  <tbody>\n    <tr>\n      <th>2013-01-02</th>\n      <td>1.175150</td>\n      <td>0.809828</td>\n      <td>-0.477383</td>\n      <td>0.410365</td>\n    </tr>\n    <tr>\n      <th>2013-01-03</th>\n      <td>0.572354</td>\n      <td>0.802708</td>\n      <td>-0.653188</td>\n      <td>-0.485505</td>\n    </tr>\n    <tr>\n      <th>2013-01-04</th>\n      <td>0.150041</td>\n      <td>-0.311701</td>\n      <td>-0.113150</td>\n      <td>1.307652</td>\n    </tr>\n    <tr>\n      <th>2013-01-05</th>\n      <td>1.365597</td>\n      <td>0.677248</td>\n      <td>-1.353817</td>\n      <td>-0.444635</td>\n    </tr>\n    <tr>\n      <th>2013-01-06</th>\n      <td>-1.577094</td>\n      <td>-0.527702</td>\n      <td>1.976511</td>\n      <td>-0.465774</td>\n    </tr>\n  </tbody>\n</table>\n</div>"
     },
     "metadata": {},
     "execution_count": 82
    }
   ],
   "source": [
    "df.tail()"
   ]
  },
  {
   "cell_type": "code",
   "execution_count": 83,
   "metadata": {},
   "outputs": [
    {
     "output_type": "execute_result",
     "data": {
      "text/plain": "Int64Index([0, 1, 2, 3], dtype='int64')"
     },
     "metadata": {},
     "execution_count": 83
    }
   ],
   "source": [
    "df2.index"
   ]
  },
  {
   "cell_type": "code",
   "execution_count": 84,
   "metadata": {},
   "outputs": [
    {
     "output_type": "execute_result",
     "data": {
      "text/plain": "Index(['A', 'B', 'C', 'D'], dtype='object')"
     },
     "metadata": {},
     "execution_count": 84
    }
   ],
   "source": [
    "df.columns"
   ]
  },
  {
   "cell_type": "code",
   "execution_count": 85,
   "metadata": {},
   "outputs": [
    {
     "output_type": "execute_result",
     "data": {
      "text/plain": "array([[-1.86167025,  1.50770703,  0.63482174, -1.22524424],\n       [ 1.17515042,  0.80982812, -0.47738286,  0.41036534],\n       [ 0.57235425,  0.8027078 , -0.65318808, -0.48550491],\n       [ 0.15004124, -0.31170079, -0.11314963,  1.30765238],\n       [ 1.36559658,  0.6772482 , -1.35381735, -0.4446353 ],\n       [-1.57709439, -0.52770209,  1.97651075, -0.4657744 ]])"
     },
     "metadata": {},
     "execution_count": 85
    }
   ],
   "source": [
    "'''\n",
    "DataFrame.to_numpy() gives a NumPy representation of the underlying data\n",
    "Note that this can be ad expensive operation when your DataFrame has columns with different\n",
    "dtypes, which comes down to a fundemental difference between pandas and NumPy\n",
    ": Numpy arrays have one dtype for the entire array, whlie pandas DataFrames have one dtype\n",
    "per column. when you call DataFrame.to_numpy(), pandas will find the Numpy dtype that can hold all of the dtypes in the DataFrame. This may end up being 'object', which requires\n",
    "casting every value to a Python objent\n",
    "'''\n",
    "\n",
    "df.to_numpy()"
   ]
  },
  {
   "cell_type": "code",
   "execution_count": 86,
   "metadata": {},
   "outputs": [
    {
     "output_type": "execute_result",
     "data": {
      "text/plain": "array([[1.0, Timestamp('2013-01-02 00:00:00'), 1.0, 3, 'test', 'foo'],\n       [1.0, Timestamp('2013-01-02 00:00:00'), 1.0, 3, 'train', 'foo'],\n       [1.0, Timestamp('2013-01-02 00:00:00'), 1.0, 3, 'test', 'foo'],\n       [1.0, Timestamp('2013-01-02 00:00:00'), 1.0, 3, 'train', 'foo']],\n      dtype=object)"
     },
     "metadata": {},
     "execution_count": 86
    }
   ],
   "source": [
    "df2.to_numpy()"
   ]
  },
  {
   "cell_type": "code",
   "execution_count": 87,
   "metadata": {},
   "outputs": [
    {
     "output_type": "execute_result",
     "data": {
      "text/plain": "              A         B         C         D\ncount  6.000000  6.000000  6.000000  6.000000\nmean  -0.029270  0.493015  0.002299 -0.150524\nstd    1.381581  0.768017  1.167025  0.882496\nmin   -1.861670 -0.527702 -1.353817 -1.225244\n25%   -1.145310 -0.064464 -0.609237 -0.480572\n50%    0.361198  0.739978 -0.295266 -0.455205\n75%    1.024451  0.808048  0.447829  0.196615\nmax    1.365597  1.507707  1.976511  1.307652",
      "text/html": "<div>\n<style scoped>\n    .dataframe tbody tr th:only-of-type {\n        vertical-align: middle;\n    }\n\n    .dataframe tbody tr th {\n        vertical-align: top;\n    }\n\n    .dataframe thead th {\n        text-align: right;\n    }\n</style>\n<table border=\"1\" class=\"dataframe\">\n  <thead>\n    <tr style=\"text-align: right;\">\n      <th></th>\n      <th>A</th>\n      <th>B</th>\n      <th>C</th>\n      <th>D</th>\n    </tr>\n  </thead>\n  <tbody>\n    <tr>\n      <th>count</th>\n      <td>6.000000</td>\n      <td>6.000000</td>\n      <td>6.000000</td>\n      <td>6.000000</td>\n    </tr>\n    <tr>\n      <th>mean</th>\n      <td>-0.029270</td>\n      <td>0.493015</td>\n      <td>0.002299</td>\n      <td>-0.150524</td>\n    </tr>\n    <tr>\n      <th>std</th>\n      <td>1.381581</td>\n      <td>0.768017</td>\n      <td>1.167025</td>\n      <td>0.882496</td>\n    </tr>\n    <tr>\n      <th>min</th>\n      <td>-1.861670</td>\n      <td>-0.527702</td>\n      <td>-1.353817</td>\n      <td>-1.225244</td>\n    </tr>\n    <tr>\n      <th>25%</th>\n      <td>-1.145310</td>\n      <td>-0.064464</td>\n      <td>-0.609237</td>\n      <td>-0.480572</td>\n    </tr>\n    <tr>\n      <th>50%</th>\n      <td>0.361198</td>\n      <td>0.739978</td>\n      <td>-0.295266</td>\n      <td>-0.455205</td>\n    </tr>\n    <tr>\n      <th>75%</th>\n      <td>1.024451</td>\n      <td>0.808048</td>\n      <td>0.447829</td>\n      <td>0.196615</td>\n    </tr>\n    <tr>\n      <th>max</th>\n      <td>1.365597</td>\n      <td>1.507707</td>\n      <td>1.976511</td>\n      <td>1.307652</td>\n    </tr>\n  </tbody>\n</table>\n</div>"
     },
     "metadata": {},
     "execution_count": 87
    }
   ],
   "source": [
    "# summary of data\n",
    "df.describe()"
   ]
  },
  {
   "cell_type": "code",
   "execution_count": 88,
   "metadata": {
    "tags": []
   },
   "outputs": [
    {
     "output_type": "stream",
     "name": "stdout",
     "text": "[[-1.86167025  1.50770703  0.63482174 -1.22524424]\n [ 1.17515042  0.80982812 -0.47738286  0.41036534]\n [ 0.57235425  0.8027078  -0.65318808 -0.48550491]\n [ 0.15004124 -0.31170079 -0.11314963  1.30765238]\n [ 1.36559658  0.6772482  -1.35381735 -0.4446353 ]\n [-1.57709439 -0.52770209  1.97651075 -0.4657744 ]]\n"
    },
    {
     "output_type": "execute_result",
     "data": {
      "text/plain": "   2013-01-01  2013-01-02  2013-01-03  2013-01-04  2013-01-05  2013-01-06\nA   -1.861670    1.175150    0.572354    0.150041    1.365597   -1.577094\nB    1.507707    0.809828    0.802708   -0.311701    0.677248   -0.527702\nC    0.634822   -0.477383   -0.653188   -0.113150   -1.353817    1.976511\nD   -1.225244    0.410365   -0.485505    1.307652   -0.444635   -0.465774",
      "text/html": "<div>\n<style scoped>\n    .dataframe tbody tr th:only-of-type {\n        vertical-align: middle;\n    }\n\n    .dataframe tbody tr th {\n        vertical-align: top;\n    }\n\n    .dataframe thead th {\n        text-align: right;\n    }\n</style>\n<table border=\"1\" class=\"dataframe\">\n  <thead>\n    <tr style=\"text-align: right;\">\n      <th></th>\n      <th>2013-01-01</th>\n      <th>2013-01-02</th>\n      <th>2013-01-03</th>\n      <th>2013-01-04</th>\n      <th>2013-01-05</th>\n      <th>2013-01-06</th>\n    </tr>\n  </thead>\n  <tbody>\n    <tr>\n      <th>A</th>\n      <td>-1.861670</td>\n      <td>1.175150</td>\n      <td>0.572354</td>\n      <td>0.150041</td>\n      <td>1.365597</td>\n      <td>-1.577094</td>\n    </tr>\n    <tr>\n      <th>B</th>\n      <td>1.507707</td>\n      <td>0.809828</td>\n      <td>0.802708</td>\n      <td>-0.311701</td>\n      <td>0.677248</td>\n      <td>-0.527702</td>\n    </tr>\n    <tr>\n      <th>C</th>\n      <td>0.634822</td>\n      <td>-0.477383</td>\n      <td>-0.653188</td>\n      <td>-0.113150</td>\n      <td>-1.353817</td>\n      <td>1.976511</td>\n    </tr>\n    <tr>\n      <th>D</th>\n      <td>-1.225244</td>\n      <td>0.410365</td>\n      <td>-0.485505</td>\n      <td>1.307652</td>\n      <td>-0.444635</td>\n      <td>-0.465774</td>\n    </tr>\n  </tbody>\n</table>\n</div>"
     },
     "metadata": {},
     "execution_count": 88
    }
   ],
   "source": [
    "# Transpose\n",
    "print(df.to_numpy())\n",
    "df.T"
   ]
  },
  {
   "cell_type": "code",
   "execution_count": 89,
   "metadata": {},
   "outputs": [
    {
     "output_type": "execute_result",
     "data": {
      "text/plain": "                   A         B         C         D\n2013-01-01 -1.861670  1.507707  0.634822 -1.225244\n2013-01-02  1.175150  0.809828 -0.477383  0.410365\n2013-01-03  0.572354  0.802708 -0.653188 -0.485505\n2013-01-04  0.150041 -0.311701 -0.113150  1.307652\n2013-01-05  1.365597  0.677248 -1.353817 -0.444635\n2013-01-06 -1.577094 -0.527702  1.976511 -0.465774",
      "text/html": "<div>\n<style scoped>\n    .dataframe tbody tr th:only-of-type {\n        vertical-align: middle;\n    }\n\n    .dataframe tbody tr th {\n        vertical-align: top;\n    }\n\n    .dataframe thead th {\n        text-align: right;\n    }\n</style>\n<table border=\"1\" class=\"dataframe\">\n  <thead>\n    <tr style=\"text-align: right;\">\n      <th></th>\n      <th>A</th>\n      <th>B</th>\n      <th>C</th>\n      <th>D</th>\n    </tr>\n  </thead>\n  <tbody>\n    <tr>\n      <th>2013-01-01</th>\n      <td>-1.861670</td>\n      <td>1.507707</td>\n      <td>0.634822</td>\n      <td>-1.225244</td>\n    </tr>\n    <tr>\n      <th>2013-01-02</th>\n      <td>1.175150</td>\n      <td>0.809828</td>\n      <td>-0.477383</td>\n      <td>0.410365</td>\n    </tr>\n    <tr>\n      <th>2013-01-03</th>\n      <td>0.572354</td>\n      <td>0.802708</td>\n      <td>-0.653188</td>\n      <td>-0.485505</td>\n    </tr>\n    <tr>\n      <th>2013-01-04</th>\n      <td>0.150041</td>\n      <td>-0.311701</td>\n      <td>-0.113150</td>\n      <td>1.307652</td>\n    </tr>\n    <tr>\n      <th>2013-01-05</th>\n      <td>1.365597</td>\n      <td>0.677248</td>\n      <td>-1.353817</td>\n      <td>-0.444635</td>\n    </tr>\n    <tr>\n      <th>2013-01-06</th>\n      <td>-1.577094</td>\n      <td>-0.527702</td>\n      <td>1.976511</td>\n      <td>-0.465774</td>\n    </tr>\n  </tbody>\n</table>\n</div>"
     },
     "metadata": {},
     "execution_count": 89
    }
   ],
   "source": [
    "# column명을 기준으로 sort\n",
    "df.sort_index(axis=1, ascending=True)"
   ]
  },
  {
   "cell_type": "code",
   "execution_count": 90,
   "metadata": {},
   "outputs": [
    {
     "output_type": "execute_result",
     "data": {
      "text/plain": "                   A         B         C         D\n2013-01-01 -1.861670  1.507707  0.634822 -1.225244\n2013-01-02  1.175150  0.809828 -0.477383  0.410365\n2013-01-03  0.572354  0.802708 -0.653188 -0.485505\n2013-01-05  1.365597  0.677248 -1.353817 -0.444635\n2013-01-04  0.150041 -0.311701 -0.113150  1.307652\n2013-01-06 -1.577094 -0.527702  1.976511 -0.465774",
      "text/html": "<div>\n<style scoped>\n    .dataframe tbody tr th:only-of-type {\n        vertical-align: middle;\n    }\n\n    .dataframe tbody tr th {\n        vertical-align: top;\n    }\n\n    .dataframe thead th {\n        text-align: right;\n    }\n</style>\n<table border=\"1\" class=\"dataframe\">\n  <thead>\n    <tr style=\"text-align: right;\">\n      <th></th>\n      <th>A</th>\n      <th>B</th>\n      <th>C</th>\n      <th>D</th>\n    </tr>\n  </thead>\n  <tbody>\n    <tr>\n      <th>2013-01-01</th>\n      <td>-1.861670</td>\n      <td>1.507707</td>\n      <td>0.634822</td>\n      <td>-1.225244</td>\n    </tr>\n    <tr>\n      <th>2013-01-02</th>\n      <td>1.175150</td>\n      <td>0.809828</td>\n      <td>-0.477383</td>\n      <td>0.410365</td>\n    </tr>\n    <tr>\n      <th>2013-01-03</th>\n      <td>0.572354</td>\n      <td>0.802708</td>\n      <td>-0.653188</td>\n      <td>-0.485505</td>\n    </tr>\n    <tr>\n      <th>2013-01-05</th>\n      <td>1.365597</td>\n      <td>0.677248</td>\n      <td>-1.353817</td>\n      <td>-0.444635</td>\n    </tr>\n    <tr>\n      <th>2013-01-04</th>\n      <td>0.150041</td>\n      <td>-0.311701</td>\n      <td>-0.113150</td>\n      <td>1.307652</td>\n    </tr>\n    <tr>\n      <th>2013-01-06</th>\n      <td>-1.577094</td>\n      <td>-0.527702</td>\n      <td>1.976511</td>\n      <td>-0.465774</td>\n    </tr>\n  </tbody>\n</table>\n</div>"
     },
     "metadata": {},
     "execution_count": 90
    }
   ],
   "source": [
    "# B column을 기준으로 sort\n",
    "df.sort_values(by='B', ascending=False)"
   ]
  },
  {
   "cell_type": "code",
   "execution_count": 91,
   "metadata": {},
   "outputs": [
    {
     "output_type": "execute_result",
     "data": {
      "text/plain": "2013-01-01   -1.861670\n2013-01-02    1.175150\n2013-01-03    0.572354\n2013-01-04    0.150041\n2013-01-05    1.365597\n2013-01-06   -1.577094\nFreq: D, Name: A, dtype: float64"
     },
     "metadata": {},
     "execution_count": 91
    }
   ],
   "source": [
    "#################################################\n",
    "# Selection\n",
    "#################################################\n",
    "\n",
    "# selection by index (row)\n",
    "\n",
    "df['A']"
   ]
  },
  {
   "cell_type": "code",
   "execution_count": 92,
   "metadata": {},
   "outputs": [
    {
     "output_type": "execute_result",
     "data": {
      "text/plain": "                   A         B         C         D\n2013-01-01 -1.861670  1.507707  0.634822 -1.225244\n2013-01-02  1.175150  0.809828 -0.477383  0.410365\n2013-01-03  0.572354  0.802708 -0.653188 -0.485505",
      "text/html": "<div>\n<style scoped>\n    .dataframe tbody tr th:only-of-type {\n        vertical-align: middle;\n    }\n\n    .dataframe tbody tr th {\n        vertical-align: top;\n    }\n\n    .dataframe thead th {\n        text-align: right;\n    }\n</style>\n<table border=\"1\" class=\"dataframe\">\n  <thead>\n    <tr style=\"text-align: right;\">\n      <th></th>\n      <th>A</th>\n      <th>B</th>\n      <th>C</th>\n      <th>D</th>\n    </tr>\n  </thead>\n  <tbody>\n    <tr>\n      <th>2013-01-01</th>\n      <td>-1.861670</td>\n      <td>1.507707</td>\n      <td>0.634822</td>\n      <td>-1.225244</td>\n    </tr>\n    <tr>\n      <th>2013-01-02</th>\n      <td>1.175150</td>\n      <td>0.809828</td>\n      <td>-0.477383</td>\n      <td>0.410365</td>\n    </tr>\n    <tr>\n      <th>2013-01-03</th>\n      <td>0.572354</td>\n      <td>0.802708</td>\n      <td>-0.653188</td>\n      <td>-0.485505</td>\n    </tr>\n  </tbody>\n</table>\n</div>"
     },
     "metadata": {},
     "execution_count": 92
    }
   ],
   "source": [
    "df[0:3]"
   ]
  },
  {
   "cell_type": "code",
   "execution_count": 93,
   "metadata": {},
   "outputs": [
    {
     "output_type": "execute_result",
     "data": {
      "text/plain": "                   A         B         C         D\n2013-01-02  1.175150  0.809828 -0.477383  0.410365\n2013-01-03  0.572354  0.802708 -0.653188 -0.485505\n2013-01-04  0.150041 -0.311701 -0.113150  1.307652",
      "text/html": "<div>\n<style scoped>\n    .dataframe tbody tr th:only-of-type {\n        vertical-align: middle;\n    }\n\n    .dataframe tbody tr th {\n        vertical-align: top;\n    }\n\n    .dataframe thead th {\n        text-align: right;\n    }\n</style>\n<table border=\"1\" class=\"dataframe\">\n  <thead>\n    <tr style=\"text-align: right;\">\n      <th></th>\n      <th>A</th>\n      <th>B</th>\n      <th>C</th>\n      <th>D</th>\n    </tr>\n  </thead>\n  <tbody>\n    <tr>\n      <th>2013-01-02</th>\n      <td>1.175150</td>\n      <td>0.809828</td>\n      <td>-0.477383</td>\n      <td>0.410365</td>\n    </tr>\n    <tr>\n      <th>2013-01-03</th>\n      <td>0.572354</td>\n      <td>0.802708</td>\n      <td>-0.653188</td>\n      <td>-0.485505</td>\n    </tr>\n    <tr>\n      <th>2013-01-04</th>\n      <td>0.150041</td>\n      <td>-0.311701</td>\n      <td>-0.113150</td>\n      <td>1.307652</td>\n    </tr>\n  </tbody>\n</table>\n</div>"
     },
     "metadata": {},
     "execution_count": 93
    }
   ],
   "source": [
    "df['20130102':'20130104']"
   ]
  },
  {
   "cell_type": "code",
   "execution_count": 94,
   "metadata": {},
   "outputs": [
    {
     "output_type": "execute_result",
     "data": {
      "text/plain": "A   -1.861670\nB    1.507707\nC    0.634822\nD   -1.225244\nName: 2013-01-01 00:00:00, dtype: float64"
     },
     "metadata": {},
     "execution_count": 94
    }
   ],
   "source": [
    "# selection by label (column)\n",
    "\n",
    "# dates = ['2013-01-01', '2013-01-02', '2013-01-03', '2013-01-04', '2013-01-05', '2013-01-06']\n",
    "# 2013-01-01 row값을 label을 기준으로 출력\n",
    "df.loc[dates[0]]"
   ]
  },
  {
   "cell_type": "code",
   "execution_count": 95,
   "metadata": {},
   "outputs": [
    {
     "output_type": "execute_result",
     "data": {
      "text/plain": "                   A         B\n2013-01-01 -1.861670  1.507707\n2013-01-02  1.175150  0.809828\n2013-01-03  0.572354  0.802708\n2013-01-04  0.150041 -0.311701\n2013-01-05  1.365597  0.677248\n2013-01-06 -1.577094 -0.527702",
      "text/html": "<div>\n<style scoped>\n    .dataframe tbody tr th:only-of-type {\n        vertical-align: middle;\n    }\n\n    .dataframe tbody tr th {\n        vertical-align: top;\n    }\n\n    .dataframe thead th {\n        text-align: right;\n    }\n</style>\n<table border=\"1\" class=\"dataframe\">\n  <thead>\n    <tr style=\"text-align: right;\">\n      <th></th>\n      <th>A</th>\n      <th>B</th>\n    </tr>\n  </thead>\n  <tbody>\n    <tr>\n      <th>2013-01-01</th>\n      <td>-1.861670</td>\n      <td>1.507707</td>\n    </tr>\n    <tr>\n      <th>2013-01-02</th>\n      <td>1.175150</td>\n      <td>0.809828</td>\n    </tr>\n    <tr>\n      <th>2013-01-03</th>\n      <td>0.572354</td>\n      <td>0.802708</td>\n    </tr>\n    <tr>\n      <th>2013-01-04</th>\n      <td>0.150041</td>\n      <td>-0.311701</td>\n    </tr>\n    <tr>\n      <th>2013-01-05</th>\n      <td>1.365597</td>\n      <td>0.677248</td>\n    </tr>\n    <tr>\n      <th>2013-01-06</th>\n      <td>-1.577094</td>\n      <td>-0.527702</td>\n    </tr>\n  </tbody>\n</table>\n</div>"
     },
     "metadata": {},
     "execution_count": 95
    }
   ],
   "source": [
    "# 전체 row중 'A', 'B' 라벨만을 출력\n",
    "df.loc[:, ['A', 'B']]"
   ]
  },
  {
   "cell_type": "code",
   "execution_count": 96,
   "metadata": {},
   "outputs": [
    {
     "output_type": "execute_result",
     "data": {
      "text/plain": "                   A         B\n2013-01-02  1.175150  0.809828\n2013-01-03  0.572354  0.802708\n2013-01-04  0.150041 -0.311701",
      "text/html": "<div>\n<style scoped>\n    .dataframe tbody tr th:only-of-type {\n        vertical-align: middle;\n    }\n\n    .dataframe tbody tr th {\n        vertical-align: top;\n    }\n\n    .dataframe thead th {\n        text-align: right;\n    }\n</style>\n<table border=\"1\" class=\"dataframe\">\n  <thead>\n    <tr style=\"text-align: right;\">\n      <th></th>\n      <th>A</th>\n      <th>B</th>\n    </tr>\n  </thead>\n  <tbody>\n    <tr>\n      <th>2013-01-02</th>\n      <td>1.175150</td>\n      <td>0.809828</td>\n    </tr>\n    <tr>\n      <th>2013-01-03</th>\n      <td>0.572354</td>\n      <td>0.802708</td>\n    </tr>\n    <tr>\n      <th>2013-01-04</th>\n      <td>0.150041</td>\n      <td>-0.311701</td>\n    </tr>\n  </tbody>\n</table>\n</div>"
     },
     "metadata": {},
     "execution_count": 96
    }
   ],
   "source": [
    "df.loc['20130102':'20130104', ['A', 'B']]"
   ]
  },
  {
   "cell_type": "code",
   "execution_count": 97,
   "metadata": {},
   "outputs": [
    {
     "output_type": "execute_result",
     "data": {
      "text/plain": "-1.8616702538366903"
     },
     "metadata": {},
     "execution_count": 97
    }
   ],
   "source": [
    "# for getting a scalar value :\n",
    "df.loc[dates[0], 'A']"
   ]
  },
  {
   "cell_type": "code",
   "execution_count": 98,
   "metadata": {
    "tags": []
   },
   "outputs": [
    {
     "output_type": "stream",
     "name": "stdout",
     "text": "A         B         C         D\n2013-01-01 -1.861670  1.507707  0.634822 -1.225244\n2013-01-02  1.175150  0.809828 -0.477383  0.410365\n2013-01-03  0.572354  0.802708 -0.653188 -0.485505\n2013-01-04  0.150041 -0.311701 -0.113150  1.307652\n2013-01-05  1.365597  0.677248 -1.353817 -0.444635\n2013-01-06 -1.577094 -0.527702  1.976511 -0.465774\n"
    },
    {
     "output_type": "execute_result",
     "data": {
      "text/plain": "A    0.150041\nB   -0.311701\nC   -0.113150\nD    1.307652\nName: 2013-01-04 00:00:00, dtype: float64"
     },
     "metadata": {},
     "execution_count": 98
    }
   ],
   "source": [
    "######################################################\n",
    "# Selection by position\n",
    "######################################################\n",
    "\n",
    "# index locating? 인듯\n",
    "print(df)\n",
    "df.iloc[3]"
   ]
  },
  {
   "cell_type": "code",
   "execution_count": 99,
   "metadata": {},
   "outputs": [
    {
     "output_type": "execute_result",
     "data": {
      "text/plain": "                   A         B         C         D\n2013-01-02  1.175150  0.809828 -0.477383  0.410365\n2013-01-03  0.572354  0.802708 -0.653188 -0.485505",
      "text/html": "<div>\n<style scoped>\n    .dataframe tbody tr th:only-of-type {\n        vertical-align: middle;\n    }\n\n    .dataframe tbody tr th {\n        vertical-align: top;\n    }\n\n    .dataframe thead th {\n        text-align: right;\n    }\n</style>\n<table border=\"1\" class=\"dataframe\">\n  <thead>\n    <tr style=\"text-align: right;\">\n      <th></th>\n      <th>A</th>\n      <th>B</th>\n      <th>C</th>\n      <th>D</th>\n    </tr>\n  </thead>\n  <tbody>\n    <tr>\n      <th>2013-01-02</th>\n      <td>1.175150</td>\n      <td>0.809828</td>\n      <td>-0.477383</td>\n      <td>0.410365</td>\n    </tr>\n    <tr>\n      <th>2013-01-03</th>\n      <td>0.572354</td>\n      <td>0.802708</td>\n      <td>-0.653188</td>\n      <td>-0.485505</td>\n    </tr>\n  </tbody>\n</table>\n</div>"
     },
     "metadata": {},
     "execution_count": 99
    }
   ],
   "source": [
    "df.iloc[1:3, :]"
   ]
  },
  {
   "cell_type": "code",
   "execution_count": 100,
   "metadata": {},
   "outputs": [
    {
     "output_type": "execute_result",
     "data": {
      "text/plain": "                   A         C\n2013-01-02  1.175150 -0.477383\n2013-01-03  0.572354 -0.653188\n2013-01-05  1.365597 -1.353817",
      "text/html": "<div>\n<style scoped>\n    .dataframe tbody tr th:only-of-type {\n        vertical-align: middle;\n    }\n\n    .dataframe tbody tr th {\n        vertical-align: top;\n    }\n\n    .dataframe thead th {\n        text-align: right;\n    }\n</style>\n<table border=\"1\" class=\"dataframe\">\n  <thead>\n    <tr style=\"text-align: right;\">\n      <th></th>\n      <th>A</th>\n      <th>C</th>\n    </tr>\n  </thead>\n  <tbody>\n    <tr>\n      <th>2013-01-02</th>\n      <td>1.175150</td>\n      <td>-0.477383</td>\n    </tr>\n    <tr>\n      <th>2013-01-03</th>\n      <td>0.572354</td>\n      <td>-0.653188</td>\n    </tr>\n    <tr>\n      <th>2013-01-05</th>\n      <td>1.365597</td>\n      <td>-1.353817</td>\n    </tr>\n  </tbody>\n</table>\n</div>"
     },
     "metadata": {},
     "execution_count": 100
    }
   ],
   "source": [
    "df.iloc[[1, 2, 4], [0, 2]]"
   ]
  },
  {
   "cell_type": "code",
   "execution_count": 101,
   "metadata": {},
   "outputs": [
    {
     "output_type": "execute_result",
     "data": {
      "text/plain": "0.80982811730012"
     },
     "metadata": {},
     "execution_count": 101
    }
   ],
   "source": [
    "# iloc[1, 1], iat[1, 1] 의 결과는 같지만\n",
    "# iat가 개별 값에 접근할 떄는 더 빠르다\n",
    "\n",
    "df.iloc[1, 1]"
   ]
  },
  {
   "cell_type": "code",
   "execution_count": 102,
   "metadata": {},
   "outputs": [
    {
     "output_type": "execute_result",
     "data": {
      "text/plain": "0.80982811730012"
     },
     "metadata": {},
     "execution_count": 102
    }
   ],
   "source": [
    "df.iat[1, 1]"
   ]
  },
  {
   "cell_type": "code",
   "execution_count": 103,
   "metadata": {},
   "outputs": [
    {
     "output_type": "execute_result",
     "data": {
      "text/plain": "                   A         B         C         D\n2013-01-01 -1.861670       NaN       NaN -1.225244\n2013-01-02       NaN       NaN -0.477383       NaN\n2013-01-03       NaN       NaN -0.653188 -0.485505\n2013-01-04       NaN -0.311701 -0.113150       NaN\n2013-01-05       NaN       NaN -1.353817 -0.444635\n2013-01-06 -1.577094 -0.527702       NaN -0.465774",
      "text/html": "<div>\n<style scoped>\n    .dataframe tbody tr th:only-of-type {\n        vertical-align: middle;\n    }\n\n    .dataframe tbody tr th {\n        vertical-align: top;\n    }\n\n    .dataframe thead th {\n        text-align: right;\n    }\n</style>\n<table border=\"1\" class=\"dataframe\">\n  <thead>\n    <tr style=\"text-align: right;\">\n      <th></th>\n      <th>A</th>\n      <th>B</th>\n      <th>C</th>\n      <th>D</th>\n    </tr>\n  </thead>\n  <tbody>\n    <tr>\n      <th>2013-01-01</th>\n      <td>-1.861670</td>\n      <td>NaN</td>\n      <td>NaN</td>\n      <td>-1.225244</td>\n    </tr>\n    <tr>\n      <th>2013-01-02</th>\n      <td>NaN</td>\n      <td>NaN</td>\n      <td>-0.477383</td>\n      <td>NaN</td>\n    </tr>\n    <tr>\n      <th>2013-01-03</th>\n      <td>NaN</td>\n      <td>NaN</td>\n      <td>-0.653188</td>\n      <td>-0.485505</td>\n    </tr>\n    <tr>\n      <th>2013-01-04</th>\n      <td>NaN</td>\n      <td>-0.311701</td>\n      <td>-0.113150</td>\n      <td>NaN</td>\n    </tr>\n    <tr>\n      <th>2013-01-05</th>\n      <td>NaN</td>\n      <td>NaN</td>\n      <td>-1.353817</td>\n      <td>-0.444635</td>\n    </tr>\n    <tr>\n      <th>2013-01-06</th>\n      <td>-1.577094</td>\n      <td>-0.527702</td>\n      <td>NaN</td>\n      <td>-0.465774</td>\n    </tr>\n  </tbody>\n</table>\n</div>"
     },
     "metadata": {},
     "execution_count": 103
    }
   ],
   "source": [
    "######################################################\n",
    "# boolean indexing\n",
    "######################################################\n",
    "\n",
    "df[df < 0]"
   ]
  },
  {
   "cell_type": "code",
   "execution_count": 104,
   "metadata": {},
   "outputs": [
    {
     "output_type": "execute_result",
     "data": {
      "text/plain": "                   A         B         C         D\n2013-01-01       NaN  1.507707  0.634822       NaN\n2013-01-02  1.175150  0.809828       NaN  0.410365\n2013-01-03  0.572354  0.802708       NaN       NaN\n2013-01-04  0.150041       NaN       NaN  1.307652\n2013-01-05  1.365597  0.677248       NaN       NaN\n2013-01-06       NaN       NaN  1.976511       NaN",
      "text/html": "<div>\n<style scoped>\n    .dataframe tbody tr th:only-of-type {\n        vertical-align: middle;\n    }\n\n    .dataframe tbody tr th {\n        vertical-align: top;\n    }\n\n    .dataframe thead th {\n        text-align: right;\n    }\n</style>\n<table border=\"1\" class=\"dataframe\">\n  <thead>\n    <tr style=\"text-align: right;\">\n      <th></th>\n      <th>A</th>\n      <th>B</th>\n      <th>C</th>\n      <th>D</th>\n    </tr>\n  </thead>\n  <tbody>\n    <tr>\n      <th>2013-01-01</th>\n      <td>NaN</td>\n      <td>1.507707</td>\n      <td>0.634822</td>\n      <td>NaN</td>\n    </tr>\n    <tr>\n      <th>2013-01-02</th>\n      <td>1.175150</td>\n      <td>0.809828</td>\n      <td>NaN</td>\n      <td>0.410365</td>\n    </tr>\n    <tr>\n      <th>2013-01-03</th>\n      <td>0.572354</td>\n      <td>0.802708</td>\n      <td>NaN</td>\n      <td>NaN</td>\n    </tr>\n    <tr>\n      <th>2013-01-04</th>\n      <td>0.150041</td>\n      <td>NaN</td>\n      <td>NaN</td>\n      <td>1.307652</td>\n    </tr>\n    <tr>\n      <th>2013-01-05</th>\n      <td>1.365597</td>\n      <td>0.677248</td>\n      <td>NaN</td>\n      <td>NaN</td>\n    </tr>\n    <tr>\n      <th>2013-01-06</th>\n      <td>NaN</td>\n      <td>NaN</td>\n      <td>1.976511</td>\n      <td>NaN</td>\n    </tr>\n  </tbody>\n</table>\n</div>"
     },
     "metadata": {},
     "execution_count": 104
    }
   ],
   "source": [
    "df[df > 0]"
   ]
  },
  {
   "cell_type": "code",
   "execution_count": 105,
   "metadata": {},
   "outputs": [
    {
     "output_type": "execute_result",
     "data": {
      "text/plain": "                   A         B         C         D      E\n2013-01-01 -1.861670  1.507707  0.634822 -1.225244    one\n2013-01-02  1.175150  0.809828 -0.477383  0.410365    one\n2013-01-03  0.572354  0.802708 -0.653188 -0.485505    two\n2013-01-04  0.150041 -0.311701 -0.113150  1.307652  three\n2013-01-05  1.365597  0.677248 -1.353817 -0.444635   four\n2013-01-06 -1.577094 -0.527702  1.976511 -0.465774  three",
      "text/html": "<div>\n<style scoped>\n    .dataframe tbody tr th:only-of-type {\n        vertical-align: middle;\n    }\n\n    .dataframe tbody tr th {\n        vertical-align: top;\n    }\n\n    .dataframe thead th {\n        text-align: right;\n    }\n</style>\n<table border=\"1\" class=\"dataframe\">\n  <thead>\n    <tr style=\"text-align: right;\">\n      <th></th>\n      <th>A</th>\n      <th>B</th>\n      <th>C</th>\n      <th>D</th>\n      <th>E</th>\n    </tr>\n  </thead>\n  <tbody>\n    <tr>\n      <th>2013-01-01</th>\n      <td>-1.861670</td>\n      <td>1.507707</td>\n      <td>0.634822</td>\n      <td>-1.225244</td>\n      <td>one</td>\n    </tr>\n    <tr>\n      <th>2013-01-02</th>\n      <td>1.175150</td>\n      <td>0.809828</td>\n      <td>-0.477383</td>\n      <td>0.410365</td>\n      <td>one</td>\n    </tr>\n    <tr>\n      <th>2013-01-03</th>\n      <td>0.572354</td>\n      <td>0.802708</td>\n      <td>-0.653188</td>\n      <td>-0.485505</td>\n      <td>two</td>\n    </tr>\n    <tr>\n      <th>2013-01-04</th>\n      <td>0.150041</td>\n      <td>-0.311701</td>\n      <td>-0.113150</td>\n      <td>1.307652</td>\n      <td>three</td>\n    </tr>\n    <tr>\n      <th>2013-01-05</th>\n      <td>1.365597</td>\n      <td>0.677248</td>\n      <td>-1.353817</td>\n      <td>-0.444635</td>\n      <td>four</td>\n    </tr>\n    <tr>\n      <th>2013-01-06</th>\n      <td>-1.577094</td>\n      <td>-0.527702</td>\n      <td>1.976511</td>\n      <td>-0.465774</td>\n      <td>three</td>\n    </tr>\n  </tbody>\n</table>\n</div>"
     },
     "metadata": {},
     "execution_count": 105
    }
   ],
   "source": [
    "# column의 추가\n",
    "\n",
    "df2 = df.copy()\n",
    "df2['E'] = ['one', 'one', 'two', 'three', 'four', 'three']\n",
    "df2"
   ]
  },
  {
   "cell_type": "code",
   "execution_count": 106,
   "metadata": {},
   "outputs": [
    {
     "output_type": "execute_result",
     "data": {
      "text/plain": "                   A         B         C         D\n2013-01-02  1.175150  0.809828 -0.477383  0.410365\n2013-01-03  0.572354  0.802708 -0.653188 -0.485505\n2013-01-04  0.150041 -0.311701 -0.113150  1.307652\n2013-01-05  1.365597  0.677248 -1.353817 -0.444635",
      "text/html": "<div>\n<style scoped>\n    .dataframe tbody tr th:only-of-type {\n        vertical-align: middle;\n    }\n\n    .dataframe tbody tr th {\n        vertical-align: top;\n    }\n\n    .dataframe thead th {\n        text-align: right;\n    }\n</style>\n<table border=\"1\" class=\"dataframe\">\n  <thead>\n    <tr style=\"text-align: right;\">\n      <th></th>\n      <th>A</th>\n      <th>B</th>\n      <th>C</th>\n      <th>D</th>\n    </tr>\n  </thead>\n  <tbody>\n    <tr>\n      <th>2013-01-02</th>\n      <td>1.175150</td>\n      <td>0.809828</td>\n      <td>-0.477383</td>\n      <td>0.410365</td>\n    </tr>\n    <tr>\n      <th>2013-01-03</th>\n      <td>0.572354</td>\n      <td>0.802708</td>\n      <td>-0.653188</td>\n      <td>-0.485505</td>\n    </tr>\n    <tr>\n      <th>2013-01-04</th>\n      <td>0.150041</td>\n      <td>-0.311701</td>\n      <td>-0.113150</td>\n      <td>1.307652</td>\n    </tr>\n    <tr>\n      <th>2013-01-05</th>\n      <td>1.365597</td>\n      <td>0.677248</td>\n      <td>-1.353817</td>\n      <td>-0.444635</td>\n    </tr>\n  </tbody>\n</table>\n</div>"
     },
     "metadata": {},
     "execution_count": 106
    }
   ],
   "source": [
    "df[df['A'] > 0]"
   ]
  },
  {
   "cell_type": "code",
   "execution_count": 107,
   "metadata": {},
   "outputs": [
    {
     "output_type": "execute_result",
     "data": {
      "text/plain": "                   A         B         C         D     E\n2013-01-03  0.572354  0.802708 -0.653188 -0.485505   two\n2013-01-05  1.365597  0.677248 -1.353817 -0.444635  four",
      "text/html": "<div>\n<style scoped>\n    .dataframe tbody tr th:only-of-type {\n        vertical-align: middle;\n    }\n\n    .dataframe tbody tr th {\n        vertical-align: top;\n    }\n\n    .dataframe thead th {\n        text-align: right;\n    }\n</style>\n<table border=\"1\" class=\"dataframe\">\n  <thead>\n    <tr style=\"text-align: right;\">\n      <th></th>\n      <th>A</th>\n      <th>B</th>\n      <th>C</th>\n      <th>D</th>\n      <th>E</th>\n    </tr>\n  </thead>\n  <tbody>\n    <tr>\n      <th>2013-01-03</th>\n      <td>0.572354</td>\n      <td>0.802708</td>\n      <td>-0.653188</td>\n      <td>-0.485505</td>\n      <td>two</td>\n    </tr>\n    <tr>\n      <th>2013-01-05</th>\n      <td>1.365597</td>\n      <td>0.677248</td>\n      <td>-1.353817</td>\n      <td>-0.444635</td>\n      <td>four</td>\n    </tr>\n  </tbody>\n</table>\n</div>"
     },
     "metadata": {},
     "execution_count": 107
    }
   ],
   "source": [
    "df2[df2['E'].isin(['two', 'four'])]"
   ]
  },
  {
   "cell_type": "code",
   "execution_count": 111,
   "metadata": {},
   "outputs": [
    {
     "output_type": "execute_result",
     "data": {
      "text/plain": "                   A         B         C         D    E\n2013-01-01 -1.861670  1.507707  0.634822 -1.225244  1.0\n2013-01-02  1.175150  0.809828 -0.477383  0.410365  1.0\n2013-01-03  0.572354  0.802708 -0.653188 -0.485505  NaN\n2013-01-04  0.150041 -0.311701 -0.113150  1.307652  NaN",
      "text/html": "<div>\n<style scoped>\n    .dataframe tbody tr th:only-of-type {\n        vertical-align: middle;\n    }\n\n    .dataframe tbody tr th {\n        vertical-align: top;\n    }\n\n    .dataframe thead th {\n        text-align: right;\n    }\n</style>\n<table border=\"1\" class=\"dataframe\">\n  <thead>\n    <tr style=\"text-align: right;\">\n      <th></th>\n      <th>A</th>\n      <th>B</th>\n      <th>C</th>\n      <th>D</th>\n      <th>E</th>\n    </tr>\n  </thead>\n  <tbody>\n    <tr>\n      <th>2013-01-01</th>\n      <td>-1.861670</td>\n      <td>1.507707</td>\n      <td>0.634822</td>\n      <td>-1.225244</td>\n      <td>1.0</td>\n    </tr>\n    <tr>\n      <th>2013-01-02</th>\n      <td>1.175150</td>\n      <td>0.809828</td>\n      <td>-0.477383</td>\n      <td>0.410365</td>\n      <td>1.0</td>\n    </tr>\n    <tr>\n      <th>2013-01-03</th>\n      <td>0.572354</td>\n      <td>0.802708</td>\n      <td>-0.653188</td>\n      <td>-0.485505</td>\n      <td>NaN</td>\n    </tr>\n    <tr>\n      <th>2013-01-04</th>\n      <td>0.150041</td>\n      <td>-0.311701</td>\n      <td>-0.113150</td>\n      <td>1.307652</td>\n      <td>NaN</td>\n    </tr>\n  </tbody>\n</table>\n</div>"
     },
     "metadata": {},
     "execution_count": 111
    }
   ],
   "source": [
    "######################################################\n",
    "# pandas primarily uses the value 'np.nan' to represent\n",
    "# missing data. It is by default not included in computations.\n",
    "# See the missing data selection\n",
    "######################################################\n",
    "\n",
    "# reindexing allows you to change / add / delete the index on a \n",
    "# specified axis. This returns a copy of the data\n",
    "\n",
    "df1 = df.reindex(index=dates[0:4], columns=list(df.columns) + ['E'])\n",
    "df1.loc[dates[0]:dates[1], 'E'] = 1\n",
    "df1"
   ]
  },
  {
   "cell_type": "code",
   "execution_count": 112,
   "metadata": {},
   "outputs": [
    {
     "output_type": "execute_result",
     "data": {
      "text/plain": "                  A         B         C         D    E\n2013-01-01 -1.86167  1.507707  0.634822 -1.225244  1.0\n2013-01-02  1.17515  0.809828 -0.477383  0.410365  1.0",
      "text/html": "<div>\n<style scoped>\n    .dataframe tbody tr th:only-of-type {\n        vertical-align: middle;\n    }\n\n    .dataframe tbody tr th {\n        vertical-align: top;\n    }\n\n    .dataframe thead th {\n        text-align: right;\n    }\n</style>\n<table border=\"1\" class=\"dataframe\">\n  <thead>\n    <tr style=\"text-align: right;\">\n      <th></th>\n      <th>A</th>\n      <th>B</th>\n      <th>C</th>\n      <th>D</th>\n      <th>E</th>\n    </tr>\n  </thead>\n  <tbody>\n    <tr>\n      <th>2013-01-01</th>\n      <td>-1.86167</td>\n      <td>1.507707</td>\n      <td>0.634822</td>\n      <td>-1.225244</td>\n      <td>1.0</td>\n    </tr>\n    <tr>\n      <th>2013-01-02</th>\n      <td>1.17515</td>\n      <td>0.809828</td>\n      <td>-0.477383</td>\n      <td>0.410365</td>\n      <td>1.0</td>\n    </tr>\n  </tbody>\n</table>\n</div>"
     },
     "metadata": {},
     "execution_count": 112
    }
   ],
   "source": [
    "# to drop any rows that have missing data\n",
    "df1.dropna(how='any')"
   ]
  },
  {
   "cell_type": "code",
   "execution_count": 113,
   "metadata": {},
   "outputs": [
    {
     "output_type": "execute_result",
     "data": {
      "text/plain": "                   A         B         C         D    E\n2013-01-01 -1.861670  1.507707  0.634822 -1.225244  1.0\n2013-01-02  1.175150  0.809828 -0.477383  0.410365  1.0\n2013-01-03  0.572354  0.802708 -0.653188 -0.485505  5.0\n2013-01-04  0.150041 -0.311701 -0.113150  1.307652  5.0",
      "text/html": "<div>\n<style scoped>\n    .dataframe tbody tr th:only-of-type {\n        vertical-align: middle;\n    }\n\n    .dataframe tbody tr th {\n        vertical-align: top;\n    }\n\n    .dataframe thead th {\n        text-align: right;\n    }\n</style>\n<table border=\"1\" class=\"dataframe\">\n  <thead>\n    <tr style=\"text-align: right;\">\n      <th></th>\n      <th>A</th>\n      <th>B</th>\n      <th>C</th>\n      <th>D</th>\n      <th>E</th>\n    </tr>\n  </thead>\n  <tbody>\n    <tr>\n      <th>2013-01-01</th>\n      <td>-1.861670</td>\n      <td>1.507707</td>\n      <td>0.634822</td>\n      <td>-1.225244</td>\n      <td>1.0</td>\n    </tr>\n    <tr>\n      <th>2013-01-02</th>\n      <td>1.175150</td>\n      <td>0.809828</td>\n      <td>-0.477383</td>\n      <td>0.410365</td>\n      <td>1.0</td>\n    </tr>\n    <tr>\n      <th>2013-01-03</th>\n      <td>0.572354</td>\n      <td>0.802708</td>\n      <td>-0.653188</td>\n      <td>-0.485505</td>\n      <td>5.0</td>\n    </tr>\n    <tr>\n      <th>2013-01-04</th>\n      <td>0.150041</td>\n      <td>-0.311701</td>\n      <td>-0.113150</td>\n      <td>1.307652</td>\n      <td>5.0</td>\n    </tr>\n  </tbody>\n</table>\n</div>"
     },
     "metadata": {},
     "execution_count": 113
    }
   ],
   "source": [
    "# filling missing data\n",
    "df1.fillna(value=5)"
   ]
  },
  {
   "cell_type": "code",
   "execution_count": 114,
   "metadata": {},
   "outputs": [
    {
     "output_type": "execute_result",
     "data": {
      "text/plain": "                A      B      C      D      E\n2013-01-01  False  False  False  False  False\n2013-01-02  False  False  False  False  False\n2013-01-03  False  False  False  False   True\n2013-01-04  False  False  False  False   True",
      "text/html": "<div>\n<style scoped>\n    .dataframe tbody tr th:only-of-type {\n        vertical-align: middle;\n    }\n\n    .dataframe tbody tr th {\n        vertical-align: top;\n    }\n\n    .dataframe thead th {\n        text-align: right;\n    }\n</style>\n<table border=\"1\" class=\"dataframe\">\n  <thead>\n    <tr style=\"text-align: right;\">\n      <th></th>\n      <th>A</th>\n      <th>B</th>\n      <th>C</th>\n      <th>D</th>\n      <th>E</th>\n    </tr>\n  </thead>\n  <tbody>\n    <tr>\n      <th>2013-01-01</th>\n      <td>False</td>\n      <td>False</td>\n      <td>False</td>\n      <td>False</td>\n      <td>False</td>\n    </tr>\n    <tr>\n      <th>2013-01-02</th>\n      <td>False</td>\n      <td>False</td>\n      <td>False</td>\n      <td>False</td>\n      <td>False</td>\n    </tr>\n    <tr>\n      <th>2013-01-03</th>\n      <td>False</td>\n      <td>False</td>\n      <td>False</td>\n      <td>False</td>\n      <td>True</td>\n    </tr>\n    <tr>\n      <th>2013-01-04</th>\n      <td>False</td>\n      <td>False</td>\n      <td>False</td>\n      <td>False</td>\n      <td>True</td>\n    </tr>\n  </tbody>\n</table>\n</div>"
     },
     "metadata": {},
     "execution_count": 114
    }
   ],
   "source": [
    "# to get the boolean mask where values are nan\n",
    "pd.isna(df1)"
   ]
  },
  {
   "cell_type": "code",
   "execution_count": 117,
   "metadata": {},
   "outputs": [
    {
     "output_type": "execute_result",
     "data": {
      "text/plain": "A   -0.029270\nB    0.493015\nC    0.002299\nD   -0.150524\ndtype: float64"
     },
     "metadata": {},
     "execution_count": 117
    }
   ],
   "source": [
    "######################################################\n",
    "# Operation\n",
    "######################################################\n",
    "\n",
    "# column 기준\n",
    "df.mean(False)"
   ]
  },
  {
   "cell_type": "code",
   "execution_count": 118,
   "metadata": {},
   "outputs": [
    {
     "output_type": "execute_result",
     "data": {
      "text/plain": "2013-01-01   -0.236096\n2013-01-02    0.479490\n2013-01-03    0.059092\n2013-01-04    0.258211\n2013-01-05    0.061098\n2013-01-06   -0.148515\nFreq: D, dtype: float64"
     },
     "metadata": {},
     "execution_count": 118
    }
   ],
   "source": [
    "# row 기준 row기준 = False 가 default 인듯\n",
    "df.mean(True)"
   ]
  },
  {
   "cell_type": "code",
   "execution_count": 124,
   "metadata": {},
   "outputs": [
    {
     "output_type": "execute_result",
     "data": {
      "text/plain": "2013-01-01    NaN\n2013-01-02    1.0\n2013-01-03    3.0\n2013-01-04    5.0\n2013-01-05    NaN\n2013-01-06    6.0\nFreq: D, dtype: float64"
     },
     "metadata": {},
     "execution_count": 124
    }
   ],
   "source": [
    "# shift\n",
    "\n",
    "s = pd.Series([1, 3, 5, np.nan, 6, 8], index=dates).shift(1)\n",
    "s"
   ]
  },
  {
   "cell_type": "code",
   "execution_count": 125,
   "metadata": {},
   "outputs": [
    {
     "output_type": "execute_result",
     "data": {
      "text/plain": "                   A         B         C         D\n2013-01-01       NaN       NaN       NaN       NaN\n2013-01-02  0.175150 -0.190172 -1.477383 -0.589635\n2013-01-03 -2.427646 -2.197292 -3.653188 -3.485505\n2013-01-04 -4.849959 -5.311701 -5.113150 -3.692348\n2013-01-05       NaN       NaN       NaN       NaN\n2013-01-06 -7.577094 -6.527702 -4.023489 -6.465774",
      "text/html": "<div>\n<style scoped>\n    .dataframe tbody tr th:only-of-type {\n        vertical-align: middle;\n    }\n\n    .dataframe tbody tr th {\n        vertical-align: top;\n    }\n\n    .dataframe thead th {\n        text-align: right;\n    }\n</style>\n<table border=\"1\" class=\"dataframe\">\n  <thead>\n    <tr style=\"text-align: right;\">\n      <th></th>\n      <th>A</th>\n      <th>B</th>\n      <th>C</th>\n      <th>D</th>\n    </tr>\n  </thead>\n  <tbody>\n    <tr>\n      <th>2013-01-01</th>\n      <td>NaN</td>\n      <td>NaN</td>\n      <td>NaN</td>\n      <td>NaN</td>\n    </tr>\n    <tr>\n      <th>2013-01-02</th>\n      <td>0.175150</td>\n      <td>-0.190172</td>\n      <td>-1.477383</td>\n      <td>-0.589635</td>\n    </tr>\n    <tr>\n      <th>2013-01-03</th>\n      <td>-2.427646</td>\n      <td>-2.197292</td>\n      <td>-3.653188</td>\n      <td>-3.485505</td>\n    </tr>\n    <tr>\n      <th>2013-01-04</th>\n      <td>-4.849959</td>\n      <td>-5.311701</td>\n      <td>-5.113150</td>\n      <td>-3.692348</td>\n    </tr>\n    <tr>\n      <th>2013-01-05</th>\n      <td>NaN</td>\n      <td>NaN</td>\n      <td>NaN</td>\n      <td>NaN</td>\n    </tr>\n    <tr>\n      <th>2013-01-06</th>\n      <td>-7.577094</td>\n      <td>-6.527702</td>\n      <td>-4.023489</td>\n      <td>-6.465774</td>\n    </tr>\n  </tbody>\n</table>\n</div>"
     },
     "metadata": {},
     "execution_count": 125
    }
   ],
   "source": [
    "df.sub(s, axis='index')"
   ]
  },
  {
   "cell_type": "code",
   "execution_count": 130,
   "metadata": {},
   "outputs": [
    {
     "output_type": "execute_result",
     "data": {
      "text/plain": "                   A         B         C         D\n2013-01-01       NaN       NaN       NaN       NaN\n2013-01-02  0.175150 -0.190172 -1.477383 -0.589635\n2013-01-03 -2.427646 -2.197292 -3.653188 -3.485505\n2013-01-04 -4.849959 -5.311701 -5.113150 -3.692348\n2013-01-05       NaN       NaN       NaN       NaN\n2013-01-06 -7.577094 -6.527702 -4.023489 -6.465774",
      "text/html": "<div>\n<style scoped>\n    .dataframe tbody tr th:only-of-type {\n        vertical-align: middle;\n    }\n\n    .dataframe tbody tr th {\n        vertical-align: top;\n    }\n\n    .dataframe thead th {\n        text-align: right;\n    }\n</style>\n<table border=\"1\" class=\"dataframe\">\n  <thead>\n    <tr style=\"text-align: right;\">\n      <th></th>\n      <th>A</th>\n      <th>B</th>\n      <th>C</th>\n      <th>D</th>\n    </tr>\n  </thead>\n  <tbody>\n    <tr>\n      <th>2013-01-01</th>\n      <td>NaN</td>\n      <td>NaN</td>\n      <td>NaN</td>\n      <td>NaN</td>\n    </tr>\n    <tr>\n      <th>2013-01-02</th>\n      <td>0.175150</td>\n      <td>-0.190172</td>\n      <td>-1.477383</td>\n      <td>-0.589635</td>\n    </tr>\n    <tr>\n      <th>2013-01-03</th>\n      <td>-2.427646</td>\n      <td>-2.197292</td>\n      <td>-3.653188</td>\n      <td>-3.485505</td>\n    </tr>\n    <tr>\n      <th>2013-01-04</th>\n      <td>-4.849959</td>\n      <td>-5.311701</td>\n      <td>-5.113150</td>\n      <td>-3.692348</td>\n    </tr>\n    <tr>\n      <th>2013-01-05</th>\n      <td>NaN</td>\n      <td>NaN</td>\n      <td>NaN</td>\n      <td>NaN</td>\n    </tr>\n    <tr>\n      <th>2013-01-06</th>\n      <td>-7.577094</td>\n      <td>-6.527702</td>\n      <td>-4.023489</td>\n      <td>-6.465774</td>\n    </tr>\n  </tbody>\n</table>\n</div>"
     },
     "metadata": {},
     "execution_count": 130
    }
   ],
   "source": [
    "df.sub(s, axis='index')"
   ]
  },
  {
   "cell_type": "code",
   "execution_count": 132,
   "metadata": {
    "tags": []
   },
   "outputs": [
    {
     "output_type": "stream",
     "name": "stdout",
     "text": "A         B         C         D\n2013-01-01 -1.861670  1.507707  0.634822 -1.225244\n2013-01-02  1.175150  0.809828 -0.477383  0.410365\n2013-01-03  0.572354  0.802708 -0.653188 -0.485505\n2013-01-04  0.150041 -0.311701 -0.113150  1.307652\n2013-01-05  1.365597  0.677248 -1.353817 -0.444635\n2013-01-06 -1.577094 -0.527702  1.976511 -0.465774\n"
    },
    {
     "output_type": "execute_result",
     "data": {
      "text/plain": "                   A         B         C         D\n2013-01-01 -1.861670  1.507707  0.634822 -1.225244\n2013-01-02 -0.686520  2.317535  0.157439 -0.814879\n2013-01-03 -0.114166  3.120243 -0.495749 -1.300384\n2013-01-04  0.035876  2.808542 -0.608899  0.007269\n2013-01-05  1.401472  3.485790 -1.962716 -0.437367\n2013-01-06 -0.175622  2.958088  0.013795 -0.903141",
      "text/html": "<div>\n<style scoped>\n    .dataframe tbody tr th:only-of-type {\n        vertical-align: middle;\n    }\n\n    .dataframe tbody tr th {\n        vertical-align: top;\n    }\n\n    .dataframe thead th {\n        text-align: right;\n    }\n</style>\n<table border=\"1\" class=\"dataframe\">\n  <thead>\n    <tr style=\"text-align: right;\">\n      <th></th>\n      <th>A</th>\n      <th>B</th>\n      <th>C</th>\n      <th>D</th>\n    </tr>\n  </thead>\n  <tbody>\n    <tr>\n      <th>2013-01-01</th>\n      <td>-1.861670</td>\n      <td>1.507707</td>\n      <td>0.634822</td>\n      <td>-1.225244</td>\n    </tr>\n    <tr>\n      <th>2013-01-02</th>\n      <td>-0.686520</td>\n      <td>2.317535</td>\n      <td>0.157439</td>\n      <td>-0.814879</td>\n    </tr>\n    <tr>\n      <th>2013-01-03</th>\n      <td>-0.114166</td>\n      <td>3.120243</td>\n      <td>-0.495749</td>\n      <td>-1.300384</td>\n    </tr>\n    <tr>\n      <th>2013-01-04</th>\n      <td>0.035876</td>\n      <td>2.808542</td>\n      <td>-0.608899</td>\n      <td>0.007269</td>\n    </tr>\n    <tr>\n      <th>2013-01-05</th>\n      <td>1.401472</td>\n      <td>3.485790</td>\n      <td>-1.962716</td>\n      <td>-0.437367</td>\n    </tr>\n    <tr>\n      <th>2013-01-06</th>\n      <td>-0.175622</td>\n      <td>2.958088</td>\n      <td>0.013795</td>\n      <td>-0.903141</td>\n    </tr>\n  </tbody>\n</table>\n</div>"
     },
     "metadata": {},
     "execution_count": 132
    }
   ],
   "source": [
    "# ######################################################\n",
    "# Applying function to the data :\n",
    "######################################################\n",
    "print(df)\n",
    "# column별로 cumulative sum\n",
    "df.apply(np.cumsum)"
   ]
  },
  {
   "cell_type": "code",
   "execution_count": 134,
   "metadata": {},
   "outputs": [
    {
     "output_type": "execute_result",
     "data": {
      "text/plain": "0    3\n1    3\n2    2\n3    4\n4    0\n5    2\n6    4\n7    1\n8    1\n9    1\ndtype: int64"
     },
     "metadata": {},
     "execution_count": 134
    }
   ],
   "source": [
    "######################################################\n",
    "# Histogramming\n",
    "######################################################\n",
    "\n",
    "s = pd.Series(np.random.randint(0, 7, size=10))\n",
    "s"
   ]
  },
  {
   "cell_type": "code",
   "execution_count": 138,
   "metadata": {},
   "outputs": [
    {
     "output_type": "execute_result",
     "data": {
      "text/plain": "1    3\n4    2\n3    2\n2    2\n0    1\ndtype: int64"
     },
     "metadata": {},
     "execution_count": 138
    }
   ],
   "source": [
    "s.value_counts()"
   ]
  },
  {
   "cell_type": "code",
   "execution_count": 136,
   "metadata": {},
   "outputs": [
    {
     "output_type": "execute_result",
     "data": {
      "text/plain": "0    1\n1    3\n2    2\n3    2\n4    2\ndtype: int64"
     },
     "metadata": {},
     "execution_count": 136
    }
   ],
   "source": [
    "s.value_counts().sort_index()"
   ]
  },
  {
   "cell_type": "code",
   "execution_count": 150,
   "metadata": {
    "tags": []
   },
   "outputs": [
    {
     "output_type": "execute_result",
     "data": {
      "text/plain": "0     apple\n1     banan\n2    carrot\n3      aaba\n4      bcad\n5       NaN\n6      caba\ndtype: object"
     },
     "metadata": {},
     "execution_count": 150
    }
   ],
   "source": [
    "s = pd.Series(['apple', 'Banan', 'Carrot', 'Aaba', 'Bcad', np.nan, 'CABA'])\n",
    "s.str.lower()"
   ]
  },
  {
   "cell_type": "code",
   "execution_count": null,
   "metadata": {},
   "outputs": [],
   "source": []
  }
 ]
}