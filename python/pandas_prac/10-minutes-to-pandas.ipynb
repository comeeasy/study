{
 "metadata": {
  "language_info": {
   "codemirror_mode": {
    "name": "ipython",
    "version": 3
   },
   "file_extension": ".py",
   "mimetype": "text/x-python",
   "name": "python",
   "nbconvert_exporter": "python",
   "pygments_lexer": "ipython3",
   "version": "3.8.2-final"
  },
  "orig_nbformat": 2,
  "kernelspec": {
   "name": "python_defaultSpec_1596951335313",
   "display_name": "Python 3.8.2 64-bit"
  }
 },
 "nbformat": 4,
 "nbformat_minor": 2,
 "cells": [
  {
   "cell_type": "code",
   "execution_count": 2,
   "metadata": {
    "tags": []
   },
   "outputs": [
    {
     "output_type": "stream",
     "name": "stdout",
     "text": "Hello Jupitor\n"
    }
   ],
   "source": [
    "print('Hello Jupitor')"
   ]
  },
  {
   "cell_type": "code",
   "execution_count": 3,
   "metadata": {},
   "outputs": [],
   "source": [
    "import numpy as np\n",
    "import pandas as pd"
   ]
  },
  {
   "cell_type": "code",
   "execution_count": 4,
   "metadata": {},
   "outputs": [
    {
     "output_type": "execute_result",
     "data": {
      "text/plain": "0    1.0\n1    3.0\n2    5.0\n3    NaN\n4    6.0\n5    8.0\ndtype: float64"
     },
     "metadata": {},
     "execution_count": 4
    }
   ],
   "source": [
    "s = pd.Series([1, 3, 5, np.nan, 6, 8])\n",
    "s"
   ]
  },
  {
   "cell_type": "code",
   "execution_count": 5,
   "metadata": {
    "tags": []
   },
   "outputs": [
    {
     "output_type": "stream",
     "name": "stdout",
     "text": "DatetimeIndex(['2013-01-01', '2013-01-02', '2013-01-03', '2013-01-04',\n               '2013-01-05', '2013-01-06'],\n              dtype='datetime64[ns]', freq='D')\nDatetimeIndex(['2013-01-31', '2013-02-28', '2013-03-31', '2013-04-30',\n               '2013-05-31', '2013-06-30'],\n              dtype='datetime64[ns]', freq='M')\nDatetimeIndex(['2013-12-31', '2014-12-31', '2015-12-31', '2016-12-31',\n               '2017-12-31', '2018-12-31'],\n              dtype='datetime64[ns]', freq='A-DEC')\n"
    }
   ],
   "source": [
    "dates = pd.date_range('20130101', periods=6, freq='D')\n",
    "print(dates)\n",
    "dates2 = pd.date_range('20130101', periods=6, freq='M')\n",
    "print(dates2)\n",
    "dates3 = pd.date_range('20130101', periods=6, freq='Y')\n",
    "print(dates3)"
   ]
  },
  {
   "cell_type": "code",
   "execution_count": 6,
   "metadata": {},
   "outputs": [
    {
     "output_type": "execute_result",
     "data": {
      "text/plain": "                   A         B         C         D\n2013-01-01  0.480811 -2.301358  0.452821 -0.586353\n2013-01-02  1.118015 -0.343322 -1.570505  0.374936\n2013-01-03 -0.386501 -0.351715  1.419200  1.027139\n2013-01-04  1.049505  1.176664 -1.620546 -0.528511\n2013-01-05 -0.028976 -0.033604  1.054312 -0.672542\n2013-01-06 -0.839519 -0.847511 -1.976500 -2.028791",
      "text/html": "<div>\n<style scoped>\n    .dataframe tbody tr th:only-of-type {\n        vertical-align: middle;\n    }\n\n    .dataframe tbody tr th {\n        vertical-align: top;\n    }\n\n    .dataframe thead th {\n        text-align: right;\n    }\n</style>\n<table border=\"1\" class=\"dataframe\">\n  <thead>\n    <tr style=\"text-align: right;\">\n      <th></th>\n      <th>A</th>\n      <th>B</th>\n      <th>C</th>\n      <th>D</th>\n    </tr>\n  </thead>\n  <tbody>\n    <tr>\n      <th>2013-01-01</th>\n      <td>0.480811</td>\n      <td>-2.301358</td>\n      <td>0.452821</td>\n      <td>-0.586353</td>\n    </tr>\n    <tr>\n      <th>2013-01-02</th>\n      <td>1.118015</td>\n      <td>-0.343322</td>\n      <td>-1.570505</td>\n      <td>0.374936</td>\n    </tr>\n    <tr>\n      <th>2013-01-03</th>\n      <td>-0.386501</td>\n      <td>-0.351715</td>\n      <td>1.419200</td>\n      <td>1.027139</td>\n    </tr>\n    <tr>\n      <th>2013-01-04</th>\n      <td>1.049505</td>\n      <td>1.176664</td>\n      <td>-1.620546</td>\n      <td>-0.528511</td>\n    </tr>\n    <tr>\n      <th>2013-01-05</th>\n      <td>-0.028976</td>\n      <td>-0.033604</td>\n      <td>1.054312</td>\n      <td>-0.672542</td>\n    </tr>\n    <tr>\n      <th>2013-01-06</th>\n      <td>-0.839519</td>\n      <td>-0.847511</td>\n      <td>-1.976500</td>\n      <td>-2.028791</td>\n    </tr>\n  </tbody>\n</table>\n</div>"
     },
     "metadata": {},
     "execution_count": 6
    }
   ],
   "source": [
    "# Creating a DataFrame by passing a BumPy array, with a datetime index\n",
    "# and labeled columns\n",
    "\n",
    "df = pd.DataFrame(np.random.randn(6, 4), index=dates, columns=list('ABCD'))\n",
    "df"
   ]
  },
  {
   "cell_type": "code",
   "execution_count": 7,
   "metadata": {},
   "outputs": [
    {
     "output_type": "execute_result",
     "data": {
      "text/plain": "     A          B    C  D      E    F\n0  1.0 2013-01-02  1.0  3   test  foo\n1  1.0 2013-01-02  1.0  3  train  foo\n2  1.0 2013-01-02  1.0  3   test  foo\n3  1.0 2013-01-02  1.0  3  train  foo",
      "text/html": "<div>\n<style scoped>\n    .dataframe tbody tr th:only-of-type {\n        vertical-align: middle;\n    }\n\n    .dataframe tbody tr th {\n        vertical-align: top;\n    }\n\n    .dataframe thead th {\n        text-align: right;\n    }\n</style>\n<table border=\"1\" class=\"dataframe\">\n  <thead>\n    <tr style=\"text-align: right;\">\n      <th></th>\n      <th>A</th>\n      <th>B</th>\n      <th>C</th>\n      <th>D</th>\n      <th>E</th>\n      <th>F</th>\n    </tr>\n  </thead>\n  <tbody>\n    <tr>\n      <th>0</th>\n      <td>1.0</td>\n      <td>2013-01-02</td>\n      <td>1.0</td>\n      <td>3</td>\n      <td>test</td>\n      <td>foo</td>\n    </tr>\n    <tr>\n      <th>1</th>\n      <td>1.0</td>\n      <td>2013-01-02</td>\n      <td>1.0</td>\n      <td>3</td>\n      <td>train</td>\n      <td>foo</td>\n    </tr>\n    <tr>\n      <th>2</th>\n      <td>1.0</td>\n      <td>2013-01-02</td>\n      <td>1.0</td>\n      <td>3</td>\n      <td>test</td>\n      <td>foo</td>\n    </tr>\n    <tr>\n      <th>3</th>\n      <td>1.0</td>\n      <td>2013-01-02</td>\n      <td>1.0</td>\n      <td>3</td>\n      <td>train</td>\n      <td>foo</td>\n    </tr>\n  </tbody>\n</table>\n</div>"
     },
     "metadata": {},
     "execution_count": 7
    }
   ],
   "source": [
    "# Crearting a DataFrame by passing a dict of objects that can be\n",
    "# converted to series-like\n",
    "df2 = pd.DataFrame({'A' : 1.,\n",
    "                    'B' : pd.Timestamp('20130102'),\n",
    "                    'C' : pd.Series(1, index=list(range(4)), dtype='float32'),\n",
    "                    'D' : np.array([3] * 4, dtype='int32'),\n",
    "                    'E' : pd.Categorical(['test', 'train', 'test', 'train']),\n",
    "                    'F' : 'foo'})\n",
    "df2"
   ]
  },
  {
   "cell_type": "code",
   "execution_count": 8,
   "metadata": {},
   "outputs": [
    {
     "output_type": "execute_result",
     "data": {
      "text/plain": "A           float64\nB    datetime64[ns]\nC           float32\nD             int32\nE          category\nF            object\ndtype: object"
     },
     "metadata": {},
     "execution_count": 8
    }
   ],
   "source": [
    "df2.dtypes"
   ]
  },
  {
   "cell_type": "code",
   "execution_count": 9,
   "metadata": {
    "tags": []
   },
   "outputs": [
    {
     "output_type": "execute_result",
     "data": {
      "text/plain": "                   A         B         C         D\n2013-01-01  0.480811 -2.301358  0.452821 -0.586353\n2013-01-02  1.118015 -0.343322 -1.570505  0.374936\n2013-01-03 -0.386501 -0.351715  1.419200  1.027139\n2013-01-04  1.049505  1.176664 -1.620546 -0.528511\n2013-01-05 -0.028976 -0.033604  1.054312 -0.672542",
      "text/html": "<div>\n<style scoped>\n    .dataframe tbody tr th:only-of-type {\n        vertical-align: middle;\n    }\n\n    .dataframe tbody tr th {\n        vertical-align: top;\n    }\n\n    .dataframe thead th {\n        text-align: right;\n    }\n</style>\n<table border=\"1\" class=\"dataframe\">\n  <thead>\n    <tr style=\"text-align: right;\">\n      <th></th>\n      <th>A</th>\n      <th>B</th>\n      <th>C</th>\n      <th>D</th>\n    </tr>\n  </thead>\n  <tbody>\n    <tr>\n      <th>2013-01-01</th>\n      <td>0.480811</td>\n      <td>-2.301358</td>\n      <td>0.452821</td>\n      <td>-0.586353</td>\n    </tr>\n    <tr>\n      <th>2013-01-02</th>\n      <td>1.118015</td>\n      <td>-0.343322</td>\n      <td>-1.570505</td>\n      <td>0.374936</td>\n    </tr>\n    <tr>\n      <th>2013-01-03</th>\n      <td>-0.386501</td>\n      <td>-0.351715</td>\n      <td>1.419200</td>\n      <td>1.027139</td>\n    </tr>\n    <tr>\n      <th>2013-01-04</th>\n      <td>1.049505</td>\n      <td>1.176664</td>\n      <td>-1.620546</td>\n      <td>-0.528511</td>\n    </tr>\n    <tr>\n      <th>2013-01-05</th>\n      <td>-0.028976</td>\n      <td>-0.033604</td>\n      <td>1.054312</td>\n      <td>-0.672542</td>\n    </tr>\n  </tbody>\n</table>\n</div>"
     },
     "metadata": {},
     "execution_count": 9
    }
   ],
   "source": [
    "# Here is how to view the top and bottom rows of the frame :\n",
    "df.head()"
   ]
  },
  {
   "cell_type": "code",
   "execution_count": 10,
   "metadata": {},
   "outputs": [
    {
     "output_type": "execute_result",
     "data": {
      "text/plain": "                   A         B         C         D\n2013-01-02  1.118015 -0.343322 -1.570505  0.374936\n2013-01-03 -0.386501 -0.351715  1.419200  1.027139\n2013-01-04  1.049505  1.176664 -1.620546 -0.528511\n2013-01-05 -0.028976 -0.033604  1.054312 -0.672542\n2013-01-06 -0.839519 -0.847511 -1.976500 -2.028791",
      "text/html": "<div>\n<style scoped>\n    .dataframe tbody tr th:only-of-type {\n        vertical-align: middle;\n    }\n\n    .dataframe tbody tr th {\n        vertical-align: top;\n    }\n\n    .dataframe thead th {\n        text-align: right;\n    }\n</style>\n<table border=\"1\" class=\"dataframe\">\n  <thead>\n    <tr style=\"text-align: right;\">\n      <th></th>\n      <th>A</th>\n      <th>B</th>\n      <th>C</th>\n      <th>D</th>\n    </tr>\n  </thead>\n  <tbody>\n    <tr>\n      <th>2013-01-02</th>\n      <td>1.118015</td>\n      <td>-0.343322</td>\n      <td>-1.570505</td>\n      <td>0.374936</td>\n    </tr>\n    <tr>\n      <th>2013-01-03</th>\n      <td>-0.386501</td>\n      <td>-0.351715</td>\n      <td>1.419200</td>\n      <td>1.027139</td>\n    </tr>\n    <tr>\n      <th>2013-01-04</th>\n      <td>1.049505</td>\n      <td>1.176664</td>\n      <td>-1.620546</td>\n      <td>-0.528511</td>\n    </tr>\n    <tr>\n      <th>2013-01-05</th>\n      <td>-0.028976</td>\n      <td>-0.033604</td>\n      <td>1.054312</td>\n      <td>-0.672542</td>\n    </tr>\n    <tr>\n      <th>2013-01-06</th>\n      <td>-0.839519</td>\n      <td>-0.847511</td>\n      <td>-1.976500</td>\n      <td>-2.028791</td>\n    </tr>\n  </tbody>\n</table>\n</div>"
     },
     "metadata": {},
     "execution_count": 10
    }
   ],
   "source": [
    "df.tail()"
   ]
  },
  {
   "cell_type": "code",
   "execution_count": 11,
   "metadata": {},
   "outputs": [
    {
     "output_type": "execute_result",
     "data": {
      "text/plain": "Int64Index([0, 1, 2, 3], dtype='int64')"
     },
     "metadata": {},
     "execution_count": 11
    }
   ],
   "source": [
    "df2.index"
   ]
  },
  {
   "cell_type": "code",
   "execution_count": 12,
   "metadata": {},
   "outputs": [
    {
     "output_type": "execute_result",
     "data": {
      "text/plain": "Index(['A', 'B', 'C', 'D'], dtype='object')"
     },
     "metadata": {},
     "execution_count": 12
    }
   ],
   "source": [
    "df.columns"
   ]
  },
  {
   "cell_type": "code",
   "execution_count": 13,
   "metadata": {},
   "outputs": [
    {
     "output_type": "execute_result",
     "data": {
      "text/plain": "array([[ 0.4808107 , -2.30135758,  0.45282133, -0.58635313],\n       [ 1.11801497, -0.34332246, -1.57050471,  0.37493642],\n       [-0.38650134, -0.3517146 ,  1.41920035,  1.02713857],\n       [ 1.04950534,  1.17666442, -1.62054594, -0.52851083],\n       [-0.02897573, -0.03360371,  1.0543121 , -0.67254188],\n       [-0.83951937, -0.84751055, -1.97649952, -2.02879125]])"
     },
     "metadata": {},
     "execution_count": 13
    }
   ],
   "source": [
    "'''\n",
    "DataFrame.to_numpy() gives a NumPy representation of the underlying data\n",
    "Note that this can be ad expensive operation when your DataFrame has columns with different\n",
    "dtypes, which comes down to a fundemental difference between pandas and NumPy\n",
    ": Numpy arrays have one dtype for the entire array, whlie pandas DataFrames have one dtype\n",
    "per column. when you call DataFrame.to_numpy(), pandas will find the Numpy dtype that can hold all of the dtypes in the DataFrame. This may end up being 'object', which requires\n",
    "casting every value to a Python objent\n",
    "'''\n",
    "\n",
    "df.to_numpy()"
   ]
  },
  {
   "cell_type": "code",
   "execution_count": 14,
   "metadata": {},
   "outputs": [
    {
     "output_type": "execute_result",
     "data": {
      "text/plain": "array([[1.0, Timestamp('2013-01-02 00:00:00'), 1.0, 3, 'test', 'foo'],\n       [1.0, Timestamp('2013-01-02 00:00:00'), 1.0, 3, 'train', 'foo'],\n       [1.0, Timestamp('2013-01-02 00:00:00'), 1.0, 3, 'test', 'foo'],\n       [1.0, Timestamp('2013-01-02 00:00:00'), 1.0, 3, 'train', 'foo']],\n      dtype=object)"
     },
     "metadata": {},
     "execution_count": 14
    }
   ],
   "source": [
    "df2.to_numpy()"
   ]
  },
  {
   "cell_type": "code",
   "execution_count": 15,
   "metadata": {},
   "outputs": [
    {
     "output_type": "execute_result",
     "data": {
      "text/plain": "              A         B         C         D\ncount  6.000000  6.000000  6.000000  6.000000\nmean   0.232222 -0.450141 -0.373536 -0.402354\nstd    0.789183  1.133667  1.516099  1.040740\nmin   -0.839519 -2.301358 -1.976500 -2.028791\n25%   -0.297120 -0.723562 -1.608036 -0.650995\n50%    0.225917 -0.347519 -0.558842 -0.557432\n75%    0.907332 -0.111033  0.903939  0.149075\nmax    1.118015  1.176664  1.419200  1.027139",
      "text/html": "<div>\n<style scoped>\n    .dataframe tbody tr th:only-of-type {\n        vertical-align: middle;\n    }\n\n    .dataframe tbody tr th {\n        vertical-align: top;\n    }\n\n    .dataframe thead th {\n        text-align: right;\n    }\n</style>\n<table border=\"1\" class=\"dataframe\">\n  <thead>\n    <tr style=\"text-align: right;\">\n      <th></th>\n      <th>A</th>\n      <th>B</th>\n      <th>C</th>\n      <th>D</th>\n    </tr>\n  </thead>\n  <tbody>\n    <tr>\n      <th>count</th>\n      <td>6.000000</td>\n      <td>6.000000</td>\n      <td>6.000000</td>\n      <td>6.000000</td>\n    </tr>\n    <tr>\n      <th>mean</th>\n      <td>0.232222</td>\n      <td>-0.450141</td>\n      <td>-0.373536</td>\n      <td>-0.402354</td>\n    </tr>\n    <tr>\n      <th>std</th>\n      <td>0.789183</td>\n      <td>1.133667</td>\n      <td>1.516099</td>\n      <td>1.040740</td>\n    </tr>\n    <tr>\n      <th>min</th>\n      <td>-0.839519</td>\n      <td>-2.301358</td>\n      <td>-1.976500</td>\n      <td>-2.028791</td>\n    </tr>\n    <tr>\n      <th>25%</th>\n      <td>-0.297120</td>\n      <td>-0.723562</td>\n      <td>-1.608036</td>\n      <td>-0.650995</td>\n    </tr>\n    <tr>\n      <th>50%</th>\n      <td>0.225917</td>\n      <td>-0.347519</td>\n      <td>-0.558842</td>\n      <td>-0.557432</td>\n    </tr>\n    <tr>\n      <th>75%</th>\n      <td>0.907332</td>\n      <td>-0.111033</td>\n      <td>0.903939</td>\n      <td>0.149075</td>\n    </tr>\n    <tr>\n      <th>max</th>\n      <td>1.118015</td>\n      <td>1.176664</td>\n      <td>1.419200</td>\n      <td>1.027139</td>\n    </tr>\n  </tbody>\n</table>\n</div>"
     },
     "metadata": {},
     "execution_count": 15
    }
   ],
   "source": [
    "# summary of data\n",
    "df.describe()"
   ]
  },
  {
   "cell_type": "code",
   "execution_count": 16,
   "metadata": {
    "tags": []
   },
   "outputs": [
    {
     "output_type": "stream",
     "name": "stdout",
     "text": "[[ 0.4808107  -2.30135758  0.45282133 -0.58635313]\n [ 1.11801497 -0.34332246 -1.57050471  0.37493642]\n [-0.38650134 -0.3517146   1.41920035  1.02713857]\n [ 1.04950534  1.17666442 -1.62054594 -0.52851083]\n [-0.02897573 -0.03360371  1.0543121  -0.67254188]\n [-0.83951937 -0.84751055 -1.97649952 -2.02879125]]\n"
    },
    {
     "output_type": "execute_result",
     "data": {
      "text/plain": "   2013-01-01  2013-01-02  2013-01-03  2013-01-04  2013-01-05  2013-01-06\nA    0.480811    1.118015   -0.386501    1.049505   -0.028976   -0.839519\nB   -2.301358   -0.343322   -0.351715    1.176664   -0.033604   -0.847511\nC    0.452821   -1.570505    1.419200   -1.620546    1.054312   -1.976500\nD   -0.586353    0.374936    1.027139   -0.528511   -0.672542   -2.028791",
      "text/html": "<div>\n<style scoped>\n    .dataframe tbody tr th:only-of-type {\n        vertical-align: middle;\n    }\n\n    .dataframe tbody tr th {\n        vertical-align: top;\n    }\n\n    .dataframe thead th {\n        text-align: right;\n    }\n</style>\n<table border=\"1\" class=\"dataframe\">\n  <thead>\n    <tr style=\"text-align: right;\">\n      <th></th>\n      <th>2013-01-01</th>\n      <th>2013-01-02</th>\n      <th>2013-01-03</th>\n      <th>2013-01-04</th>\n      <th>2013-01-05</th>\n      <th>2013-01-06</th>\n    </tr>\n  </thead>\n  <tbody>\n    <tr>\n      <th>A</th>\n      <td>0.480811</td>\n      <td>1.118015</td>\n      <td>-0.386501</td>\n      <td>1.049505</td>\n      <td>-0.028976</td>\n      <td>-0.839519</td>\n    </tr>\n    <tr>\n      <th>B</th>\n      <td>-2.301358</td>\n      <td>-0.343322</td>\n      <td>-0.351715</td>\n      <td>1.176664</td>\n      <td>-0.033604</td>\n      <td>-0.847511</td>\n    </tr>\n    <tr>\n      <th>C</th>\n      <td>0.452821</td>\n      <td>-1.570505</td>\n      <td>1.419200</td>\n      <td>-1.620546</td>\n      <td>1.054312</td>\n      <td>-1.976500</td>\n    </tr>\n    <tr>\n      <th>D</th>\n      <td>-0.586353</td>\n      <td>0.374936</td>\n      <td>1.027139</td>\n      <td>-0.528511</td>\n      <td>-0.672542</td>\n      <td>-2.028791</td>\n    </tr>\n  </tbody>\n</table>\n</div>"
     },
     "metadata": {},
     "execution_count": 16
    }
   ],
   "source": [
    "# Transpose\n",
    "print(df.to_numpy())\n",
    "df.T"
   ]
  },
  {
   "cell_type": "code",
   "execution_count": 17,
   "metadata": {},
   "outputs": [
    {
     "output_type": "execute_result",
     "data": {
      "text/plain": "                   A         B         C         D\n2013-01-01  0.480811 -2.301358  0.452821 -0.586353\n2013-01-02  1.118015 -0.343322 -1.570505  0.374936\n2013-01-03 -0.386501 -0.351715  1.419200  1.027139\n2013-01-04  1.049505  1.176664 -1.620546 -0.528511\n2013-01-05 -0.028976 -0.033604  1.054312 -0.672542\n2013-01-06 -0.839519 -0.847511 -1.976500 -2.028791",
      "text/html": "<div>\n<style scoped>\n    .dataframe tbody tr th:only-of-type {\n        vertical-align: middle;\n    }\n\n    .dataframe tbody tr th {\n        vertical-align: top;\n    }\n\n    .dataframe thead th {\n        text-align: right;\n    }\n</style>\n<table border=\"1\" class=\"dataframe\">\n  <thead>\n    <tr style=\"text-align: right;\">\n      <th></th>\n      <th>A</th>\n      <th>B</th>\n      <th>C</th>\n      <th>D</th>\n    </tr>\n  </thead>\n  <tbody>\n    <tr>\n      <th>2013-01-01</th>\n      <td>0.480811</td>\n      <td>-2.301358</td>\n      <td>0.452821</td>\n      <td>-0.586353</td>\n    </tr>\n    <tr>\n      <th>2013-01-02</th>\n      <td>1.118015</td>\n      <td>-0.343322</td>\n      <td>-1.570505</td>\n      <td>0.374936</td>\n    </tr>\n    <tr>\n      <th>2013-01-03</th>\n      <td>-0.386501</td>\n      <td>-0.351715</td>\n      <td>1.419200</td>\n      <td>1.027139</td>\n    </tr>\n    <tr>\n      <th>2013-01-04</th>\n      <td>1.049505</td>\n      <td>1.176664</td>\n      <td>-1.620546</td>\n      <td>-0.528511</td>\n    </tr>\n    <tr>\n      <th>2013-01-05</th>\n      <td>-0.028976</td>\n      <td>-0.033604</td>\n      <td>1.054312</td>\n      <td>-0.672542</td>\n    </tr>\n    <tr>\n      <th>2013-01-06</th>\n      <td>-0.839519</td>\n      <td>-0.847511</td>\n      <td>-1.976500</td>\n      <td>-2.028791</td>\n    </tr>\n  </tbody>\n</table>\n</div>"
     },
     "metadata": {},
     "execution_count": 17
    }
   ],
   "source": [
    "# column명을 기준으로 sort\n",
    "df.sort_index(axis=1, ascending=True)"
   ]
  },
  {
   "cell_type": "code",
   "execution_count": 18,
   "metadata": {},
   "outputs": [
    {
     "output_type": "execute_result",
     "data": {
      "text/plain": "                   A         B         C         D\n2013-01-04  1.049505  1.176664 -1.620546 -0.528511\n2013-01-05 -0.028976 -0.033604  1.054312 -0.672542\n2013-01-02  1.118015 -0.343322 -1.570505  0.374936\n2013-01-03 -0.386501 -0.351715  1.419200  1.027139\n2013-01-06 -0.839519 -0.847511 -1.976500 -2.028791\n2013-01-01  0.480811 -2.301358  0.452821 -0.586353",
      "text/html": "<div>\n<style scoped>\n    .dataframe tbody tr th:only-of-type {\n        vertical-align: middle;\n    }\n\n    .dataframe tbody tr th {\n        vertical-align: top;\n    }\n\n    .dataframe thead th {\n        text-align: right;\n    }\n</style>\n<table border=\"1\" class=\"dataframe\">\n  <thead>\n    <tr style=\"text-align: right;\">\n      <th></th>\n      <th>A</th>\n      <th>B</th>\n      <th>C</th>\n      <th>D</th>\n    </tr>\n  </thead>\n  <tbody>\n    <tr>\n      <th>2013-01-04</th>\n      <td>1.049505</td>\n      <td>1.176664</td>\n      <td>-1.620546</td>\n      <td>-0.528511</td>\n    </tr>\n    <tr>\n      <th>2013-01-05</th>\n      <td>-0.028976</td>\n      <td>-0.033604</td>\n      <td>1.054312</td>\n      <td>-0.672542</td>\n    </tr>\n    <tr>\n      <th>2013-01-02</th>\n      <td>1.118015</td>\n      <td>-0.343322</td>\n      <td>-1.570505</td>\n      <td>0.374936</td>\n    </tr>\n    <tr>\n      <th>2013-01-03</th>\n      <td>-0.386501</td>\n      <td>-0.351715</td>\n      <td>1.419200</td>\n      <td>1.027139</td>\n    </tr>\n    <tr>\n      <th>2013-01-06</th>\n      <td>-0.839519</td>\n      <td>-0.847511</td>\n      <td>-1.976500</td>\n      <td>-2.028791</td>\n    </tr>\n    <tr>\n      <th>2013-01-01</th>\n      <td>0.480811</td>\n      <td>-2.301358</td>\n      <td>0.452821</td>\n      <td>-0.586353</td>\n    </tr>\n  </tbody>\n</table>\n</div>"
     },
     "metadata": {},
     "execution_count": 18
    }
   ],
   "source": [
    "# B column을 기준으로 sort\n",
    "df.sort_values(by='B', ascending=False)"
   ]
  },
  {
   "cell_type": "code",
   "execution_count": 19,
   "metadata": {},
   "outputs": [
    {
     "output_type": "execute_result",
     "data": {
      "text/plain": "2013-01-01    0.480811\n2013-01-02    1.118015\n2013-01-03   -0.386501\n2013-01-04    1.049505\n2013-01-05   -0.028976\n2013-01-06   -0.839519\nFreq: D, Name: A, dtype: float64"
     },
     "metadata": {},
     "execution_count": 19
    }
   ],
   "source": [
    "#################################################\n",
    "# Selection\n",
    "#################################################\n",
    "\n",
    "# selection by index (row)\n",
    "\n",
    "df['A']"
   ]
  },
  {
   "cell_type": "code",
   "execution_count": 20,
   "metadata": {},
   "outputs": [
    {
     "output_type": "execute_result",
     "data": {
      "text/plain": "                   A         B         C         D\n2013-01-01  0.480811 -2.301358  0.452821 -0.586353\n2013-01-02  1.118015 -0.343322 -1.570505  0.374936\n2013-01-03 -0.386501 -0.351715  1.419200  1.027139",
      "text/html": "<div>\n<style scoped>\n    .dataframe tbody tr th:only-of-type {\n        vertical-align: middle;\n    }\n\n    .dataframe tbody tr th {\n        vertical-align: top;\n    }\n\n    .dataframe thead th {\n        text-align: right;\n    }\n</style>\n<table border=\"1\" class=\"dataframe\">\n  <thead>\n    <tr style=\"text-align: right;\">\n      <th></th>\n      <th>A</th>\n      <th>B</th>\n      <th>C</th>\n      <th>D</th>\n    </tr>\n  </thead>\n  <tbody>\n    <tr>\n      <th>2013-01-01</th>\n      <td>0.480811</td>\n      <td>-2.301358</td>\n      <td>0.452821</td>\n      <td>-0.586353</td>\n    </tr>\n    <tr>\n      <th>2013-01-02</th>\n      <td>1.118015</td>\n      <td>-0.343322</td>\n      <td>-1.570505</td>\n      <td>0.374936</td>\n    </tr>\n    <tr>\n      <th>2013-01-03</th>\n      <td>-0.386501</td>\n      <td>-0.351715</td>\n      <td>1.419200</td>\n      <td>1.027139</td>\n    </tr>\n  </tbody>\n</table>\n</div>"
     },
     "metadata": {},
     "execution_count": 20
    }
   ],
   "source": [
    "df[0:3]"
   ]
  },
  {
   "cell_type": "code",
   "execution_count": 21,
   "metadata": {},
   "outputs": [
    {
     "output_type": "execute_result",
     "data": {
      "text/plain": "                   A         B         C         D\n2013-01-02  1.118015 -0.343322 -1.570505  0.374936\n2013-01-03 -0.386501 -0.351715  1.419200  1.027139\n2013-01-04  1.049505  1.176664 -1.620546 -0.528511",
      "text/html": "<div>\n<style scoped>\n    .dataframe tbody tr th:only-of-type {\n        vertical-align: middle;\n    }\n\n    .dataframe tbody tr th {\n        vertical-align: top;\n    }\n\n    .dataframe thead th {\n        text-align: right;\n    }\n</style>\n<table border=\"1\" class=\"dataframe\">\n  <thead>\n    <tr style=\"text-align: right;\">\n      <th></th>\n      <th>A</th>\n      <th>B</th>\n      <th>C</th>\n      <th>D</th>\n    </tr>\n  </thead>\n  <tbody>\n    <tr>\n      <th>2013-01-02</th>\n      <td>1.118015</td>\n      <td>-0.343322</td>\n      <td>-1.570505</td>\n      <td>0.374936</td>\n    </tr>\n    <tr>\n      <th>2013-01-03</th>\n      <td>-0.386501</td>\n      <td>-0.351715</td>\n      <td>1.419200</td>\n      <td>1.027139</td>\n    </tr>\n    <tr>\n      <th>2013-01-04</th>\n      <td>1.049505</td>\n      <td>1.176664</td>\n      <td>-1.620546</td>\n      <td>-0.528511</td>\n    </tr>\n  </tbody>\n</table>\n</div>"
     },
     "metadata": {},
     "execution_count": 21
    }
   ],
   "source": [
    "df['20130102':'20130104']"
   ]
  },
  {
   "cell_type": "code",
   "execution_count": 22,
   "metadata": {},
   "outputs": [
    {
     "output_type": "execute_result",
     "data": {
      "text/plain": "A    0.480811\nB   -2.301358\nC    0.452821\nD   -0.586353\nName: 2013-01-01 00:00:00, dtype: float64"
     },
     "metadata": {},
     "execution_count": 22
    }
   ],
   "source": [
    "# selection by label (column)\n",
    "\n",
    "# dates = ['2013-01-01', '2013-01-02', '2013-01-03', '2013-01-04', '2013-01-05', '2013-01-06']\n",
    "# 2013-01-01 row값을 label을 기준으로 출력\n",
    "df.loc[dates[0]]"
   ]
  },
  {
   "cell_type": "code",
   "execution_count": 23,
   "metadata": {},
   "outputs": [
    {
     "output_type": "execute_result",
     "data": {
      "text/plain": "                   A         B\n2013-01-01  0.480811 -2.301358\n2013-01-02  1.118015 -0.343322\n2013-01-03 -0.386501 -0.351715\n2013-01-04  1.049505  1.176664\n2013-01-05 -0.028976 -0.033604\n2013-01-06 -0.839519 -0.847511",
      "text/html": "<div>\n<style scoped>\n    .dataframe tbody tr th:only-of-type {\n        vertical-align: middle;\n    }\n\n    .dataframe tbody tr th {\n        vertical-align: top;\n    }\n\n    .dataframe thead th {\n        text-align: right;\n    }\n</style>\n<table border=\"1\" class=\"dataframe\">\n  <thead>\n    <tr style=\"text-align: right;\">\n      <th></th>\n      <th>A</th>\n      <th>B</th>\n    </tr>\n  </thead>\n  <tbody>\n    <tr>\n      <th>2013-01-01</th>\n      <td>0.480811</td>\n      <td>-2.301358</td>\n    </tr>\n    <tr>\n      <th>2013-01-02</th>\n      <td>1.118015</td>\n      <td>-0.343322</td>\n    </tr>\n    <tr>\n      <th>2013-01-03</th>\n      <td>-0.386501</td>\n      <td>-0.351715</td>\n    </tr>\n    <tr>\n      <th>2013-01-04</th>\n      <td>1.049505</td>\n      <td>1.176664</td>\n    </tr>\n    <tr>\n      <th>2013-01-05</th>\n      <td>-0.028976</td>\n      <td>-0.033604</td>\n    </tr>\n    <tr>\n      <th>2013-01-06</th>\n      <td>-0.839519</td>\n      <td>-0.847511</td>\n    </tr>\n  </tbody>\n</table>\n</div>"
     },
     "metadata": {},
     "execution_count": 23
    }
   ],
   "source": [
    "# 전체 row중 'A', 'B' 라벨만을 출력\n",
    "df.loc[:, ['A', 'B']]"
   ]
  },
  {
   "cell_type": "code",
   "execution_count": 24,
   "metadata": {},
   "outputs": [
    {
     "output_type": "execute_result",
     "data": {
      "text/plain": "                   A         B\n2013-01-02  1.118015 -0.343322\n2013-01-03 -0.386501 -0.351715\n2013-01-04  1.049505  1.176664",
      "text/html": "<div>\n<style scoped>\n    .dataframe tbody tr th:only-of-type {\n        vertical-align: middle;\n    }\n\n    .dataframe tbody tr th {\n        vertical-align: top;\n    }\n\n    .dataframe thead th {\n        text-align: right;\n    }\n</style>\n<table border=\"1\" class=\"dataframe\">\n  <thead>\n    <tr style=\"text-align: right;\">\n      <th></th>\n      <th>A</th>\n      <th>B</th>\n    </tr>\n  </thead>\n  <tbody>\n    <tr>\n      <th>2013-01-02</th>\n      <td>1.118015</td>\n      <td>-0.343322</td>\n    </tr>\n    <tr>\n      <th>2013-01-03</th>\n      <td>-0.386501</td>\n      <td>-0.351715</td>\n    </tr>\n    <tr>\n      <th>2013-01-04</th>\n      <td>1.049505</td>\n      <td>1.176664</td>\n    </tr>\n  </tbody>\n</table>\n</div>"
     },
     "metadata": {},
     "execution_count": 24
    }
   ],
   "source": [
    "df.loc['20130102':'20130104', ['A', 'B']]"
   ]
  },
  {
   "cell_type": "code",
   "execution_count": 25,
   "metadata": {},
   "outputs": [
    {
     "output_type": "execute_result",
     "data": {
      "text/plain": "0.4808106961487476"
     },
     "metadata": {},
     "execution_count": 25
    }
   ],
   "source": [
    "# for getting a scalar value :\n",
    "df.loc[dates[0], 'A']"
   ]
  },
  {
   "cell_type": "code",
   "execution_count": 26,
   "metadata": {
    "tags": []
   },
   "outputs": [
    {
     "output_type": "stream",
     "name": "stdout",
     "text": "A         B         C         D\n2013-01-01  0.480811 -2.301358  0.452821 -0.586353\n2013-01-02  1.118015 -0.343322 -1.570505  0.374936\n2013-01-03 -0.386501 -0.351715  1.419200  1.027139\n2013-01-04  1.049505  1.176664 -1.620546 -0.528511\n2013-01-05 -0.028976 -0.033604  1.054312 -0.672542\n2013-01-06 -0.839519 -0.847511 -1.976500 -2.028791\n"
    },
    {
     "output_type": "execute_result",
     "data": {
      "text/plain": "A    1.049505\nB    1.176664\nC   -1.620546\nD   -0.528511\nName: 2013-01-04 00:00:00, dtype: float64"
     },
     "metadata": {},
     "execution_count": 26
    }
   ],
   "source": [
    "######################################################\n",
    "# Selection by position\n",
    "######################################################\n",
    "\n",
    "# index locating? 인듯\n",
    "print(df)\n",
    "df.iloc[3]"
   ]
  },
  {
   "cell_type": "code",
   "execution_count": 27,
   "metadata": {},
   "outputs": [
    {
     "output_type": "execute_result",
     "data": {
      "text/plain": "                   A         B         C         D\n2013-01-02  1.118015 -0.343322 -1.570505  0.374936\n2013-01-03 -0.386501 -0.351715  1.419200  1.027139",
      "text/html": "<div>\n<style scoped>\n    .dataframe tbody tr th:only-of-type {\n        vertical-align: middle;\n    }\n\n    .dataframe tbody tr th {\n        vertical-align: top;\n    }\n\n    .dataframe thead th {\n        text-align: right;\n    }\n</style>\n<table border=\"1\" class=\"dataframe\">\n  <thead>\n    <tr style=\"text-align: right;\">\n      <th></th>\n      <th>A</th>\n      <th>B</th>\n      <th>C</th>\n      <th>D</th>\n    </tr>\n  </thead>\n  <tbody>\n    <tr>\n      <th>2013-01-02</th>\n      <td>1.118015</td>\n      <td>-0.343322</td>\n      <td>-1.570505</td>\n      <td>0.374936</td>\n    </tr>\n    <tr>\n      <th>2013-01-03</th>\n      <td>-0.386501</td>\n      <td>-0.351715</td>\n      <td>1.419200</td>\n      <td>1.027139</td>\n    </tr>\n  </tbody>\n</table>\n</div>"
     },
     "metadata": {},
     "execution_count": 27
    }
   ],
   "source": [
    "df.iloc[1:3, :]"
   ]
  },
  {
   "cell_type": "code",
   "execution_count": 28,
   "metadata": {},
   "outputs": [
    {
     "output_type": "execute_result",
     "data": {
      "text/plain": "                   A         C\n2013-01-02  1.118015 -1.570505\n2013-01-03 -0.386501  1.419200\n2013-01-05 -0.028976  1.054312",
      "text/html": "<div>\n<style scoped>\n    .dataframe tbody tr th:only-of-type {\n        vertical-align: middle;\n    }\n\n    .dataframe tbody tr th {\n        vertical-align: top;\n    }\n\n    .dataframe thead th {\n        text-align: right;\n    }\n</style>\n<table border=\"1\" class=\"dataframe\">\n  <thead>\n    <tr style=\"text-align: right;\">\n      <th></th>\n      <th>A</th>\n      <th>C</th>\n    </tr>\n  </thead>\n  <tbody>\n    <tr>\n      <th>2013-01-02</th>\n      <td>1.118015</td>\n      <td>-1.570505</td>\n    </tr>\n    <tr>\n      <th>2013-01-03</th>\n      <td>-0.386501</td>\n      <td>1.419200</td>\n    </tr>\n    <tr>\n      <th>2013-01-05</th>\n      <td>-0.028976</td>\n      <td>1.054312</td>\n    </tr>\n  </tbody>\n</table>\n</div>"
     },
     "metadata": {},
     "execution_count": 28
    }
   ],
   "source": [
    "df.iloc[[1, 2, 4], [0, 2]]"
   ]
  },
  {
   "cell_type": "code",
   "execution_count": 29,
   "metadata": {},
   "outputs": [
    {
     "output_type": "execute_result",
     "data": {
      "text/plain": "-0.3433224614868818"
     },
     "metadata": {},
     "execution_count": 29
    }
   ],
   "source": [
    "# iloc[1, 1], iat[1, 1] 의 결과는 같지만\n",
    "# iat가 개별 값에 접근할 떄는 더 빠르다\n",
    "\n",
    "df.iloc[1, 1]"
   ]
  },
  {
   "cell_type": "code",
   "execution_count": 30,
   "metadata": {},
   "outputs": [
    {
     "output_type": "execute_result",
     "data": {
      "text/plain": "-0.3433224614868818"
     },
     "metadata": {},
     "execution_count": 30
    }
   ],
   "source": [
    "df.iat[1, 1]"
   ]
  },
  {
   "cell_type": "code",
   "execution_count": 31,
   "metadata": {},
   "outputs": [
    {
     "output_type": "execute_result",
     "data": {
      "text/plain": "                   A         B         C         D\n2013-01-01       NaN -2.301358       NaN -0.586353\n2013-01-02       NaN -0.343322 -1.570505       NaN\n2013-01-03 -0.386501 -0.351715       NaN       NaN\n2013-01-04       NaN       NaN -1.620546 -0.528511\n2013-01-05 -0.028976 -0.033604       NaN -0.672542\n2013-01-06 -0.839519 -0.847511 -1.976500 -2.028791",
      "text/html": "<div>\n<style scoped>\n    .dataframe tbody tr th:only-of-type {\n        vertical-align: middle;\n    }\n\n    .dataframe tbody tr th {\n        vertical-align: top;\n    }\n\n    .dataframe thead th {\n        text-align: right;\n    }\n</style>\n<table border=\"1\" class=\"dataframe\">\n  <thead>\n    <tr style=\"text-align: right;\">\n      <th></th>\n      <th>A</th>\n      <th>B</th>\n      <th>C</th>\n      <th>D</th>\n    </tr>\n  </thead>\n  <tbody>\n    <tr>\n      <th>2013-01-01</th>\n      <td>NaN</td>\n      <td>-2.301358</td>\n      <td>NaN</td>\n      <td>-0.586353</td>\n    </tr>\n    <tr>\n      <th>2013-01-02</th>\n      <td>NaN</td>\n      <td>-0.343322</td>\n      <td>-1.570505</td>\n      <td>NaN</td>\n    </tr>\n    <tr>\n      <th>2013-01-03</th>\n      <td>-0.386501</td>\n      <td>-0.351715</td>\n      <td>NaN</td>\n      <td>NaN</td>\n    </tr>\n    <tr>\n      <th>2013-01-04</th>\n      <td>NaN</td>\n      <td>NaN</td>\n      <td>-1.620546</td>\n      <td>-0.528511</td>\n    </tr>\n    <tr>\n      <th>2013-01-05</th>\n      <td>-0.028976</td>\n      <td>-0.033604</td>\n      <td>NaN</td>\n      <td>-0.672542</td>\n    </tr>\n    <tr>\n      <th>2013-01-06</th>\n      <td>-0.839519</td>\n      <td>-0.847511</td>\n      <td>-1.976500</td>\n      <td>-2.028791</td>\n    </tr>\n  </tbody>\n</table>\n</div>"
     },
     "metadata": {},
     "execution_count": 31
    }
   ],
   "source": [
    "######################################################\n",
    "# boolean indexing\n",
    "######################################################\n",
    "\n",
    "df[df < 0]"
   ]
  },
  {
   "cell_type": "code",
   "execution_count": 32,
   "metadata": {},
   "outputs": [
    {
     "output_type": "execute_result",
     "data": {
      "text/plain": "                   A         B         C         D\n2013-01-01  0.480811       NaN  0.452821       NaN\n2013-01-02  1.118015       NaN       NaN  0.374936\n2013-01-03       NaN       NaN  1.419200  1.027139\n2013-01-04  1.049505  1.176664       NaN       NaN\n2013-01-05       NaN       NaN  1.054312       NaN\n2013-01-06       NaN       NaN       NaN       NaN",
      "text/html": "<div>\n<style scoped>\n    .dataframe tbody tr th:only-of-type {\n        vertical-align: middle;\n    }\n\n    .dataframe tbody tr th {\n        vertical-align: top;\n    }\n\n    .dataframe thead th {\n        text-align: right;\n    }\n</style>\n<table border=\"1\" class=\"dataframe\">\n  <thead>\n    <tr style=\"text-align: right;\">\n      <th></th>\n      <th>A</th>\n      <th>B</th>\n      <th>C</th>\n      <th>D</th>\n    </tr>\n  </thead>\n  <tbody>\n    <tr>\n      <th>2013-01-01</th>\n      <td>0.480811</td>\n      <td>NaN</td>\n      <td>0.452821</td>\n      <td>NaN</td>\n    </tr>\n    <tr>\n      <th>2013-01-02</th>\n      <td>1.118015</td>\n      <td>NaN</td>\n      <td>NaN</td>\n      <td>0.374936</td>\n    </tr>\n    <tr>\n      <th>2013-01-03</th>\n      <td>NaN</td>\n      <td>NaN</td>\n      <td>1.419200</td>\n      <td>1.027139</td>\n    </tr>\n    <tr>\n      <th>2013-01-04</th>\n      <td>1.049505</td>\n      <td>1.176664</td>\n      <td>NaN</td>\n      <td>NaN</td>\n    </tr>\n    <tr>\n      <th>2013-01-05</th>\n      <td>NaN</td>\n      <td>NaN</td>\n      <td>1.054312</td>\n      <td>NaN</td>\n    </tr>\n    <tr>\n      <th>2013-01-06</th>\n      <td>NaN</td>\n      <td>NaN</td>\n      <td>NaN</td>\n      <td>NaN</td>\n    </tr>\n  </tbody>\n</table>\n</div>"
     },
     "metadata": {},
     "execution_count": 32
    }
   ],
   "source": [
    "df[df > 0]"
   ]
  },
  {
   "cell_type": "code",
   "execution_count": 33,
   "metadata": {},
   "outputs": [
    {
     "output_type": "execute_result",
     "data": {
      "text/plain": "                   A         B         C         D      E\n2013-01-01  0.480811 -2.301358  0.452821 -0.586353    one\n2013-01-02  1.118015 -0.343322 -1.570505  0.374936    one\n2013-01-03 -0.386501 -0.351715  1.419200  1.027139    two\n2013-01-04  1.049505  1.176664 -1.620546 -0.528511  three\n2013-01-05 -0.028976 -0.033604  1.054312 -0.672542   four\n2013-01-06 -0.839519 -0.847511 -1.976500 -2.028791  three",
      "text/html": "<div>\n<style scoped>\n    .dataframe tbody tr th:only-of-type {\n        vertical-align: middle;\n    }\n\n    .dataframe tbody tr th {\n        vertical-align: top;\n    }\n\n    .dataframe thead th {\n        text-align: right;\n    }\n</style>\n<table border=\"1\" class=\"dataframe\">\n  <thead>\n    <tr style=\"text-align: right;\">\n      <th></th>\n      <th>A</th>\n      <th>B</th>\n      <th>C</th>\n      <th>D</th>\n      <th>E</th>\n    </tr>\n  </thead>\n  <tbody>\n    <tr>\n      <th>2013-01-01</th>\n      <td>0.480811</td>\n      <td>-2.301358</td>\n      <td>0.452821</td>\n      <td>-0.586353</td>\n      <td>one</td>\n    </tr>\n    <tr>\n      <th>2013-01-02</th>\n      <td>1.118015</td>\n      <td>-0.343322</td>\n      <td>-1.570505</td>\n      <td>0.374936</td>\n      <td>one</td>\n    </tr>\n    <tr>\n      <th>2013-01-03</th>\n      <td>-0.386501</td>\n      <td>-0.351715</td>\n      <td>1.419200</td>\n      <td>1.027139</td>\n      <td>two</td>\n    </tr>\n    <tr>\n      <th>2013-01-04</th>\n      <td>1.049505</td>\n      <td>1.176664</td>\n      <td>-1.620546</td>\n      <td>-0.528511</td>\n      <td>three</td>\n    </tr>\n    <tr>\n      <th>2013-01-05</th>\n      <td>-0.028976</td>\n      <td>-0.033604</td>\n      <td>1.054312</td>\n      <td>-0.672542</td>\n      <td>four</td>\n    </tr>\n    <tr>\n      <th>2013-01-06</th>\n      <td>-0.839519</td>\n      <td>-0.847511</td>\n      <td>-1.976500</td>\n      <td>-2.028791</td>\n      <td>three</td>\n    </tr>\n  </tbody>\n</table>\n</div>"
     },
     "metadata": {},
     "execution_count": 33
    }
   ],
   "source": [
    "# column의 추가\n",
    "\n",
    "df2 = df.copy()\n",
    "df2['E'] = ['one', 'one', 'two', 'three', 'four', 'three']\n",
    "df2"
   ]
  },
  {
   "cell_type": "code",
   "execution_count": 34,
   "metadata": {},
   "outputs": [
    {
     "output_type": "execute_result",
     "data": {
      "text/plain": "                   A         B         C         D\n2013-01-01  0.480811 -2.301358  0.452821 -0.586353\n2013-01-02  1.118015 -0.343322 -1.570505  0.374936\n2013-01-04  1.049505  1.176664 -1.620546 -0.528511",
      "text/html": "<div>\n<style scoped>\n    .dataframe tbody tr th:only-of-type {\n        vertical-align: middle;\n    }\n\n    .dataframe tbody tr th {\n        vertical-align: top;\n    }\n\n    .dataframe thead th {\n        text-align: right;\n    }\n</style>\n<table border=\"1\" class=\"dataframe\">\n  <thead>\n    <tr style=\"text-align: right;\">\n      <th></th>\n      <th>A</th>\n      <th>B</th>\n      <th>C</th>\n      <th>D</th>\n    </tr>\n  </thead>\n  <tbody>\n    <tr>\n      <th>2013-01-01</th>\n      <td>0.480811</td>\n      <td>-2.301358</td>\n      <td>0.452821</td>\n      <td>-0.586353</td>\n    </tr>\n    <tr>\n      <th>2013-01-02</th>\n      <td>1.118015</td>\n      <td>-0.343322</td>\n      <td>-1.570505</td>\n      <td>0.374936</td>\n    </tr>\n    <tr>\n      <th>2013-01-04</th>\n      <td>1.049505</td>\n      <td>1.176664</td>\n      <td>-1.620546</td>\n      <td>-0.528511</td>\n    </tr>\n  </tbody>\n</table>\n</div>"
     },
     "metadata": {},
     "execution_count": 34
    }
   ],
   "source": [
    "df[df['A'] > 0]"
   ]
  },
  {
   "cell_type": "code",
   "execution_count": 35,
   "metadata": {},
   "outputs": [
    {
     "output_type": "execute_result",
     "data": {
      "text/plain": "                   A         B         C         D     E\n2013-01-03 -0.386501 -0.351715  1.419200  1.027139   two\n2013-01-05 -0.028976 -0.033604  1.054312 -0.672542  four",
      "text/html": "<div>\n<style scoped>\n    .dataframe tbody tr th:only-of-type {\n        vertical-align: middle;\n    }\n\n    .dataframe tbody tr th {\n        vertical-align: top;\n    }\n\n    .dataframe thead th {\n        text-align: right;\n    }\n</style>\n<table border=\"1\" class=\"dataframe\">\n  <thead>\n    <tr style=\"text-align: right;\">\n      <th></th>\n      <th>A</th>\n      <th>B</th>\n      <th>C</th>\n      <th>D</th>\n      <th>E</th>\n    </tr>\n  </thead>\n  <tbody>\n    <tr>\n      <th>2013-01-03</th>\n      <td>-0.386501</td>\n      <td>-0.351715</td>\n      <td>1.419200</td>\n      <td>1.027139</td>\n      <td>two</td>\n    </tr>\n    <tr>\n      <th>2013-01-05</th>\n      <td>-0.028976</td>\n      <td>-0.033604</td>\n      <td>1.054312</td>\n      <td>-0.672542</td>\n      <td>four</td>\n    </tr>\n  </tbody>\n</table>\n</div>"
     },
     "metadata": {},
     "execution_count": 35
    }
   ],
   "source": [
    "df2[df2['E'].isin(['two', 'four'])]"
   ]
  },
  {
   "cell_type": "code",
   "execution_count": 36,
   "metadata": {},
   "outputs": [
    {
     "output_type": "execute_result",
     "data": {
      "text/plain": "                   A         B         C         D    E\n2013-01-01  0.480811 -2.301358  0.452821 -0.586353  1.0\n2013-01-02  1.118015 -0.343322 -1.570505  0.374936  1.0\n2013-01-03 -0.386501 -0.351715  1.419200  1.027139  NaN\n2013-01-04  1.049505  1.176664 -1.620546 -0.528511  NaN",
      "text/html": "<div>\n<style scoped>\n    .dataframe tbody tr th:only-of-type {\n        vertical-align: middle;\n    }\n\n    .dataframe tbody tr th {\n        vertical-align: top;\n    }\n\n    .dataframe thead th {\n        text-align: right;\n    }\n</style>\n<table border=\"1\" class=\"dataframe\">\n  <thead>\n    <tr style=\"text-align: right;\">\n      <th></th>\n      <th>A</th>\n      <th>B</th>\n      <th>C</th>\n      <th>D</th>\n      <th>E</th>\n    </tr>\n  </thead>\n  <tbody>\n    <tr>\n      <th>2013-01-01</th>\n      <td>0.480811</td>\n      <td>-2.301358</td>\n      <td>0.452821</td>\n      <td>-0.586353</td>\n      <td>1.0</td>\n    </tr>\n    <tr>\n      <th>2013-01-02</th>\n      <td>1.118015</td>\n      <td>-0.343322</td>\n      <td>-1.570505</td>\n      <td>0.374936</td>\n      <td>1.0</td>\n    </tr>\n    <tr>\n      <th>2013-01-03</th>\n      <td>-0.386501</td>\n      <td>-0.351715</td>\n      <td>1.419200</td>\n      <td>1.027139</td>\n      <td>NaN</td>\n    </tr>\n    <tr>\n      <th>2013-01-04</th>\n      <td>1.049505</td>\n      <td>1.176664</td>\n      <td>-1.620546</td>\n      <td>-0.528511</td>\n      <td>NaN</td>\n    </tr>\n  </tbody>\n</table>\n</div>"
     },
     "metadata": {},
     "execution_count": 36
    }
   ],
   "source": [
    "######################################################\n",
    "# pandas primarily uses the value 'np.nan' to represent\n",
    "# missing data. It is by default not included in computations.\n",
    "# See the missing data selection\n",
    "######################################################\n",
    "\n",
    "# reindexing allows you to change / add / delete the index on a \n",
    "# specified axis. This returns a copy of the data\n",
    "\n",
    "df1 = df.reindex(index=dates[0:4], columns=list(df.columns) + ['E'])\n",
    "df1.loc[dates[0]:dates[1], 'E'] = 1\n",
    "df1"
   ]
  },
  {
   "cell_type": "code",
   "execution_count": 37,
   "metadata": {},
   "outputs": [
    {
     "output_type": "execute_result",
     "data": {
      "text/plain": "                   A         B         C         D    E\n2013-01-01  0.480811 -2.301358  0.452821 -0.586353  1.0\n2013-01-02  1.118015 -0.343322 -1.570505  0.374936  1.0",
      "text/html": "<div>\n<style scoped>\n    .dataframe tbody tr th:only-of-type {\n        vertical-align: middle;\n    }\n\n    .dataframe tbody tr th {\n        vertical-align: top;\n    }\n\n    .dataframe thead th {\n        text-align: right;\n    }\n</style>\n<table border=\"1\" class=\"dataframe\">\n  <thead>\n    <tr style=\"text-align: right;\">\n      <th></th>\n      <th>A</th>\n      <th>B</th>\n      <th>C</th>\n      <th>D</th>\n      <th>E</th>\n    </tr>\n  </thead>\n  <tbody>\n    <tr>\n      <th>2013-01-01</th>\n      <td>0.480811</td>\n      <td>-2.301358</td>\n      <td>0.452821</td>\n      <td>-0.586353</td>\n      <td>1.0</td>\n    </tr>\n    <tr>\n      <th>2013-01-02</th>\n      <td>1.118015</td>\n      <td>-0.343322</td>\n      <td>-1.570505</td>\n      <td>0.374936</td>\n      <td>1.0</td>\n    </tr>\n  </tbody>\n</table>\n</div>"
     },
     "metadata": {},
     "execution_count": 37
    }
   ],
   "source": [
    "# to drop any rows that have missing data\n",
    "df1.dropna(how='any')"
   ]
  },
  {
   "cell_type": "code",
   "execution_count": 38,
   "metadata": {},
   "outputs": [
    {
     "output_type": "execute_result",
     "data": {
      "text/plain": "                   A         B         C         D    E\n2013-01-01  0.480811 -2.301358  0.452821 -0.586353  1.0\n2013-01-02  1.118015 -0.343322 -1.570505  0.374936  1.0\n2013-01-03 -0.386501 -0.351715  1.419200  1.027139  5.0\n2013-01-04  1.049505  1.176664 -1.620546 -0.528511  5.0",
      "text/html": "<div>\n<style scoped>\n    .dataframe tbody tr th:only-of-type {\n        vertical-align: middle;\n    }\n\n    .dataframe tbody tr th {\n        vertical-align: top;\n    }\n\n    .dataframe thead th {\n        text-align: right;\n    }\n</style>\n<table border=\"1\" class=\"dataframe\">\n  <thead>\n    <tr style=\"text-align: right;\">\n      <th></th>\n      <th>A</th>\n      <th>B</th>\n      <th>C</th>\n      <th>D</th>\n      <th>E</th>\n    </tr>\n  </thead>\n  <tbody>\n    <tr>\n      <th>2013-01-01</th>\n      <td>0.480811</td>\n      <td>-2.301358</td>\n      <td>0.452821</td>\n      <td>-0.586353</td>\n      <td>1.0</td>\n    </tr>\n    <tr>\n      <th>2013-01-02</th>\n      <td>1.118015</td>\n      <td>-0.343322</td>\n      <td>-1.570505</td>\n      <td>0.374936</td>\n      <td>1.0</td>\n    </tr>\n    <tr>\n      <th>2013-01-03</th>\n      <td>-0.386501</td>\n      <td>-0.351715</td>\n      <td>1.419200</td>\n      <td>1.027139</td>\n      <td>5.0</td>\n    </tr>\n    <tr>\n      <th>2013-01-04</th>\n      <td>1.049505</td>\n      <td>1.176664</td>\n      <td>-1.620546</td>\n      <td>-0.528511</td>\n      <td>5.0</td>\n    </tr>\n  </tbody>\n</table>\n</div>"
     },
     "metadata": {},
     "execution_count": 38
    }
   ],
   "source": [
    "# filling missing data\n",
    "df1.fillna(value=5)"
   ]
  },
  {
   "cell_type": "code",
   "execution_count": 39,
   "metadata": {},
   "outputs": [
    {
     "output_type": "execute_result",
     "data": {
      "text/plain": "                A      B      C      D      E\n2013-01-01  False  False  False  False  False\n2013-01-02  False  False  False  False  False\n2013-01-03  False  False  False  False   True\n2013-01-04  False  False  False  False   True",
      "text/html": "<div>\n<style scoped>\n    .dataframe tbody tr th:only-of-type {\n        vertical-align: middle;\n    }\n\n    .dataframe tbody tr th {\n        vertical-align: top;\n    }\n\n    .dataframe thead th {\n        text-align: right;\n    }\n</style>\n<table border=\"1\" class=\"dataframe\">\n  <thead>\n    <tr style=\"text-align: right;\">\n      <th></th>\n      <th>A</th>\n      <th>B</th>\n      <th>C</th>\n      <th>D</th>\n      <th>E</th>\n    </tr>\n  </thead>\n  <tbody>\n    <tr>\n      <th>2013-01-01</th>\n      <td>False</td>\n      <td>False</td>\n      <td>False</td>\n      <td>False</td>\n      <td>False</td>\n    </tr>\n    <tr>\n      <th>2013-01-02</th>\n      <td>False</td>\n      <td>False</td>\n      <td>False</td>\n      <td>False</td>\n      <td>False</td>\n    </tr>\n    <tr>\n      <th>2013-01-03</th>\n      <td>False</td>\n      <td>False</td>\n      <td>False</td>\n      <td>False</td>\n      <td>True</td>\n    </tr>\n    <tr>\n      <th>2013-01-04</th>\n      <td>False</td>\n      <td>False</td>\n      <td>False</td>\n      <td>False</td>\n      <td>True</td>\n    </tr>\n  </tbody>\n</table>\n</div>"
     },
     "metadata": {},
     "execution_count": 39
    }
   ],
   "source": [
    "# to get the boolean mask where values are nan\n",
    "pd.isna(df1)"
   ]
  },
  {
   "cell_type": "code",
   "execution_count": 40,
   "metadata": {},
   "outputs": [
    {
     "output_type": "execute_result",
     "data": {
      "text/plain": "A    0.232222\nB   -0.450141\nC   -0.373536\nD   -0.402354\ndtype: float64"
     },
     "metadata": {},
     "execution_count": 40
    }
   ],
   "source": [
    "######################################################\n",
    "# Operation\n",
    "######################################################\n",
    "\n",
    "# column 기준\n",
    "df.mean(False)"
   ]
  },
  {
   "cell_type": "code",
   "execution_count": 41,
   "metadata": {},
   "outputs": [
    {
     "output_type": "execute_result",
     "data": {
      "text/plain": "2013-01-01   -0.488520\n2013-01-02   -0.105219\n2013-01-03    0.427031\n2013-01-04    0.019278\n2013-01-05    0.079798\n2013-01-06   -1.423080\nFreq: D, dtype: float64"
     },
     "metadata": {},
     "execution_count": 41
    }
   ],
   "source": [
    "# row 기준 row기준 = False 가 default 인듯\n",
    "df.mean(True)"
   ]
  },
  {
   "cell_type": "code",
   "execution_count": 42,
   "metadata": {},
   "outputs": [
    {
     "output_type": "execute_result",
     "data": {
      "text/plain": "2013-01-01    NaN\n2013-01-02    1.0\n2013-01-03    3.0\n2013-01-04    5.0\n2013-01-05    NaN\n2013-01-06    6.0\nFreq: D, dtype: float64"
     },
     "metadata": {},
     "execution_count": 42
    }
   ],
   "source": [
    "# shift\n",
    "\n",
    "s = pd.Series([1, 3, 5, np.nan, 6, 8], index=dates).shift(1)\n",
    "s"
   ]
  },
  {
   "cell_type": "code",
   "execution_count": 43,
   "metadata": {},
   "outputs": [
    {
     "output_type": "execute_result",
     "data": {
      "text/plain": "                   A         B         C         D\n2013-01-01       NaN       NaN       NaN       NaN\n2013-01-02  0.118015 -1.343322 -2.570505 -0.625064\n2013-01-03 -3.386501 -3.351715 -1.580800 -1.972861\n2013-01-04 -3.950495 -3.823336 -6.620546 -5.528511\n2013-01-05       NaN       NaN       NaN       NaN\n2013-01-06 -6.839519 -6.847511 -7.976500 -8.028791",
      "text/html": "<div>\n<style scoped>\n    .dataframe tbody tr th:only-of-type {\n        vertical-align: middle;\n    }\n\n    .dataframe tbody tr th {\n        vertical-align: top;\n    }\n\n    .dataframe thead th {\n        text-align: right;\n    }\n</style>\n<table border=\"1\" class=\"dataframe\">\n  <thead>\n    <tr style=\"text-align: right;\">\n      <th></th>\n      <th>A</th>\n      <th>B</th>\n      <th>C</th>\n      <th>D</th>\n    </tr>\n  </thead>\n  <tbody>\n    <tr>\n      <th>2013-01-01</th>\n      <td>NaN</td>\n      <td>NaN</td>\n      <td>NaN</td>\n      <td>NaN</td>\n    </tr>\n    <tr>\n      <th>2013-01-02</th>\n      <td>0.118015</td>\n      <td>-1.343322</td>\n      <td>-2.570505</td>\n      <td>-0.625064</td>\n    </tr>\n    <tr>\n      <th>2013-01-03</th>\n      <td>-3.386501</td>\n      <td>-3.351715</td>\n      <td>-1.580800</td>\n      <td>-1.972861</td>\n    </tr>\n    <tr>\n      <th>2013-01-04</th>\n      <td>-3.950495</td>\n      <td>-3.823336</td>\n      <td>-6.620546</td>\n      <td>-5.528511</td>\n    </tr>\n    <tr>\n      <th>2013-01-05</th>\n      <td>NaN</td>\n      <td>NaN</td>\n      <td>NaN</td>\n      <td>NaN</td>\n    </tr>\n    <tr>\n      <th>2013-01-06</th>\n      <td>-6.839519</td>\n      <td>-6.847511</td>\n      <td>-7.976500</td>\n      <td>-8.028791</td>\n    </tr>\n  </tbody>\n</table>\n</div>"
     },
     "metadata": {},
     "execution_count": 43
    }
   ],
   "source": [
    "df.sub(s, axis='index')"
   ]
  },
  {
   "cell_type": "code",
   "execution_count": 44,
   "metadata": {},
   "outputs": [
    {
     "output_type": "execute_result",
     "data": {
      "text/plain": "                   A         B         C         D\n2013-01-01       NaN       NaN       NaN       NaN\n2013-01-02  0.118015 -1.343322 -2.570505 -0.625064\n2013-01-03 -3.386501 -3.351715 -1.580800 -1.972861\n2013-01-04 -3.950495 -3.823336 -6.620546 -5.528511\n2013-01-05       NaN       NaN       NaN       NaN\n2013-01-06 -6.839519 -6.847511 -7.976500 -8.028791",
      "text/html": "<div>\n<style scoped>\n    .dataframe tbody tr th:only-of-type {\n        vertical-align: middle;\n    }\n\n    .dataframe tbody tr th {\n        vertical-align: top;\n    }\n\n    .dataframe thead th {\n        text-align: right;\n    }\n</style>\n<table border=\"1\" class=\"dataframe\">\n  <thead>\n    <tr style=\"text-align: right;\">\n      <th></th>\n      <th>A</th>\n      <th>B</th>\n      <th>C</th>\n      <th>D</th>\n    </tr>\n  </thead>\n  <tbody>\n    <tr>\n      <th>2013-01-01</th>\n      <td>NaN</td>\n      <td>NaN</td>\n      <td>NaN</td>\n      <td>NaN</td>\n    </tr>\n    <tr>\n      <th>2013-01-02</th>\n      <td>0.118015</td>\n      <td>-1.343322</td>\n      <td>-2.570505</td>\n      <td>-0.625064</td>\n    </tr>\n    <tr>\n      <th>2013-01-03</th>\n      <td>-3.386501</td>\n      <td>-3.351715</td>\n      <td>-1.580800</td>\n      <td>-1.972861</td>\n    </tr>\n    <tr>\n      <th>2013-01-04</th>\n      <td>-3.950495</td>\n      <td>-3.823336</td>\n      <td>-6.620546</td>\n      <td>-5.528511</td>\n    </tr>\n    <tr>\n      <th>2013-01-05</th>\n      <td>NaN</td>\n      <td>NaN</td>\n      <td>NaN</td>\n      <td>NaN</td>\n    </tr>\n    <tr>\n      <th>2013-01-06</th>\n      <td>-6.839519</td>\n      <td>-6.847511</td>\n      <td>-7.976500</td>\n      <td>-8.028791</td>\n    </tr>\n  </tbody>\n</table>\n</div>"
     },
     "metadata": {},
     "execution_count": 44
    }
   ],
   "source": [
    "df.sub(s, axis='index')"
   ]
  },
  {
   "cell_type": "code",
   "execution_count": 45,
   "metadata": {
    "tags": []
   },
   "outputs": [
    {
     "output_type": "stream",
     "name": "stdout",
     "text": "A         B         C         D\n2013-01-01  0.480811 -2.301358  0.452821 -0.586353\n2013-01-02  1.118015 -0.343322 -1.570505  0.374936\n2013-01-03 -0.386501 -0.351715  1.419200  1.027139\n2013-01-04  1.049505  1.176664 -1.620546 -0.528511\n2013-01-05 -0.028976 -0.033604  1.054312 -0.672542\n2013-01-06 -0.839519 -0.847511 -1.976500 -2.028791\n"
    },
    {
     "output_type": "execute_result",
     "data": {
      "text/plain": "                   A         B         C         D\n2013-01-01  0.480811 -2.301358  0.452821 -0.586353\n2013-01-02  1.598826 -2.644680 -1.117683 -0.211417\n2013-01-03  1.212324 -2.996395  0.301517  0.815722\n2013-01-04  2.261830 -1.819730 -1.319029  0.287211\n2013-01-05  2.232854 -1.853334 -0.264717 -0.385331\n2013-01-06  1.393335 -2.700844 -2.241216 -2.414122",
      "text/html": "<div>\n<style scoped>\n    .dataframe tbody tr th:only-of-type {\n        vertical-align: middle;\n    }\n\n    .dataframe tbody tr th {\n        vertical-align: top;\n    }\n\n    .dataframe thead th {\n        text-align: right;\n    }\n</style>\n<table border=\"1\" class=\"dataframe\">\n  <thead>\n    <tr style=\"text-align: right;\">\n      <th></th>\n      <th>A</th>\n      <th>B</th>\n      <th>C</th>\n      <th>D</th>\n    </tr>\n  </thead>\n  <tbody>\n    <tr>\n      <th>2013-01-01</th>\n      <td>0.480811</td>\n      <td>-2.301358</td>\n      <td>0.452821</td>\n      <td>-0.586353</td>\n    </tr>\n    <tr>\n      <th>2013-01-02</th>\n      <td>1.598826</td>\n      <td>-2.644680</td>\n      <td>-1.117683</td>\n      <td>-0.211417</td>\n    </tr>\n    <tr>\n      <th>2013-01-03</th>\n      <td>1.212324</td>\n      <td>-2.996395</td>\n      <td>0.301517</td>\n      <td>0.815722</td>\n    </tr>\n    <tr>\n      <th>2013-01-04</th>\n      <td>2.261830</td>\n      <td>-1.819730</td>\n      <td>-1.319029</td>\n      <td>0.287211</td>\n    </tr>\n    <tr>\n      <th>2013-01-05</th>\n      <td>2.232854</td>\n      <td>-1.853334</td>\n      <td>-0.264717</td>\n      <td>-0.385331</td>\n    </tr>\n    <tr>\n      <th>2013-01-06</th>\n      <td>1.393335</td>\n      <td>-2.700844</td>\n      <td>-2.241216</td>\n      <td>-2.414122</td>\n    </tr>\n  </tbody>\n</table>\n</div>"
     },
     "metadata": {},
     "execution_count": 45
    }
   ],
   "source": [
    "# ######################################################\n",
    "# Applying function to the data :\n",
    "######################################################\n",
    "print(df)\n",
    "# column별로 cumulative sum\n",
    "df.apply(np.cumsum)"
   ]
  },
  {
   "cell_type": "code",
   "execution_count": 46,
   "metadata": {},
   "outputs": [
    {
     "output_type": "execute_result",
     "data": {
      "text/plain": "0    6\n1    1\n2    6\n3    0\n4    6\n5    2\n6    3\n7    1\n8    5\n9    2\ndtype: int64"
     },
     "metadata": {},
     "execution_count": 46
    }
   ],
   "source": [
    "######################################################\n",
    "# Histogramming\n",
    "######################################################\n",
    "\n",
    "s = pd.Series(np.random.randint(0, 7, size=10))\n",
    "s"
   ]
  },
  {
   "cell_type": "code",
   "execution_count": 47,
   "metadata": {},
   "outputs": [
    {
     "output_type": "execute_result",
     "data": {
      "text/plain": "6    3\n2    2\n1    2\n5    1\n3    1\n0    1\ndtype: int64"
     },
     "metadata": {},
     "execution_count": 47
    }
   ],
   "source": [
    "s.value_counts()"
   ]
  },
  {
   "cell_type": "code",
   "execution_count": 48,
   "metadata": {},
   "outputs": [
    {
     "output_type": "execute_result",
     "data": {
      "text/plain": "0    1\n1    2\n2    2\n3    1\n5    1\n6    3\ndtype: int64"
     },
     "metadata": {},
     "execution_count": 48
    }
   ],
   "source": [
    "s.value_counts().sort_index()"
   ]
  },
  {
   "cell_type": "code",
   "execution_count": 49,
   "metadata": {
    "tags": []
   },
   "outputs": [
    {
     "output_type": "execute_result",
     "data": {
      "text/plain": "0     apple\n1     banan\n2    carrot\n3      aaba\n4      bcad\n5       NaN\n6      caba\ndtype: object"
     },
     "metadata": {},
     "execution_count": 49
    }
   ],
   "source": [
    "s = pd.Series(['apple', 'Banan', 'Carrot', 'Aaba', 'Bcad', np.nan, 'CABA'])\n",
    "s.str.lower()"
   ]
  },
  {
   "cell_type": "code",
   "execution_count": 50,
   "metadata": {},
   "outputs": [
    {
     "output_type": "execute_result",
     "data": {
      "text/plain": "DatetimeIndex(['2013-01-01', '2013-01-02', '2013-01-03', '2013-01-04',\n               '2013-01-05', '2013-01-06'],\n              dtype='datetime64[ns]', freq='D')"
     },
     "metadata": {},
     "execution_count": 50
    }
   ],
   "source": [
    "dates"
   ]
  },
  {
   "cell_type": "code",
   "execution_count": 51,
   "metadata": {},
   "outputs": [
    {
     "output_type": "execute_result",
     "data": {
      "text/plain": "2013-01-02    1\n2013-01-03    2\n2013-01-04    3\n2013-01-05    4\n2013-01-06    5\n2013-01-07    6\nFreq: D, dtype: int64"
     },
     "metadata": {},
     "execution_count": 51
    }
   ],
   "source": [
    "############################################\n",
    "# Setting \n",
    "############################################\n",
    "# Setting a new column automatically aligns the data by the indices\n",
    "\n",
    "s1 = pd.Series([1, 2, 3, 4, 5, 6], index=pd.date_range('20130102', periods=6))\n",
    "s1"
   ]
  },
  {
   "cell_type": "code",
   "execution_count": 52,
   "metadata": {},
   "outputs": [
    {
     "output_type": "execute_result",
     "data": {
      "text/plain": "                   A         B         C         D\n2013-01-01  0.480811 -2.301358  0.452821 -0.586353\n2013-01-02  1.118015 -0.343322 -1.570505  0.374936\n2013-01-03 -0.386501 -0.351715  1.419200  1.027139\n2013-01-04  1.049505  1.176664 -1.620546 -0.528511\n2013-01-05 -0.028976 -0.033604  1.054312 -0.672542\n2013-01-06 -0.839519 -0.847511 -1.976500 -2.028791",
      "text/html": "<div>\n<style scoped>\n    .dataframe tbody tr th:only-of-type {\n        vertical-align: middle;\n    }\n\n    .dataframe tbody tr th {\n        vertical-align: top;\n    }\n\n    .dataframe thead th {\n        text-align: right;\n    }\n</style>\n<table border=\"1\" class=\"dataframe\">\n  <thead>\n    <tr style=\"text-align: right;\">\n      <th></th>\n      <th>A</th>\n      <th>B</th>\n      <th>C</th>\n      <th>D</th>\n    </tr>\n  </thead>\n  <tbody>\n    <tr>\n      <th>2013-01-01</th>\n      <td>0.480811</td>\n      <td>-2.301358</td>\n      <td>0.452821</td>\n      <td>-0.586353</td>\n    </tr>\n    <tr>\n      <th>2013-01-02</th>\n      <td>1.118015</td>\n      <td>-0.343322</td>\n      <td>-1.570505</td>\n      <td>0.374936</td>\n    </tr>\n    <tr>\n      <th>2013-01-03</th>\n      <td>-0.386501</td>\n      <td>-0.351715</td>\n      <td>1.419200</td>\n      <td>1.027139</td>\n    </tr>\n    <tr>\n      <th>2013-01-04</th>\n      <td>1.049505</td>\n      <td>1.176664</td>\n      <td>-1.620546</td>\n      <td>-0.528511</td>\n    </tr>\n    <tr>\n      <th>2013-01-05</th>\n      <td>-0.028976</td>\n      <td>-0.033604</td>\n      <td>1.054312</td>\n      <td>-0.672542</td>\n    </tr>\n    <tr>\n      <th>2013-01-06</th>\n      <td>-0.839519</td>\n      <td>-0.847511</td>\n      <td>-1.976500</td>\n      <td>-2.028791</td>\n    </tr>\n  </tbody>\n</table>\n</div>"
     },
     "metadata": {},
     "execution_count": 52
    }
   ],
   "source": [
    "df"
   ]
  },
  {
   "cell_type": "code",
   "execution_count": 53,
   "metadata": {},
   "outputs": [],
   "source": [
    "# df에 F column으로 s1을 추가\n"
   ]
  },
  {
   "cell_type": "code",
   "execution_count": 54,
   "metadata": {},
   "outputs": [
    {
     "output_type": "execute_result",
     "data": {
      "text/plain": "                   A         B         C         D    F\n2013-01-01  0.480811 -2.301358  0.452821 -0.586353  NaN\n2013-01-02  1.118015 -0.343322 -1.570505  0.374936  1.0\n2013-01-03 -0.386501 -0.351715  1.419200  1.027139  2.0\n2013-01-04  1.049505  1.176664 -1.620546 -0.528511  3.0\n2013-01-05 -0.028976 -0.033604  1.054312 -0.672542  4.0\n2013-01-06 -0.839519 -0.847511 -1.976500 -2.028791  5.0",
      "text/html": "<div>\n<style scoped>\n    .dataframe tbody tr th:only-of-type {\n        vertical-align: middle;\n    }\n\n    .dataframe tbody tr th {\n        vertical-align: top;\n    }\n\n    .dataframe thead th {\n        text-align: right;\n    }\n</style>\n<table border=\"1\" class=\"dataframe\">\n  <thead>\n    <tr style=\"text-align: right;\">\n      <th></th>\n      <th>A</th>\n      <th>B</th>\n      <th>C</th>\n      <th>D</th>\n      <th>F</th>\n    </tr>\n  </thead>\n  <tbody>\n    <tr>\n      <th>2013-01-01</th>\n      <td>0.480811</td>\n      <td>-2.301358</td>\n      <td>0.452821</td>\n      <td>-0.586353</td>\n      <td>NaN</td>\n    </tr>\n    <tr>\n      <th>2013-01-02</th>\n      <td>1.118015</td>\n      <td>-0.343322</td>\n      <td>-1.570505</td>\n      <td>0.374936</td>\n      <td>1.0</td>\n    </tr>\n    <tr>\n      <th>2013-01-03</th>\n      <td>-0.386501</td>\n      <td>-0.351715</td>\n      <td>1.419200</td>\n      <td>1.027139</td>\n      <td>2.0</td>\n    </tr>\n    <tr>\n      <th>2013-01-04</th>\n      <td>1.049505</td>\n      <td>1.176664</td>\n      <td>-1.620546</td>\n      <td>-0.528511</td>\n      <td>3.0</td>\n    </tr>\n    <tr>\n      <th>2013-01-05</th>\n      <td>-0.028976</td>\n      <td>-0.033604</td>\n      <td>1.054312</td>\n      <td>-0.672542</td>\n      <td>4.0</td>\n    </tr>\n    <tr>\n      <th>2013-01-06</th>\n      <td>-0.839519</td>\n      <td>-0.847511</td>\n      <td>-1.976500</td>\n      <td>-2.028791</td>\n      <td>5.0</td>\n    </tr>\n  </tbody>\n</table>\n</div>"
     },
     "metadata": {},
     "execution_count": 54
    }
   ],
   "source": [
    "# 1월2일부터 해당 값이 자동으로 setting되어 입력된다\n",
    "\n",
    "df['F'] = s1\n",
    "df"
   ]
  },
  {
   "cell_type": "code",
   "execution_count": 55,
   "metadata": {},
   "outputs": [
    {
     "output_type": "execute_result",
     "data": {
      "text/plain": "                   A         B         C         D    F\n2013-01-01  0.000000 -2.301358  0.452821 -0.586353  NaN\n2013-01-02  1.118015 -0.343322 -1.570505  0.374936  1.0\n2013-01-03 -0.386501 -0.351715  1.419200  1.027139  2.0\n2013-01-04  1.049505  1.176664 -1.620546 -0.528511  3.0\n2013-01-05 -0.028976 -0.033604  1.054312 -0.672542  4.0\n2013-01-06 -0.839519 -0.847511 -1.976500 -2.028791  5.0",
      "text/html": "<div>\n<style scoped>\n    .dataframe tbody tr th:only-of-type {\n        vertical-align: middle;\n    }\n\n    .dataframe tbody tr th {\n        vertical-align: top;\n    }\n\n    .dataframe thead th {\n        text-align: right;\n    }\n</style>\n<table border=\"1\" class=\"dataframe\">\n  <thead>\n    <tr style=\"text-align: right;\">\n      <th></th>\n      <th>A</th>\n      <th>B</th>\n      <th>C</th>\n      <th>D</th>\n      <th>F</th>\n    </tr>\n  </thead>\n  <tbody>\n    <tr>\n      <th>2013-01-01</th>\n      <td>0.000000</td>\n      <td>-2.301358</td>\n      <td>0.452821</td>\n      <td>-0.586353</td>\n      <td>NaN</td>\n    </tr>\n    <tr>\n      <th>2013-01-02</th>\n      <td>1.118015</td>\n      <td>-0.343322</td>\n      <td>-1.570505</td>\n      <td>0.374936</td>\n      <td>1.0</td>\n    </tr>\n    <tr>\n      <th>2013-01-03</th>\n      <td>-0.386501</td>\n      <td>-0.351715</td>\n      <td>1.419200</td>\n      <td>1.027139</td>\n      <td>2.0</td>\n    </tr>\n    <tr>\n      <th>2013-01-04</th>\n      <td>1.049505</td>\n      <td>1.176664</td>\n      <td>-1.620546</td>\n      <td>-0.528511</td>\n      <td>3.0</td>\n    </tr>\n    <tr>\n      <th>2013-01-05</th>\n      <td>-0.028976</td>\n      <td>-0.033604</td>\n      <td>1.054312</td>\n      <td>-0.672542</td>\n      <td>4.0</td>\n    </tr>\n    <tr>\n      <th>2013-01-06</th>\n      <td>-0.839519</td>\n      <td>-0.847511</td>\n      <td>-1.976500</td>\n      <td>-2.028791</td>\n      <td>5.0</td>\n    </tr>\n  </tbody>\n</table>\n</div>"
     },
     "metadata": {},
     "execution_count": 55
    }
   ],
   "source": [
    "# setting values by label\n",
    "df.at[dates[0], 'A'] = 0\n",
    "df"
   ]
  },
  {
   "cell_type": "code",
   "execution_count": 56,
   "metadata": {},
   "outputs": [
    {
     "output_type": "execute_result",
     "data": {
      "text/plain": "                   A         B         C         D    F\n2013-01-01  0.000000  0.000000  0.452821 -0.586353  NaN\n2013-01-02  1.118015 -0.343322 -1.570505  0.374936  1.0\n2013-01-03 -0.386501 -0.351715  1.419200  1.027139  2.0\n2013-01-04  1.049505  1.176664 -1.620546 -0.528511  3.0\n2013-01-05 -0.028976 -0.033604  1.054312 -0.672542  4.0\n2013-01-06 -0.839519 -0.847511 -1.976500 -2.028791  5.0",
      "text/html": "<div>\n<style scoped>\n    .dataframe tbody tr th:only-of-type {\n        vertical-align: middle;\n    }\n\n    .dataframe tbody tr th {\n        vertical-align: top;\n    }\n\n    .dataframe thead th {\n        text-align: right;\n    }\n</style>\n<table border=\"1\" class=\"dataframe\">\n  <thead>\n    <tr style=\"text-align: right;\">\n      <th></th>\n      <th>A</th>\n      <th>B</th>\n      <th>C</th>\n      <th>D</th>\n      <th>F</th>\n    </tr>\n  </thead>\n  <tbody>\n    <tr>\n      <th>2013-01-01</th>\n      <td>0.000000</td>\n      <td>0.000000</td>\n      <td>0.452821</td>\n      <td>-0.586353</td>\n      <td>NaN</td>\n    </tr>\n    <tr>\n      <th>2013-01-02</th>\n      <td>1.118015</td>\n      <td>-0.343322</td>\n      <td>-1.570505</td>\n      <td>0.374936</td>\n      <td>1.0</td>\n    </tr>\n    <tr>\n      <th>2013-01-03</th>\n      <td>-0.386501</td>\n      <td>-0.351715</td>\n      <td>1.419200</td>\n      <td>1.027139</td>\n      <td>2.0</td>\n    </tr>\n    <tr>\n      <th>2013-01-04</th>\n      <td>1.049505</td>\n      <td>1.176664</td>\n      <td>-1.620546</td>\n      <td>-0.528511</td>\n      <td>3.0</td>\n    </tr>\n    <tr>\n      <th>2013-01-05</th>\n      <td>-0.028976</td>\n      <td>-0.033604</td>\n      <td>1.054312</td>\n      <td>-0.672542</td>\n      <td>4.0</td>\n    </tr>\n    <tr>\n      <th>2013-01-06</th>\n      <td>-0.839519</td>\n      <td>-0.847511</td>\n      <td>-1.976500</td>\n      <td>-2.028791</td>\n      <td>5.0</td>\n    </tr>\n  </tbody>\n</table>\n</div>"
     },
     "metadata": {},
     "execution_count": 56
    }
   ],
   "source": [
    "# setting by position\n",
    "df.iat[0, 1] = 0\n",
    "df"
   ]
  },
  {
   "cell_type": "code",
   "execution_count": 57,
   "metadata": {},
   "outputs": [
    {
     "output_type": "execute_result",
     "data": {
      "text/plain": "                   A         B         C  D    F\n2013-01-01  0.000000  0.000000  0.452821  5  NaN\n2013-01-02  1.118015 -0.343322 -1.570505  5  1.0\n2013-01-03 -0.386501 -0.351715  1.419200  5  2.0\n2013-01-04  1.049505  1.176664 -1.620546  5  3.0\n2013-01-05 -0.028976 -0.033604  1.054312  5  4.0\n2013-01-06 -0.839519 -0.847511 -1.976500  5  5.0",
      "text/html": "<div>\n<style scoped>\n    .dataframe tbody tr th:only-of-type {\n        vertical-align: middle;\n    }\n\n    .dataframe tbody tr th {\n        vertical-align: top;\n    }\n\n    .dataframe thead th {\n        text-align: right;\n    }\n</style>\n<table border=\"1\" class=\"dataframe\">\n  <thead>\n    <tr style=\"text-align: right;\">\n      <th></th>\n      <th>A</th>\n      <th>B</th>\n      <th>C</th>\n      <th>D</th>\n      <th>F</th>\n    </tr>\n  </thead>\n  <tbody>\n    <tr>\n      <th>2013-01-01</th>\n      <td>0.000000</td>\n      <td>0.000000</td>\n      <td>0.452821</td>\n      <td>5</td>\n      <td>NaN</td>\n    </tr>\n    <tr>\n      <th>2013-01-02</th>\n      <td>1.118015</td>\n      <td>-0.343322</td>\n      <td>-1.570505</td>\n      <td>5</td>\n      <td>1.0</td>\n    </tr>\n    <tr>\n      <th>2013-01-03</th>\n      <td>-0.386501</td>\n      <td>-0.351715</td>\n      <td>1.419200</td>\n      <td>5</td>\n      <td>2.0</td>\n    </tr>\n    <tr>\n      <th>2013-01-04</th>\n      <td>1.049505</td>\n      <td>1.176664</td>\n      <td>-1.620546</td>\n      <td>5</td>\n      <td>3.0</td>\n    </tr>\n    <tr>\n      <th>2013-01-05</th>\n      <td>-0.028976</td>\n      <td>-0.033604</td>\n      <td>1.054312</td>\n      <td>5</td>\n      <td>4.0</td>\n    </tr>\n    <tr>\n      <th>2013-01-06</th>\n      <td>-0.839519</td>\n      <td>-0.847511</td>\n      <td>-1.976500</td>\n      <td>5</td>\n      <td>5.0</td>\n    </tr>\n  </tbody>\n</table>\n</div>"
     },
     "metadata": {},
     "execution_count": 57
    }
   ],
   "source": [
    "# setting by assigning with a NumPy array :\n",
    "len(df)  # num of rows\n",
    "df.loc[:, 'D'] = np.array([5] * len(df)) # [5, 5, 5, 5, 5, 5]\n",
    "df"
   ]
  },
  {
   "cell_type": "code",
   "execution_count": 58,
   "metadata": {},
   "outputs": [
    {
     "output_type": "execute_result",
     "data": {
      "text/plain": "                   A         B         C  D    F    E\n2013-01-01  0.000000  0.000000  0.452821  5  NaN  1.0\n2013-01-02  1.118015 -0.343322 -1.570505  5  1.0  1.0\n2013-01-03 -0.386501 -0.351715  1.419200  5  2.0  NaN\n2013-01-04  1.049505  1.176664 -1.620546  5  3.0  NaN",
      "text/html": "<div>\n<style scoped>\n    .dataframe tbody tr th:only-of-type {\n        vertical-align: middle;\n    }\n\n    .dataframe tbody tr th {\n        vertical-align: top;\n    }\n\n    .dataframe thead th {\n        text-align: right;\n    }\n</style>\n<table border=\"1\" class=\"dataframe\">\n  <thead>\n    <tr style=\"text-align: right;\">\n      <th></th>\n      <th>A</th>\n      <th>B</th>\n      <th>C</th>\n      <th>D</th>\n      <th>F</th>\n      <th>E</th>\n    </tr>\n  </thead>\n  <tbody>\n    <tr>\n      <th>2013-01-01</th>\n      <td>0.000000</td>\n      <td>0.000000</td>\n      <td>0.452821</td>\n      <td>5</td>\n      <td>NaN</td>\n      <td>1.0</td>\n    </tr>\n    <tr>\n      <th>2013-01-02</th>\n      <td>1.118015</td>\n      <td>-0.343322</td>\n      <td>-1.570505</td>\n      <td>5</td>\n      <td>1.0</td>\n      <td>1.0</td>\n    </tr>\n    <tr>\n      <th>2013-01-03</th>\n      <td>-0.386501</td>\n      <td>-0.351715</td>\n      <td>1.419200</td>\n      <td>5</td>\n      <td>2.0</td>\n      <td>NaN</td>\n    </tr>\n    <tr>\n      <th>2013-01-04</th>\n      <td>1.049505</td>\n      <td>1.176664</td>\n      <td>-1.620546</td>\n      <td>5</td>\n      <td>3.0</td>\n      <td>NaN</td>\n    </tr>\n  </tbody>\n</table>\n</div>"
     },
     "metadata": {},
     "execution_count": 58
    }
   ],
   "source": [
    "############################################\n",
    "# Missing Data\n",
    "############################################\n",
    "\n",
    "# pandas primarily uses the value 'np.nan' ro represent missing data.\n",
    "# it is by default not included computations.\n",
    "\n",
    "# Reindecing allows you to  change/add/delete the index on a specified\n",
    "# axis. this returns a copy of the data\n",
    "\n",
    "df1 = df.reindex(index=dates[0:4], columns=list(df.columns) + ['E'])\n",
    "df1.loc[dates[0]:dates[1], 'E'] = 1\n",
    "df1"
   ]
  },
  {
   "cell_type": "code",
   "execution_count": 59,
   "metadata": {},
   "outputs": [
    {
     "output_type": "execute_result",
     "data": {
      "text/plain": "                   A         B         C  D    F    E\n2013-01-02  1.118015 -0.343322 -1.570505  5  1.0  1.0",
      "text/html": "<div>\n<style scoped>\n    .dataframe tbody tr th:only-of-type {\n        vertical-align: middle;\n    }\n\n    .dataframe tbody tr th {\n        vertical-align: top;\n    }\n\n    .dataframe thead th {\n        text-align: right;\n    }\n</style>\n<table border=\"1\" class=\"dataframe\">\n  <thead>\n    <tr style=\"text-align: right;\">\n      <th></th>\n      <th>A</th>\n      <th>B</th>\n      <th>C</th>\n      <th>D</th>\n      <th>F</th>\n      <th>E</th>\n    </tr>\n  </thead>\n  <tbody>\n    <tr>\n      <th>2013-01-02</th>\n      <td>1.118015</td>\n      <td>-0.343322</td>\n      <td>-1.570505</td>\n      <td>5</td>\n      <td>1.0</td>\n      <td>1.0</td>\n    </tr>\n  </tbody>\n</table>\n</div>"
     },
     "metadata": {},
     "execution_count": 59
    }
   ],
   "source": [
    "# to drop any rows that have missing data\n",
    "df1.dropna(how='any')"
   ]
  },
  {
   "cell_type": "code",
   "execution_count": 60,
   "metadata": {},
   "outputs": [
    {
     "output_type": "execute_result",
     "data": {
      "text/plain": "                   A         B         C  D    F    E\n2013-01-01  0.000000  0.000000  0.452821  5  5.0  1.0\n2013-01-02  1.118015 -0.343322 -1.570505  5  1.0  1.0\n2013-01-03 -0.386501 -0.351715  1.419200  5  2.0  5.0\n2013-01-04  1.049505  1.176664 -1.620546  5  3.0  5.0",
      "text/html": "<div>\n<style scoped>\n    .dataframe tbody tr th:only-of-type {\n        vertical-align: middle;\n    }\n\n    .dataframe tbody tr th {\n        vertical-align: top;\n    }\n\n    .dataframe thead th {\n        text-align: right;\n    }\n</style>\n<table border=\"1\" class=\"dataframe\">\n  <thead>\n    <tr style=\"text-align: right;\">\n      <th></th>\n      <th>A</th>\n      <th>B</th>\n      <th>C</th>\n      <th>D</th>\n      <th>F</th>\n      <th>E</th>\n    </tr>\n  </thead>\n  <tbody>\n    <tr>\n      <th>2013-01-01</th>\n      <td>0.000000</td>\n      <td>0.000000</td>\n      <td>0.452821</td>\n      <td>5</td>\n      <td>5.0</td>\n      <td>1.0</td>\n    </tr>\n    <tr>\n      <th>2013-01-02</th>\n      <td>1.118015</td>\n      <td>-0.343322</td>\n      <td>-1.570505</td>\n      <td>5</td>\n      <td>1.0</td>\n      <td>1.0</td>\n    </tr>\n    <tr>\n      <th>2013-01-03</th>\n      <td>-0.386501</td>\n      <td>-0.351715</td>\n      <td>1.419200</td>\n      <td>5</td>\n      <td>2.0</td>\n      <td>5.0</td>\n    </tr>\n    <tr>\n      <th>2013-01-04</th>\n      <td>1.049505</td>\n      <td>1.176664</td>\n      <td>-1.620546</td>\n      <td>5</td>\n      <td>3.0</td>\n      <td>5.0</td>\n    </tr>\n  </tbody>\n</table>\n</div>"
     },
     "metadata": {},
     "execution_count": 60
    }
   ],
   "source": [
    "# Filling missing data\n",
    "df1.fillna(value=5)"
   ]
  },
  {
   "cell_type": "code",
   "execution_count": 61,
   "metadata": {},
   "outputs": [
    {
     "output_type": "execute_result",
     "data": {
      "text/plain": "                A      B      C      D      F      E\n2013-01-01  False  False  False  False   True  False\n2013-01-02  False  False  False  False  False  False\n2013-01-03  False  False  False  False  False   True\n2013-01-04  False  False  False  False  False   True",
      "text/html": "<div>\n<style scoped>\n    .dataframe tbody tr th:only-of-type {\n        vertical-align: middle;\n    }\n\n    .dataframe tbody tr th {\n        vertical-align: top;\n    }\n\n    .dataframe thead th {\n        text-align: right;\n    }\n</style>\n<table border=\"1\" class=\"dataframe\">\n  <thead>\n    <tr style=\"text-align: right;\">\n      <th></th>\n      <th>A</th>\n      <th>B</th>\n      <th>C</th>\n      <th>D</th>\n      <th>F</th>\n      <th>E</th>\n    </tr>\n  </thead>\n  <tbody>\n    <tr>\n      <th>2013-01-01</th>\n      <td>False</td>\n      <td>False</td>\n      <td>False</td>\n      <td>False</td>\n      <td>True</td>\n      <td>False</td>\n    </tr>\n    <tr>\n      <th>2013-01-02</th>\n      <td>False</td>\n      <td>False</td>\n      <td>False</td>\n      <td>False</td>\n      <td>False</td>\n      <td>False</td>\n    </tr>\n    <tr>\n      <th>2013-01-03</th>\n      <td>False</td>\n      <td>False</td>\n      <td>False</td>\n      <td>False</td>\n      <td>False</td>\n      <td>True</td>\n    </tr>\n    <tr>\n      <th>2013-01-04</th>\n      <td>False</td>\n      <td>False</td>\n      <td>False</td>\n      <td>False</td>\n      <td>False</td>\n      <td>True</td>\n    </tr>\n  </tbody>\n</table>\n</div>"
     },
     "metadata": {},
     "execution_count": 61
    }
   ],
   "source": [
    "# To get the boolean mask where values are nan\n",
    "pd.isna(df1)"
   ]
  },
  {
   "cell_type": "code",
   "execution_count": 62,
   "metadata": {},
   "outputs": [
    {
     "output_type": "execute_result",
     "data": {
      "text/plain": "                   A         B         C   D     F\n2013-01-01  0.000000  0.000000  0.452821   5   NaN\n2013-01-02  1.118015 -0.343322 -1.117683  10   1.0\n2013-01-03  0.731514 -0.695037  0.301517  15   3.0\n2013-01-04  1.781019  0.481627 -1.319029  20   6.0\n2013-01-05  1.752043  0.448024 -0.264717  25  10.0\n2013-01-06  0.912524 -0.399487 -2.241216  30  15.0",
      "text/html": "<div>\n<style scoped>\n    .dataframe tbody tr th:only-of-type {\n        vertical-align: middle;\n    }\n\n    .dataframe tbody tr th {\n        vertical-align: top;\n    }\n\n    .dataframe thead th {\n        text-align: right;\n    }\n</style>\n<table border=\"1\" class=\"dataframe\">\n  <thead>\n    <tr style=\"text-align: right;\">\n      <th></th>\n      <th>A</th>\n      <th>B</th>\n      <th>C</th>\n      <th>D</th>\n      <th>F</th>\n    </tr>\n  </thead>\n  <tbody>\n    <tr>\n      <th>2013-01-01</th>\n      <td>0.000000</td>\n      <td>0.000000</td>\n      <td>0.452821</td>\n      <td>5</td>\n      <td>NaN</td>\n    </tr>\n    <tr>\n      <th>2013-01-02</th>\n      <td>1.118015</td>\n      <td>-0.343322</td>\n      <td>-1.117683</td>\n      <td>10</td>\n      <td>1.0</td>\n    </tr>\n    <tr>\n      <th>2013-01-03</th>\n      <td>0.731514</td>\n      <td>-0.695037</td>\n      <td>0.301517</td>\n      <td>15</td>\n      <td>3.0</td>\n    </tr>\n    <tr>\n      <th>2013-01-04</th>\n      <td>1.781019</td>\n      <td>0.481627</td>\n      <td>-1.319029</td>\n      <td>20</td>\n      <td>6.0</td>\n    </tr>\n    <tr>\n      <th>2013-01-05</th>\n      <td>1.752043</td>\n      <td>0.448024</td>\n      <td>-0.264717</td>\n      <td>25</td>\n      <td>10.0</td>\n    </tr>\n    <tr>\n      <th>2013-01-06</th>\n      <td>0.912524</td>\n      <td>-0.399487</td>\n      <td>-2.241216</td>\n      <td>30</td>\n      <td>15.0</td>\n    </tr>\n  </tbody>\n</table>\n</div>"
     },
     "metadata": {},
     "execution_count": 62
    }
   ],
   "source": [
    "# applying functions to the data\n",
    "\n",
    "df.apply(np.cumsum)"
   ]
  },
  {
   "cell_type": "code",
   "execution_count": 63,
   "metadata": {},
   "outputs": [
    {
     "output_type": "execute_result",
     "data": {
      "text/plain": "0    4\n1    2\n2    5\n3    0\n4    4\n5    4\n6    5\n7    6\n8    1\n9    4\ndtype: int64"
     },
     "metadata": {},
     "execution_count": 63
    }
   ],
   "source": [
    "# histogramming\n",
    "s = pd.Series(np.random.randint(0, 7, size=10))\n",
    "s"
   ]
  },
  {
   "cell_type": "code",
   "execution_count": 64,
   "metadata": {},
   "outputs": [
    {
     "output_type": "execute_result",
     "data": {
      "text/plain": "4    4\n5    2\n6    1\n2    1\n1    1\n0    1\ndtype: int64"
     },
     "metadata": {},
     "execution_count": 64
    }
   ],
   "source": [
    "s.value_counts()"
   ]
  },
  {
   "cell_type": "code",
   "execution_count": 65,
   "metadata": {},
   "outputs": [
    {
     "output_type": "execute_result",
     "data": {
      "text/plain": "          0         1         2         3\n0 -0.203491  0.373586 -1.256488 -0.043137\n1 -1.930230 -0.649066  0.710945  0.562607\n2 -2.038120  1.257163 -0.508170 -2.186457\n3 -0.980258  0.249704  1.648495 -0.437753\n4  0.576783 -1.740723  0.562328 -0.622344\n5 -1.093836  1.049765  0.392890  0.340789\n6  1.253931 -1.593379 -1.008994  0.064869\n7  2.906345 -1.644633 -1.914596 -1.084555\n8  0.588261 -0.301940  1.939013  0.065548\n9  1.007816  0.985344  0.007301  0.473119",
      "text/html": "<div>\n<style scoped>\n    .dataframe tbody tr th:only-of-type {\n        vertical-align: middle;\n    }\n\n    .dataframe tbody tr th {\n        vertical-align: top;\n    }\n\n    .dataframe thead th {\n        text-align: right;\n    }\n</style>\n<table border=\"1\" class=\"dataframe\">\n  <thead>\n    <tr style=\"text-align: right;\">\n      <th></th>\n      <th>0</th>\n      <th>1</th>\n      <th>2</th>\n      <th>3</th>\n    </tr>\n  </thead>\n  <tbody>\n    <tr>\n      <th>0</th>\n      <td>-0.203491</td>\n      <td>0.373586</td>\n      <td>-1.256488</td>\n      <td>-0.043137</td>\n    </tr>\n    <tr>\n      <th>1</th>\n      <td>-1.930230</td>\n      <td>-0.649066</td>\n      <td>0.710945</td>\n      <td>0.562607</td>\n    </tr>\n    <tr>\n      <th>2</th>\n      <td>-2.038120</td>\n      <td>1.257163</td>\n      <td>-0.508170</td>\n      <td>-2.186457</td>\n    </tr>\n    <tr>\n      <th>3</th>\n      <td>-0.980258</td>\n      <td>0.249704</td>\n      <td>1.648495</td>\n      <td>-0.437753</td>\n    </tr>\n    <tr>\n      <th>4</th>\n      <td>0.576783</td>\n      <td>-1.740723</td>\n      <td>0.562328</td>\n      <td>-0.622344</td>\n    </tr>\n    <tr>\n      <th>5</th>\n      <td>-1.093836</td>\n      <td>1.049765</td>\n      <td>0.392890</td>\n      <td>0.340789</td>\n    </tr>\n    <tr>\n      <th>6</th>\n      <td>1.253931</td>\n      <td>-1.593379</td>\n      <td>-1.008994</td>\n      <td>0.064869</td>\n    </tr>\n    <tr>\n      <th>7</th>\n      <td>2.906345</td>\n      <td>-1.644633</td>\n      <td>-1.914596</td>\n      <td>-1.084555</td>\n    </tr>\n    <tr>\n      <th>8</th>\n      <td>0.588261</td>\n      <td>-0.301940</td>\n      <td>1.939013</td>\n      <td>0.065548</td>\n    </tr>\n    <tr>\n      <th>9</th>\n      <td>1.007816</td>\n      <td>0.985344</td>\n      <td>0.007301</td>\n      <td>0.473119</td>\n    </tr>\n  </tbody>\n</table>\n</div>"
     },
     "metadata": {},
     "execution_count": 65
    }
   ],
   "source": [
    "df = pd.DataFrame(np.random.randn(10, 4))\n",
    "df"
   ]
  },
  {
   "cell_type": "code",
   "execution_count": 66,
   "metadata": {},
   "outputs": [
    {
     "output_type": "execute_result",
     "data": {
      "text/plain": "[          0         1         2         3\n 0 -0.203491  0.373586 -1.256488 -0.043137\n 1 -1.930230 -0.649066  0.710945  0.562607\n 2 -2.038120  1.257163 -0.508170 -2.186457,\n           0         1         2         3\n 3 -0.980258  0.249704  1.648495 -0.437753\n 4  0.576783 -1.740723  0.562328 -0.622344\n 5 -1.093836  1.049765  0.392890  0.340789\n 6  1.253931 -1.593379 -1.008994  0.064869,\n           0         1         2         3\n 7  2.906345 -1.644633 -1.914596 -1.084555\n 8  0.588261 -0.301940  1.939013  0.065548\n 9  1.007816  0.985344  0.007301  0.473119]"
     },
     "metadata": {},
     "execution_count": 66
    }
   ],
   "source": [
    "pieces = [df[:3], df[3:7], df[7:]]\n",
    "pieces"
   ]
  },
  {
   "cell_type": "code",
   "execution_count": 67,
   "metadata": {},
   "outputs": [
    {
     "output_type": "execute_result",
     "data": {
      "text/plain": "          0         1         2         3\n0 -0.203491  0.373586 -1.256488 -0.043137\n1 -1.930230 -0.649066  0.710945  0.562607\n2 -2.038120  1.257163 -0.508170 -2.186457\n3 -0.980258  0.249704  1.648495 -0.437753\n4  0.576783 -1.740723  0.562328 -0.622344\n5 -1.093836  1.049765  0.392890  0.340789\n6  1.253931 -1.593379 -1.008994  0.064869\n7  2.906345 -1.644633 -1.914596 -1.084555\n8  0.588261 -0.301940  1.939013  0.065548\n9  1.007816  0.985344  0.007301  0.473119",
      "text/html": "<div>\n<style scoped>\n    .dataframe tbody tr th:only-of-type {\n        vertical-align: middle;\n    }\n\n    .dataframe tbody tr th {\n        vertical-align: top;\n    }\n\n    .dataframe thead th {\n        text-align: right;\n    }\n</style>\n<table border=\"1\" class=\"dataframe\">\n  <thead>\n    <tr style=\"text-align: right;\">\n      <th></th>\n      <th>0</th>\n      <th>1</th>\n      <th>2</th>\n      <th>3</th>\n    </tr>\n  </thead>\n  <tbody>\n    <tr>\n      <th>0</th>\n      <td>-0.203491</td>\n      <td>0.373586</td>\n      <td>-1.256488</td>\n      <td>-0.043137</td>\n    </tr>\n    <tr>\n      <th>1</th>\n      <td>-1.930230</td>\n      <td>-0.649066</td>\n      <td>0.710945</td>\n      <td>0.562607</td>\n    </tr>\n    <tr>\n      <th>2</th>\n      <td>-2.038120</td>\n      <td>1.257163</td>\n      <td>-0.508170</td>\n      <td>-2.186457</td>\n    </tr>\n    <tr>\n      <th>3</th>\n      <td>-0.980258</td>\n      <td>0.249704</td>\n      <td>1.648495</td>\n      <td>-0.437753</td>\n    </tr>\n    <tr>\n      <th>4</th>\n      <td>0.576783</td>\n      <td>-1.740723</td>\n      <td>0.562328</td>\n      <td>-0.622344</td>\n    </tr>\n    <tr>\n      <th>5</th>\n      <td>-1.093836</td>\n      <td>1.049765</td>\n      <td>0.392890</td>\n      <td>0.340789</td>\n    </tr>\n    <tr>\n      <th>6</th>\n      <td>1.253931</td>\n      <td>-1.593379</td>\n      <td>-1.008994</td>\n      <td>0.064869</td>\n    </tr>\n    <tr>\n      <th>7</th>\n      <td>2.906345</td>\n      <td>-1.644633</td>\n      <td>-1.914596</td>\n      <td>-1.084555</td>\n    </tr>\n    <tr>\n      <th>8</th>\n      <td>0.588261</td>\n      <td>-0.301940</td>\n      <td>1.939013</td>\n      <td>0.065548</td>\n    </tr>\n    <tr>\n      <th>9</th>\n      <td>1.007816</td>\n      <td>0.985344</td>\n      <td>0.007301</td>\n      <td>0.473119</td>\n    </tr>\n  </tbody>\n</table>\n</div>"
     },
     "metadata": {},
     "execution_count": 67
    }
   ],
   "source": [
    "pd.concat(pieces)"
   ]
  },
  {
   "cell_type": "code",
   "execution_count": 68,
   "metadata": {
    "tags": []
   },
   "outputs": [
    {
     "output_type": "stream",
     "name": "stdout",
     "text": "key  lval\n0  foo     1\n1  foo     2\n   key  rval\n0  foo     4\n1  foo     5\n"
    }
   ],
   "source": [
    "# Join \n",
    "# SQL style merges, See the Database style joining section.\n",
    "\n",
    "left  = pd.DataFrame({'key' : ['foo', 'foo'], 'lval' : [1, 2]})\n",
    "right = pd.DataFrame({'key' : ['foo', 'foo'], 'rval' : [4, 5]})\n",
    "print(left)\n",
    "print(right)"
   ]
  },
  {
   "cell_type": "code",
   "execution_count": 69,
   "metadata": {},
   "outputs": [
    {
     "output_type": "execute_result",
     "data": {
      "text/plain": "   key  lval  rval\n0  foo     1     4\n1  foo     1     5\n2  foo     2     4\n3  foo     2     5",
      "text/html": "<div>\n<style scoped>\n    .dataframe tbody tr th:only-of-type {\n        vertical-align: middle;\n    }\n\n    .dataframe tbody tr th {\n        vertical-align: top;\n    }\n\n    .dataframe thead th {\n        text-align: right;\n    }\n</style>\n<table border=\"1\" class=\"dataframe\">\n  <thead>\n    <tr style=\"text-align: right;\">\n      <th></th>\n      <th>key</th>\n      <th>lval</th>\n      <th>rval</th>\n    </tr>\n  </thead>\n  <tbody>\n    <tr>\n      <th>0</th>\n      <td>foo</td>\n      <td>1</td>\n      <td>4</td>\n    </tr>\n    <tr>\n      <th>1</th>\n      <td>foo</td>\n      <td>1</td>\n      <td>5</td>\n    </tr>\n    <tr>\n      <th>2</th>\n      <td>foo</td>\n      <td>2</td>\n      <td>4</td>\n    </tr>\n    <tr>\n      <th>3</th>\n      <td>foo</td>\n      <td>2</td>\n      <td>5</td>\n    </tr>\n  </tbody>\n</table>\n</div>"
     },
     "metadata": {},
     "execution_count": 69
    }
   ],
   "source": [
    "pd.merge(left, right, on='key')"
   ]
  },
  {
   "cell_type": "code",
   "execution_count": 71,
   "metadata": {},
   "outputs": [
    {
     "output_type": "execute_result",
     "data": {
      "text/plain": "   key  lval  rval\n0  foo     1     4\n1  bar     2     5",
      "text/html": "<div>\n<style scoped>\n    .dataframe tbody tr th:only-of-type {\n        vertical-align: middle;\n    }\n\n    .dataframe tbody tr th {\n        vertical-align: top;\n    }\n\n    .dataframe thead th {\n        text-align: right;\n    }\n</style>\n<table border=\"1\" class=\"dataframe\">\n  <thead>\n    <tr style=\"text-align: right;\">\n      <th></th>\n      <th>key</th>\n      <th>lval</th>\n      <th>rval</th>\n    </tr>\n  </thead>\n  <tbody>\n    <tr>\n      <th>0</th>\n      <td>foo</td>\n      <td>1</td>\n      <td>4</td>\n    </tr>\n    <tr>\n      <th>1</th>\n      <td>bar</td>\n      <td>2</td>\n      <td>5</td>\n    </tr>\n  </tbody>\n</table>\n</div>"
     },
     "metadata": {},
     "execution_count": 71
    }
   ],
   "source": [
    "left  = pd.DataFrame({'key' : ['foo', 'bar'], 'lval' : [1, 2]})\n",
    "right = pd.DataFrame({'key' : ['foo', 'bar'], 'rval' : [4, 5]})\n",
    "pd.merge(left, right, on='key')"
   ]
  },
  {
   "cell_type": "code",
   "execution_count": 72,
   "metadata": {},
   "outputs": [],
   "source": [
    "#################################\n",
    "# Grouping\n",
    "#################################\n"
   ]
  },
  {
   "cell_type": "code",
   "execution_count": 73,
   "metadata": {},
   "outputs": [
    {
     "output_type": "execute_result",
     "data": {
      "text/plain": "     A      B         C         D\n0  foo    one  0.337530 -1.124641\n1  bar    one  1.778119 -1.337290\n2  foo    two -0.810535 -0.297194\n3  bar  three -0.361241 -0.593613\n4  foo    two -0.528152  0.558360\n5  bar    two  1.159578 -0.456980\n6  foo    one -0.260407  0.072617\n7  bar  three  0.746764 -2.147137",
      "text/html": "<div>\n<style scoped>\n    .dataframe tbody tr th:only-of-type {\n        vertical-align: middle;\n    }\n\n    .dataframe tbody tr th {\n        vertical-align: top;\n    }\n\n    .dataframe thead th {\n        text-align: right;\n    }\n</style>\n<table border=\"1\" class=\"dataframe\">\n  <thead>\n    <tr style=\"text-align: right;\">\n      <th></th>\n      <th>A</th>\n      <th>B</th>\n      <th>C</th>\n      <th>D</th>\n    </tr>\n  </thead>\n  <tbody>\n    <tr>\n      <th>0</th>\n      <td>foo</td>\n      <td>one</td>\n      <td>0.337530</td>\n      <td>-1.124641</td>\n    </tr>\n    <tr>\n      <th>1</th>\n      <td>bar</td>\n      <td>one</td>\n      <td>1.778119</td>\n      <td>-1.337290</td>\n    </tr>\n    <tr>\n      <th>2</th>\n      <td>foo</td>\n      <td>two</td>\n      <td>-0.810535</td>\n      <td>-0.297194</td>\n    </tr>\n    <tr>\n      <th>3</th>\n      <td>bar</td>\n      <td>three</td>\n      <td>-0.361241</td>\n      <td>-0.593613</td>\n    </tr>\n    <tr>\n      <th>4</th>\n      <td>foo</td>\n      <td>two</td>\n      <td>-0.528152</td>\n      <td>0.558360</td>\n    </tr>\n    <tr>\n      <th>5</th>\n      <td>bar</td>\n      <td>two</td>\n      <td>1.159578</td>\n      <td>-0.456980</td>\n    </tr>\n    <tr>\n      <th>6</th>\n      <td>foo</td>\n      <td>one</td>\n      <td>-0.260407</td>\n      <td>0.072617</td>\n    </tr>\n    <tr>\n      <th>7</th>\n      <td>bar</td>\n      <td>three</td>\n      <td>0.746764</td>\n      <td>-2.147137</td>\n    </tr>\n  </tbody>\n</table>\n</div>"
     },
     "metadata": {},
     "execution_count": 73
    }
   ],
   "source": [
    "# By \"group by\" we are referring to a process involving one or more of the following steps ;\n",
    "# - splitting the data into groups based on some criteria\n",
    "# - Applying a function to each group independently\n",
    "# - Combining the results into a data structure\n",
    "\n",
    "df = pd.DataFrame({'A' : ['foo', 'bar', 'foo', 'bar',\n",
    "                          'foo', 'bar', 'foo', 'bar'],\n",
    "                   'B' : ['one', 'one', 'two', 'three',\n",
    "                          'two', 'two', 'one', 'three'],\n",
    "                   'C' : np.random.randn(8),\n",
    "                   'D' : np.random.randn(8)})\n",
    "df"
   ]
  },
  {
   "cell_type": "code",
   "execution_count": 75,
   "metadata": {},
   "outputs": [
    {
     "output_type": "execute_result",
     "data": {
      "text/plain": "            C         D\nA                      \nbar  3.323221 -4.535020\nfoo -1.261564 -0.790859",
      "text/html": "<div>\n<style scoped>\n    .dataframe tbody tr th:only-of-type {\n        vertical-align: middle;\n    }\n\n    .dataframe tbody tr th {\n        vertical-align: top;\n    }\n\n    .dataframe thead th {\n        text-align: right;\n    }\n</style>\n<table border=\"1\" class=\"dataframe\">\n  <thead>\n    <tr style=\"text-align: right;\">\n      <th></th>\n      <th>C</th>\n      <th>D</th>\n    </tr>\n    <tr>\n      <th>A</th>\n      <th></th>\n      <th></th>\n    </tr>\n  </thead>\n  <tbody>\n    <tr>\n      <th>bar</th>\n      <td>3.323221</td>\n      <td>-4.535020</td>\n    </tr>\n    <tr>\n      <th>foo</th>\n      <td>-1.261564</td>\n      <td>-0.790859</td>\n    </tr>\n  </tbody>\n</table>\n</div>"
     },
     "metadata": {},
     "execution_count": 75
    }
   ],
   "source": [
    "# Grouping and then applying the sum() function to the resulting groups\n",
    "df.groupby('A').sum()"
   ]
  },
  {
   "cell_type": "code",
   "execution_count": 83,
   "metadata": {},
   "outputs": [
    {
     "output_type": "execute_result",
     "data": {
      "text/plain": "A        barbarbarbar\nB    onethreetwothree\nC             3.32322\nD            -4.53502\ndtype: object"
     },
     "metadata": {},
     "execution_count": 83
    }
   ],
   "source": [
    "df[df['A'] == 'bar'].sum()"
   ]
  },
  {
   "cell_type": "code",
   "execution_count": 85,
   "metadata": {},
   "outputs": [
    {
     "output_type": "execute_result",
     "data": {
      "text/plain": "                  C         D\nA   B                        \nbar one    1.778119 -1.337290\n    three  0.385523 -2.740750\n    two    1.159578 -0.456980\nfoo one    0.077123 -1.052024\n    two   -1.338687  0.261165",
      "text/html": "<div>\n<style scoped>\n    .dataframe tbody tr th:only-of-type {\n        vertical-align: middle;\n    }\n\n    .dataframe tbody tr th {\n        vertical-align: top;\n    }\n\n    .dataframe thead th {\n        text-align: right;\n    }\n</style>\n<table border=\"1\" class=\"dataframe\">\n  <thead>\n    <tr style=\"text-align: right;\">\n      <th></th>\n      <th></th>\n      <th>C</th>\n      <th>D</th>\n    </tr>\n    <tr>\n      <th>A</th>\n      <th>B</th>\n      <th></th>\n      <th></th>\n    </tr>\n  </thead>\n  <tbody>\n    <tr>\n      <th rowspan=\"3\" valign=\"top\">bar</th>\n      <th>one</th>\n      <td>1.778119</td>\n      <td>-1.337290</td>\n    </tr>\n    <tr>\n      <th>three</th>\n      <td>0.385523</td>\n      <td>-2.740750</td>\n    </tr>\n    <tr>\n      <th>two</th>\n      <td>1.159578</td>\n      <td>-0.456980</td>\n    </tr>\n    <tr>\n      <th rowspan=\"2\" valign=\"top\">foo</th>\n      <th>one</th>\n      <td>0.077123</td>\n      <td>-1.052024</td>\n    </tr>\n    <tr>\n      <th>two</th>\n      <td>-1.338687</td>\n      <td>0.261165</td>\n    </tr>\n  </tbody>\n</table>\n</div>"
     },
     "metadata": {},
     "execution_count": 85
    }
   ],
   "source": [
    "df.groupby(['A', 'B']).sum()"
   ]
  },
  {
   "cell_type": "code",
   "execution_count": null,
   "metadata": {},
   "outputs": [],
   "source": [
    "#################################\n",
    "# Reshaping\n",
    "#################################\n",
    "\n",
    "tuples = list(zip(*[['bar', 'bar', 'baz', 'baz',\n",
    "                     'foo', 'foo', 'qux', 'qux'],\n",
    "                    ['one', 'two', 'one', 'two',\n",
    "                     'one', 'twp', 'one', 'two']]))\n",
    "index = pd.MultiIndex.from_tuples(tuples, name=['first', 'second'])"
   ]
  }
 ]
}