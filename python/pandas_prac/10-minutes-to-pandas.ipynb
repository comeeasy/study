{
 "metadata": {
  "language_info": {
   "codemirror_mode": {
    "name": "ipython",
    "version": 3
   },
   "file_extension": ".py",
   "mimetype": "text/x-python",
   "name": "python",
   "nbconvert_exporter": "python",
   "pygments_lexer": "ipython3",
   "version": "3.8.2-final"
  },
  "orig_nbformat": 2,
  "kernelspec": {
   "name": "python_defaultSpec_1596864766101",
   "display_name": "Python 3.8.2 64-bit"
  }
 },
 "nbformat": 4,
 "nbformat_minor": 2,
 "cells": [
  {
   "cell_type": "code",
   "execution_count": 4,
   "metadata": {
    "tags": []
   },
   "outputs": [
    {
     "output_type": "stream",
     "name": "stdout",
     "text": "Hello Jupitor\n"
    }
   ],
   "source": [
    "print('Hello Jupitor')"
   ]
  },
  {
   "cell_type": "code",
   "execution_count": 6,
   "metadata": {},
   "outputs": [],
   "source": [
    "import numpy as np\n",
    "import pandas as pd"
   ]
  },
  {
   "cell_type": "code",
   "execution_count": 8,
   "metadata": {},
   "outputs": [
    {
     "output_type": "execute_result",
     "data": {
      "text/plain": "0    1.0\n1    3.0\n2    5.0\n3    NaN\n4    6.0\n5    8.0\ndtype: float64"
     },
     "metadata": {},
     "execution_count": 8
    }
   ],
   "source": [
    "s = pd.Series([1, 3, 5, np.nan, 6, 8])\n",
    "s"
   ]
  },
  {
   "cell_type": "code",
   "execution_count": 10,
   "metadata": {
    "tags": []
   },
   "outputs": [
    {
     "output_type": "stream",
     "name": "stdout",
     "text": "DatetimeIndex(['2013-01-01', '2013-01-02', '2013-01-03', '2013-01-04',\n               '2013-01-05', '2013-01-06'],\n              dtype='datetime64[ns]', freq='D')\nDatetimeIndex(['2013-01-31', '2013-02-28', '2013-03-31', '2013-04-30',\n               '2013-05-31', '2013-06-30'],\n              dtype='datetime64[ns]', freq='M')\nDatetimeIndex(['2013-12-31', '2014-12-31', '2015-12-31', '2016-12-31',\n               '2017-12-31', '2018-12-31'],\n              dtype='datetime64[ns]', freq='A-DEC')\n"
    }
   ],
   "source": [
    "dates = pd.date_range('20130101', periods=6, freq='D')\n",
    "print(dates)\n",
    "dates2 = pd.date_range('20130101', periods=6, freq='M')\n",
    "print(dates2)\n",
    "dates3 = pd.date_range('20130101', periods=6, freq='Y')\n",
    "print(dates3)"
   ]
  },
  {
   "cell_type": "code",
   "execution_count": 12,
   "metadata": {},
   "outputs": [
    {
     "output_type": "execute_result",
     "data": {
      "text/plain": "                   A         B         C         D\n2013-01-01  0.693891  0.342582  0.842040 -0.614046\n2013-01-02 -0.380125  1.286044 -1.826363 -1.759597\n2013-01-03  0.575377 -1.030226 -1.458529 -0.229265\n2013-01-04 -0.198816  0.151591  0.868986  0.046130\n2013-01-05 -1.426182 -0.194032  1.376995  1.332500\n2013-01-06 -1.263439 -0.591865  1.479771  0.658840",
      "text/html": "<div>\n<style scoped>\n    .dataframe tbody tr th:only-of-type {\n        vertical-align: middle;\n    }\n\n    .dataframe tbody tr th {\n        vertical-align: top;\n    }\n\n    .dataframe thead th {\n        text-align: right;\n    }\n</style>\n<table border=\"1\" class=\"dataframe\">\n  <thead>\n    <tr style=\"text-align: right;\">\n      <th></th>\n      <th>A</th>\n      <th>B</th>\n      <th>C</th>\n      <th>D</th>\n    </tr>\n  </thead>\n  <tbody>\n    <tr>\n      <th>2013-01-01</th>\n      <td>0.693891</td>\n      <td>0.342582</td>\n      <td>0.842040</td>\n      <td>-0.614046</td>\n    </tr>\n    <tr>\n      <th>2013-01-02</th>\n      <td>-0.380125</td>\n      <td>1.286044</td>\n      <td>-1.826363</td>\n      <td>-1.759597</td>\n    </tr>\n    <tr>\n      <th>2013-01-03</th>\n      <td>0.575377</td>\n      <td>-1.030226</td>\n      <td>-1.458529</td>\n      <td>-0.229265</td>\n    </tr>\n    <tr>\n      <th>2013-01-04</th>\n      <td>-0.198816</td>\n      <td>0.151591</td>\n      <td>0.868986</td>\n      <td>0.046130</td>\n    </tr>\n    <tr>\n      <th>2013-01-05</th>\n      <td>-1.426182</td>\n      <td>-0.194032</td>\n      <td>1.376995</td>\n      <td>1.332500</td>\n    </tr>\n    <tr>\n      <th>2013-01-06</th>\n      <td>-1.263439</td>\n      <td>-0.591865</td>\n      <td>1.479771</td>\n      <td>0.658840</td>\n    </tr>\n  </tbody>\n</table>\n</div>"
     },
     "metadata": {},
     "execution_count": 12
    }
   ],
   "source": [
    "# Creating a DataFrame by passing a BumPy array, with a datetime index\n",
    "# and labeled columns\n",
    "\n",
    "df = pd.DataFrame(np.random.randn(6, 4), index=dates, columns=list('ABCD'))\n",
    "df"
   ]
  },
  {
   "cell_type": "code",
   "execution_count": 14,
   "metadata": {},
   "outputs": [
    {
     "output_type": "execute_result",
     "data": {
      "text/plain": "     A          B    C  D      E    F\n0  1.0 2013-01-02  1.0  3   test  foo\n1  1.0 2013-01-02  1.0  3  train  foo\n2  1.0 2013-01-02  1.0  3   test  foo\n3  1.0 2013-01-02  1.0  3  train  foo",
      "text/html": "<div>\n<style scoped>\n    .dataframe tbody tr th:only-of-type {\n        vertical-align: middle;\n    }\n\n    .dataframe tbody tr th {\n        vertical-align: top;\n    }\n\n    .dataframe thead th {\n        text-align: right;\n    }\n</style>\n<table border=\"1\" class=\"dataframe\">\n  <thead>\n    <tr style=\"text-align: right;\">\n      <th></th>\n      <th>A</th>\n      <th>B</th>\n      <th>C</th>\n      <th>D</th>\n      <th>E</th>\n      <th>F</th>\n    </tr>\n  </thead>\n  <tbody>\n    <tr>\n      <th>0</th>\n      <td>1.0</td>\n      <td>2013-01-02</td>\n      <td>1.0</td>\n      <td>3</td>\n      <td>test</td>\n      <td>foo</td>\n    </tr>\n    <tr>\n      <th>1</th>\n      <td>1.0</td>\n      <td>2013-01-02</td>\n      <td>1.0</td>\n      <td>3</td>\n      <td>train</td>\n      <td>foo</td>\n    </tr>\n    <tr>\n      <th>2</th>\n      <td>1.0</td>\n      <td>2013-01-02</td>\n      <td>1.0</td>\n      <td>3</td>\n      <td>test</td>\n      <td>foo</td>\n    </tr>\n    <tr>\n      <th>3</th>\n      <td>1.0</td>\n      <td>2013-01-02</td>\n      <td>1.0</td>\n      <td>3</td>\n      <td>train</td>\n      <td>foo</td>\n    </tr>\n  </tbody>\n</table>\n</div>"
     },
     "metadata": {},
     "execution_count": 14
    }
   ],
   "source": [
    "# Crearting a DataFrame by passing a dict of objects that can be\n",
    "# converted to series-like\n",
    "df2 = pd.DataFrame({'A' : 1.,\n",
    "                    'B' : pd.Timestamp('20130102'),\n",
    "                    'C' : pd.Series(1, index=list(range(4)), dtype='float32'),\n",
    "                    'D' : np.array([3] * 4, dtype='int32'),\n",
    "                    'E' : pd.Categorical(['test', 'train', 'test', 'train']),\n",
    "                    'F' : 'foo'})\n",
    "df2"
   ]
  },
  {
   "cell_type": "code",
   "execution_count": 16,
   "metadata": {},
   "outputs": [
    {
     "output_type": "execute_result",
     "data": {
      "text/plain": "A           float64\nB    datetime64[ns]\nC           float32\nD             int32\nE          category\nF            object\ndtype: object"
     },
     "metadata": {},
     "execution_count": 16
    }
   ],
   "source": [
    "df2.dtypes"
   ]
  },
  {
   "cell_type": "code",
   "execution_count": 18,
   "metadata": {
    "tags": []
   },
   "outputs": [
    {
     "output_type": "execute_result",
     "data": {
      "text/plain": "                   A         B         C         D\n2013-01-01  0.693891  0.342582  0.842040 -0.614046\n2013-01-02 -0.380125  1.286044 -1.826363 -1.759597\n2013-01-03  0.575377 -1.030226 -1.458529 -0.229265\n2013-01-04 -0.198816  0.151591  0.868986  0.046130\n2013-01-05 -1.426182 -0.194032  1.376995  1.332500",
      "text/html": "<div>\n<style scoped>\n    .dataframe tbody tr th:only-of-type {\n        vertical-align: middle;\n    }\n\n    .dataframe tbody tr th {\n        vertical-align: top;\n    }\n\n    .dataframe thead th {\n        text-align: right;\n    }\n</style>\n<table border=\"1\" class=\"dataframe\">\n  <thead>\n    <tr style=\"text-align: right;\">\n      <th></th>\n      <th>A</th>\n      <th>B</th>\n      <th>C</th>\n      <th>D</th>\n    </tr>\n  </thead>\n  <tbody>\n    <tr>\n      <th>2013-01-01</th>\n      <td>0.693891</td>\n      <td>0.342582</td>\n      <td>0.842040</td>\n      <td>-0.614046</td>\n    </tr>\n    <tr>\n      <th>2013-01-02</th>\n      <td>-0.380125</td>\n      <td>1.286044</td>\n      <td>-1.826363</td>\n      <td>-1.759597</td>\n    </tr>\n    <tr>\n      <th>2013-01-03</th>\n      <td>0.575377</td>\n      <td>-1.030226</td>\n      <td>-1.458529</td>\n      <td>-0.229265</td>\n    </tr>\n    <tr>\n      <th>2013-01-04</th>\n      <td>-0.198816</td>\n      <td>0.151591</td>\n      <td>0.868986</td>\n      <td>0.046130</td>\n    </tr>\n    <tr>\n      <th>2013-01-05</th>\n      <td>-1.426182</td>\n      <td>-0.194032</td>\n      <td>1.376995</td>\n      <td>1.332500</td>\n    </tr>\n  </tbody>\n</table>\n</div>"
     },
     "metadata": {},
     "execution_count": 18
    }
   ],
   "source": [
    "# Here is how to view the top and bottom rows of the frame :\n",
    "df.head()"
   ]
  },
  {
   "cell_type": "code",
   "execution_count": 20,
   "metadata": {},
   "outputs": [
    {
     "output_type": "execute_result",
     "data": {
      "text/plain": "                   A         B         C         D\n2013-01-02 -0.380125  1.286044 -1.826363 -1.759597\n2013-01-03  0.575377 -1.030226 -1.458529 -0.229265\n2013-01-04 -0.198816  0.151591  0.868986  0.046130\n2013-01-05 -1.426182 -0.194032  1.376995  1.332500\n2013-01-06 -1.263439 -0.591865  1.479771  0.658840",
      "text/html": "<div>\n<style scoped>\n    .dataframe tbody tr th:only-of-type {\n        vertical-align: middle;\n    }\n\n    .dataframe tbody tr th {\n        vertical-align: top;\n    }\n\n    .dataframe thead th {\n        text-align: right;\n    }\n</style>\n<table border=\"1\" class=\"dataframe\">\n  <thead>\n    <tr style=\"text-align: right;\">\n      <th></th>\n      <th>A</th>\n      <th>B</th>\n      <th>C</th>\n      <th>D</th>\n    </tr>\n  </thead>\n  <tbody>\n    <tr>\n      <th>2013-01-02</th>\n      <td>-0.380125</td>\n      <td>1.286044</td>\n      <td>-1.826363</td>\n      <td>-1.759597</td>\n    </tr>\n    <tr>\n      <th>2013-01-03</th>\n      <td>0.575377</td>\n      <td>-1.030226</td>\n      <td>-1.458529</td>\n      <td>-0.229265</td>\n    </tr>\n    <tr>\n      <th>2013-01-04</th>\n      <td>-0.198816</td>\n      <td>0.151591</td>\n      <td>0.868986</td>\n      <td>0.046130</td>\n    </tr>\n    <tr>\n      <th>2013-01-05</th>\n      <td>-1.426182</td>\n      <td>-0.194032</td>\n      <td>1.376995</td>\n      <td>1.332500</td>\n    </tr>\n    <tr>\n      <th>2013-01-06</th>\n      <td>-1.263439</td>\n      <td>-0.591865</td>\n      <td>1.479771</td>\n      <td>0.658840</td>\n    </tr>\n  </tbody>\n</table>\n</div>"
     },
     "metadata": {},
     "execution_count": 20
    }
   ],
   "source": [
    "df.tail()"
   ]
  },
  {
   "cell_type": "code",
   "execution_count": 22,
   "metadata": {},
   "outputs": [
    {
     "output_type": "execute_result",
     "data": {
      "text/plain": "Int64Index([0, 1, 2, 3], dtype='int64')"
     },
     "metadata": {},
     "execution_count": 22
    }
   ],
   "source": [
    "df2.index"
   ]
  },
  {
   "cell_type": "code",
   "execution_count": 24,
   "metadata": {},
   "outputs": [
    {
     "output_type": "execute_result",
     "data": {
      "text/plain": "Index(['A', 'B', 'C', 'D'], dtype='object')"
     },
     "metadata": {},
     "execution_count": 24
    }
   ],
   "source": [
    "df.columns"
   ]
  },
  {
   "cell_type": "code",
   "execution_count": 26,
   "metadata": {},
   "outputs": [
    {
     "output_type": "execute_result",
     "data": {
      "text/plain": "array([[ 0.69389058,  0.34258175,  0.8420397 , -0.61404588],\n       [-0.38012533,  1.28604429, -1.82636254, -1.75959688],\n       [ 0.57537682, -1.03022582, -1.45852874, -0.2292651 ],\n       [-0.19881581,  0.15159082,  0.86898623,  0.04612965],\n       [-1.42618157, -0.19403242,  1.3769953 ,  1.33249996],\n       [-1.26343907, -0.5918651 ,  1.4797715 ,  0.6588401 ]])"
     },
     "metadata": {},
     "execution_count": 26
    }
   ],
   "source": [
    "'''\n",
    "DataFrame.to_numpy() gives a NumPy representation of the underlying data\n",
    "Note that this can be ad expensive operation when your DataFrame has columns with different\n",
    "dtypes, which comes down to a fundemental difference between pandas and NumPy\n",
    ": Numpy arrays have one dtype for the entire array, whlie pandas DataFrames have one dtype\n",
    "per column. when you call DataFrame.to_numpy(), pandas will find the Numpy dtype that can hold all of the dtypes in the DataFrame. This may end up being 'object', which requires\n",
    "casting every value to a Python objent\n",
    "'''\n",
    "\n",
    "df.to_numpy()"
   ]
  },
  {
   "cell_type": "code",
   "execution_count": 28,
   "metadata": {},
   "outputs": [
    {
     "output_type": "execute_result",
     "data": {
      "text/plain": "array([[1.0, Timestamp('2013-01-02 00:00:00'), 1.0, 3, 'test', 'foo'],\n       [1.0, Timestamp('2013-01-02 00:00:00'), 1.0, 3, 'train', 'foo'],\n       [1.0, Timestamp('2013-01-02 00:00:00'), 1.0, 3, 'test', 'foo'],\n       [1.0, Timestamp('2013-01-02 00:00:00'), 1.0, 3, 'train', 'foo']],\n      dtype=object)"
     },
     "metadata": {},
     "execution_count": 28
    }
   ],
   "source": [
    "df2.to_numpy()"
   ]
  },
  {
   "cell_type": "code",
   "execution_count": 30,
   "metadata": {},
   "outputs": [
    {
     "output_type": "execute_result",
     "data": {
      "text/plain": "              A         B         C         D\ncount  6.000000  6.000000  6.000000  6.000000\nmean  -0.333216 -0.005984  0.213817 -0.094240\nstd    0.890016  0.805401  1.465511  1.066233\nmin   -1.426182 -1.030226 -1.826363 -1.759597\n25%   -1.042611 -0.492407 -0.883387 -0.517851\n50%   -0.289471 -0.021221  0.855513 -0.091568\n75%    0.381829  0.294834  1.249993  0.505662\nmax    0.693891  1.286044  1.479771  1.332500",
      "text/html": "<div>\n<style scoped>\n    .dataframe tbody tr th:only-of-type {\n        vertical-align: middle;\n    }\n\n    .dataframe tbody tr th {\n        vertical-align: top;\n    }\n\n    .dataframe thead th {\n        text-align: right;\n    }\n</style>\n<table border=\"1\" class=\"dataframe\">\n  <thead>\n    <tr style=\"text-align: right;\">\n      <th></th>\n      <th>A</th>\n      <th>B</th>\n      <th>C</th>\n      <th>D</th>\n    </tr>\n  </thead>\n  <tbody>\n    <tr>\n      <th>count</th>\n      <td>6.000000</td>\n      <td>6.000000</td>\n      <td>6.000000</td>\n      <td>6.000000</td>\n    </tr>\n    <tr>\n      <th>mean</th>\n      <td>-0.333216</td>\n      <td>-0.005984</td>\n      <td>0.213817</td>\n      <td>-0.094240</td>\n    </tr>\n    <tr>\n      <th>std</th>\n      <td>0.890016</td>\n      <td>0.805401</td>\n      <td>1.465511</td>\n      <td>1.066233</td>\n    </tr>\n    <tr>\n      <th>min</th>\n      <td>-1.426182</td>\n      <td>-1.030226</td>\n      <td>-1.826363</td>\n      <td>-1.759597</td>\n    </tr>\n    <tr>\n      <th>25%</th>\n      <td>-1.042611</td>\n      <td>-0.492407</td>\n      <td>-0.883387</td>\n      <td>-0.517851</td>\n    </tr>\n    <tr>\n      <th>50%</th>\n      <td>-0.289471</td>\n      <td>-0.021221</td>\n      <td>0.855513</td>\n      <td>-0.091568</td>\n    </tr>\n    <tr>\n      <th>75%</th>\n      <td>0.381829</td>\n      <td>0.294834</td>\n      <td>1.249993</td>\n      <td>0.505662</td>\n    </tr>\n    <tr>\n      <th>max</th>\n      <td>0.693891</td>\n      <td>1.286044</td>\n      <td>1.479771</td>\n      <td>1.332500</td>\n    </tr>\n  </tbody>\n</table>\n</div>"
     },
     "metadata": {},
     "execution_count": 30
    }
   ],
   "source": [
    "# summary of data\n",
    "df.describe()"
   ]
  },
  {
   "cell_type": "code",
   "execution_count": 32,
   "metadata": {
    "tags": []
   },
   "outputs": [
    {
     "output_type": "stream",
     "name": "stdout",
     "text": "[[ 0.69389058  0.34258175  0.8420397  -0.61404588]\n [-0.38012533  1.28604429 -1.82636254 -1.75959688]\n [ 0.57537682 -1.03022582 -1.45852874 -0.2292651 ]\n [-0.19881581  0.15159082  0.86898623  0.04612965]\n [-1.42618157 -0.19403242  1.3769953   1.33249996]\n [-1.26343907 -0.5918651   1.4797715   0.6588401 ]]\n"
    },
    {
     "output_type": "execute_result",
     "data": {
      "text/plain": "   2013-01-01  2013-01-02  2013-01-03  2013-01-04  2013-01-05  2013-01-06\nA    0.693891   -0.380125    0.575377   -0.198816   -1.426182   -1.263439\nB    0.342582    1.286044   -1.030226    0.151591   -0.194032   -0.591865\nC    0.842040   -1.826363   -1.458529    0.868986    1.376995    1.479771\nD   -0.614046   -1.759597   -0.229265    0.046130    1.332500    0.658840",
      "text/html": "<div>\n<style scoped>\n    .dataframe tbody tr th:only-of-type {\n        vertical-align: middle;\n    }\n\n    .dataframe tbody tr th {\n        vertical-align: top;\n    }\n\n    .dataframe thead th {\n        text-align: right;\n    }\n</style>\n<table border=\"1\" class=\"dataframe\">\n  <thead>\n    <tr style=\"text-align: right;\">\n      <th></th>\n      <th>2013-01-01</th>\n      <th>2013-01-02</th>\n      <th>2013-01-03</th>\n      <th>2013-01-04</th>\n      <th>2013-01-05</th>\n      <th>2013-01-06</th>\n    </tr>\n  </thead>\n  <tbody>\n    <tr>\n      <th>A</th>\n      <td>0.693891</td>\n      <td>-0.380125</td>\n      <td>0.575377</td>\n      <td>-0.198816</td>\n      <td>-1.426182</td>\n      <td>-1.263439</td>\n    </tr>\n    <tr>\n      <th>B</th>\n      <td>0.342582</td>\n      <td>1.286044</td>\n      <td>-1.030226</td>\n      <td>0.151591</td>\n      <td>-0.194032</td>\n      <td>-0.591865</td>\n    </tr>\n    <tr>\n      <th>C</th>\n      <td>0.842040</td>\n      <td>-1.826363</td>\n      <td>-1.458529</td>\n      <td>0.868986</td>\n      <td>1.376995</td>\n      <td>1.479771</td>\n    </tr>\n    <tr>\n      <th>D</th>\n      <td>-0.614046</td>\n      <td>-1.759597</td>\n      <td>-0.229265</td>\n      <td>0.046130</td>\n      <td>1.332500</td>\n      <td>0.658840</td>\n    </tr>\n  </tbody>\n</table>\n</div>"
     },
     "metadata": {},
     "execution_count": 32
    }
   ],
   "source": [
    "# Transpose\n",
    "print(df.to_numpy())\n",
    "df.T"
   ]
  },
  {
   "cell_type": "code",
   "execution_count": 34,
   "metadata": {},
   "outputs": [
    {
     "output_type": "execute_result",
     "data": {
      "text/plain": "                   A         B         C         D\n2013-01-01  0.693891  0.342582  0.842040 -0.614046\n2013-01-02 -0.380125  1.286044 -1.826363 -1.759597\n2013-01-03  0.575377 -1.030226 -1.458529 -0.229265\n2013-01-04 -0.198816  0.151591  0.868986  0.046130\n2013-01-05 -1.426182 -0.194032  1.376995  1.332500\n2013-01-06 -1.263439 -0.591865  1.479771  0.658840",
      "text/html": "<div>\n<style scoped>\n    .dataframe tbody tr th:only-of-type {\n        vertical-align: middle;\n    }\n\n    .dataframe tbody tr th {\n        vertical-align: top;\n    }\n\n    .dataframe thead th {\n        text-align: right;\n    }\n</style>\n<table border=\"1\" class=\"dataframe\">\n  <thead>\n    <tr style=\"text-align: right;\">\n      <th></th>\n      <th>A</th>\n      <th>B</th>\n      <th>C</th>\n      <th>D</th>\n    </tr>\n  </thead>\n  <tbody>\n    <tr>\n      <th>2013-01-01</th>\n      <td>0.693891</td>\n      <td>0.342582</td>\n      <td>0.842040</td>\n      <td>-0.614046</td>\n    </tr>\n    <tr>\n      <th>2013-01-02</th>\n      <td>-0.380125</td>\n      <td>1.286044</td>\n      <td>-1.826363</td>\n      <td>-1.759597</td>\n    </tr>\n    <tr>\n      <th>2013-01-03</th>\n      <td>0.575377</td>\n      <td>-1.030226</td>\n      <td>-1.458529</td>\n      <td>-0.229265</td>\n    </tr>\n    <tr>\n      <th>2013-01-04</th>\n      <td>-0.198816</td>\n      <td>0.151591</td>\n      <td>0.868986</td>\n      <td>0.046130</td>\n    </tr>\n    <tr>\n      <th>2013-01-05</th>\n      <td>-1.426182</td>\n      <td>-0.194032</td>\n      <td>1.376995</td>\n      <td>1.332500</td>\n    </tr>\n    <tr>\n      <th>2013-01-06</th>\n      <td>-1.263439</td>\n      <td>-0.591865</td>\n      <td>1.479771</td>\n      <td>0.658840</td>\n    </tr>\n  </tbody>\n</table>\n</div>"
     },
     "metadata": {},
     "execution_count": 34
    }
   ],
   "source": [
    "# column명을 기준으로 sort\n",
    "df.sort_index(axis=1, ascending=True)"
   ]
  },
  {
   "cell_type": "code",
   "execution_count": 36,
   "metadata": {},
   "outputs": [
    {
     "output_type": "execute_result",
     "data": {
      "text/plain": "                   A         B         C         D\n2013-01-02 -0.380125  1.286044 -1.826363 -1.759597\n2013-01-01  0.693891  0.342582  0.842040 -0.614046\n2013-01-04 -0.198816  0.151591  0.868986  0.046130\n2013-01-05 -1.426182 -0.194032  1.376995  1.332500\n2013-01-06 -1.263439 -0.591865  1.479771  0.658840\n2013-01-03  0.575377 -1.030226 -1.458529 -0.229265",
      "text/html": "<div>\n<style scoped>\n    .dataframe tbody tr th:only-of-type {\n        vertical-align: middle;\n    }\n\n    .dataframe tbody tr th {\n        vertical-align: top;\n    }\n\n    .dataframe thead th {\n        text-align: right;\n    }\n</style>\n<table border=\"1\" class=\"dataframe\">\n  <thead>\n    <tr style=\"text-align: right;\">\n      <th></th>\n      <th>A</th>\n      <th>B</th>\n      <th>C</th>\n      <th>D</th>\n    </tr>\n  </thead>\n  <tbody>\n    <tr>\n      <th>2013-01-02</th>\n      <td>-0.380125</td>\n      <td>1.286044</td>\n      <td>-1.826363</td>\n      <td>-1.759597</td>\n    </tr>\n    <tr>\n      <th>2013-01-01</th>\n      <td>0.693891</td>\n      <td>0.342582</td>\n      <td>0.842040</td>\n      <td>-0.614046</td>\n    </tr>\n    <tr>\n      <th>2013-01-04</th>\n      <td>-0.198816</td>\n      <td>0.151591</td>\n      <td>0.868986</td>\n      <td>0.046130</td>\n    </tr>\n    <tr>\n      <th>2013-01-05</th>\n      <td>-1.426182</td>\n      <td>-0.194032</td>\n      <td>1.376995</td>\n      <td>1.332500</td>\n    </tr>\n    <tr>\n      <th>2013-01-06</th>\n      <td>-1.263439</td>\n      <td>-0.591865</td>\n      <td>1.479771</td>\n      <td>0.658840</td>\n    </tr>\n    <tr>\n      <th>2013-01-03</th>\n      <td>0.575377</td>\n      <td>-1.030226</td>\n      <td>-1.458529</td>\n      <td>-0.229265</td>\n    </tr>\n  </tbody>\n</table>\n</div>"
     },
     "metadata": {},
     "execution_count": 36
    }
   ],
   "source": [
    "# B column을 기준으로 sort\n",
    "df.sort_values(by='B', ascending=False)"
   ]
  },
  {
   "cell_type": "code",
   "execution_count": 38,
   "metadata": {},
   "outputs": [
    {
     "output_type": "execute_result",
     "data": {
      "text/plain": "2013-01-01    0.693891\n2013-01-02   -0.380125\n2013-01-03    0.575377\n2013-01-04   -0.198816\n2013-01-05   -1.426182\n2013-01-06   -1.263439\nFreq: D, Name: A, dtype: float64"
     },
     "metadata": {},
     "execution_count": 38
    }
   ],
   "source": [
    "#################################################\n",
    "# Selection\n",
    "#################################################\n",
    "\n",
    "# selection by index (row)\n",
    "\n",
    "df['A']"
   ]
  },
  {
   "cell_type": "code",
   "execution_count": 40,
   "metadata": {},
   "outputs": [
    {
     "output_type": "execute_result",
     "data": {
      "text/plain": "                   A         B         C         D\n2013-01-01  0.693891  0.342582  0.842040 -0.614046\n2013-01-02 -0.380125  1.286044 -1.826363 -1.759597\n2013-01-03  0.575377 -1.030226 -1.458529 -0.229265",
      "text/html": "<div>\n<style scoped>\n    .dataframe tbody tr th:only-of-type {\n        vertical-align: middle;\n    }\n\n    .dataframe tbody tr th {\n        vertical-align: top;\n    }\n\n    .dataframe thead th {\n        text-align: right;\n    }\n</style>\n<table border=\"1\" class=\"dataframe\">\n  <thead>\n    <tr style=\"text-align: right;\">\n      <th></th>\n      <th>A</th>\n      <th>B</th>\n      <th>C</th>\n      <th>D</th>\n    </tr>\n  </thead>\n  <tbody>\n    <tr>\n      <th>2013-01-01</th>\n      <td>0.693891</td>\n      <td>0.342582</td>\n      <td>0.842040</td>\n      <td>-0.614046</td>\n    </tr>\n    <tr>\n      <th>2013-01-02</th>\n      <td>-0.380125</td>\n      <td>1.286044</td>\n      <td>-1.826363</td>\n      <td>-1.759597</td>\n    </tr>\n    <tr>\n      <th>2013-01-03</th>\n      <td>0.575377</td>\n      <td>-1.030226</td>\n      <td>-1.458529</td>\n      <td>-0.229265</td>\n    </tr>\n  </tbody>\n</table>\n</div>"
     },
     "metadata": {},
     "execution_count": 40
    }
   ],
   "source": [
    "df[0:3]"
   ]
  },
  {
   "cell_type": "code",
   "execution_count": 42,
   "metadata": {},
   "outputs": [
    {
     "output_type": "execute_result",
     "data": {
      "text/plain": "                   A         B         C         D\n2013-01-02 -0.380125  1.286044 -1.826363 -1.759597\n2013-01-03  0.575377 -1.030226 -1.458529 -0.229265\n2013-01-04 -0.198816  0.151591  0.868986  0.046130",
      "text/html": "<div>\n<style scoped>\n    .dataframe tbody tr th:only-of-type {\n        vertical-align: middle;\n    }\n\n    .dataframe tbody tr th {\n        vertical-align: top;\n    }\n\n    .dataframe thead th {\n        text-align: right;\n    }\n</style>\n<table border=\"1\" class=\"dataframe\">\n  <thead>\n    <tr style=\"text-align: right;\">\n      <th></th>\n      <th>A</th>\n      <th>B</th>\n      <th>C</th>\n      <th>D</th>\n    </tr>\n  </thead>\n  <tbody>\n    <tr>\n      <th>2013-01-02</th>\n      <td>-0.380125</td>\n      <td>1.286044</td>\n      <td>-1.826363</td>\n      <td>-1.759597</td>\n    </tr>\n    <tr>\n      <th>2013-01-03</th>\n      <td>0.575377</td>\n      <td>-1.030226</td>\n      <td>-1.458529</td>\n      <td>-0.229265</td>\n    </tr>\n    <tr>\n      <th>2013-01-04</th>\n      <td>-0.198816</td>\n      <td>0.151591</td>\n      <td>0.868986</td>\n      <td>0.046130</td>\n    </tr>\n  </tbody>\n</table>\n</div>"
     },
     "metadata": {},
     "execution_count": 42
    }
   ],
   "source": [
    "df['20130102':'20130104']"
   ]
  },
  {
   "cell_type": "code",
   "execution_count": 44,
   "metadata": {},
   "outputs": [
    {
     "output_type": "execute_result",
     "data": {
      "text/plain": "A    0.693891\nB    0.342582\nC    0.842040\nD   -0.614046\nName: 2013-01-01 00:00:00, dtype: float64"
     },
     "metadata": {},
     "execution_count": 44
    }
   ],
   "source": [
    "# selection by label (column)\n",
    "\n",
    "# dates = ['2013-01-01', '2013-01-02', '2013-01-03', '2013-01-04', '2013-01-05', '2013-01-06']\n",
    "# 2013-01-01 row값을 label을 기준으로 출력\n",
    "df.loc[dates[0]]"
   ]
  },
  {
   "cell_type": "code",
   "execution_count": 46,
   "metadata": {},
   "outputs": [
    {
     "output_type": "execute_result",
     "data": {
      "text/plain": "                   A         B\n2013-01-01  0.693891  0.342582\n2013-01-02 -0.380125  1.286044\n2013-01-03  0.575377 -1.030226\n2013-01-04 -0.198816  0.151591\n2013-01-05 -1.426182 -0.194032\n2013-01-06 -1.263439 -0.591865",
      "text/html": "<div>\n<style scoped>\n    .dataframe tbody tr th:only-of-type {\n        vertical-align: middle;\n    }\n\n    .dataframe tbody tr th {\n        vertical-align: top;\n    }\n\n    .dataframe thead th {\n        text-align: right;\n    }\n</style>\n<table border=\"1\" class=\"dataframe\">\n  <thead>\n    <tr style=\"text-align: right;\">\n      <th></th>\n      <th>A</th>\n      <th>B</th>\n    </tr>\n  </thead>\n  <tbody>\n    <tr>\n      <th>2013-01-01</th>\n      <td>0.693891</td>\n      <td>0.342582</td>\n    </tr>\n    <tr>\n      <th>2013-01-02</th>\n      <td>-0.380125</td>\n      <td>1.286044</td>\n    </tr>\n    <tr>\n      <th>2013-01-03</th>\n      <td>0.575377</td>\n      <td>-1.030226</td>\n    </tr>\n    <tr>\n      <th>2013-01-04</th>\n      <td>-0.198816</td>\n      <td>0.151591</td>\n    </tr>\n    <tr>\n      <th>2013-01-05</th>\n      <td>-1.426182</td>\n      <td>-0.194032</td>\n    </tr>\n    <tr>\n      <th>2013-01-06</th>\n      <td>-1.263439</td>\n      <td>-0.591865</td>\n    </tr>\n  </tbody>\n</table>\n</div>"
     },
     "metadata": {},
     "execution_count": 46
    }
   ],
   "source": [
    "# 전체 row중 'A', 'B' 라벨만을 출력\n",
    "df.loc[:, ['A', 'B']]"
   ]
  },
  {
   "cell_type": "code",
   "execution_count": 48,
   "metadata": {},
   "outputs": [
    {
     "output_type": "execute_result",
     "data": {
      "text/plain": "                   A         B\n2013-01-02 -0.380125  1.286044\n2013-01-03  0.575377 -1.030226\n2013-01-04 -0.198816  0.151591",
      "text/html": "<div>\n<style scoped>\n    .dataframe tbody tr th:only-of-type {\n        vertical-align: middle;\n    }\n\n    .dataframe tbody tr th {\n        vertical-align: top;\n    }\n\n    .dataframe thead th {\n        text-align: right;\n    }\n</style>\n<table border=\"1\" class=\"dataframe\">\n  <thead>\n    <tr style=\"text-align: right;\">\n      <th></th>\n      <th>A</th>\n      <th>B</th>\n    </tr>\n  </thead>\n  <tbody>\n    <tr>\n      <th>2013-01-02</th>\n      <td>-0.380125</td>\n      <td>1.286044</td>\n    </tr>\n    <tr>\n      <th>2013-01-03</th>\n      <td>0.575377</td>\n      <td>-1.030226</td>\n    </tr>\n    <tr>\n      <th>2013-01-04</th>\n      <td>-0.198816</td>\n      <td>0.151591</td>\n    </tr>\n  </tbody>\n</table>\n</div>"
     },
     "metadata": {},
     "execution_count": 48
    }
   ],
   "source": [
    "df.loc['20130102':'20130104', ['A', 'B']]"
   ]
  },
  {
   "cell_type": "code",
   "execution_count": 50,
   "metadata": {},
   "outputs": [
    {
     "output_type": "execute_result",
     "data": {
      "text/plain": "0.6938905753543304"
     },
     "metadata": {},
     "execution_count": 50
    }
   ],
   "source": [
    "# for getting a scalar value :\n",
    "df.loc[dates[0], 'A']"
   ]
  },
  {
   "cell_type": "code",
   "execution_count": 52,
   "metadata": {
    "tags": []
   },
   "outputs": [
    {
     "output_type": "stream",
     "name": "stdout",
     "text": "A         B         C         D\n2013-01-01  0.693891  0.342582  0.842040 -0.614046\n2013-01-02 -0.380125  1.286044 -1.826363 -1.759597\n2013-01-03  0.575377 -1.030226 -1.458529 -0.229265\n2013-01-04 -0.198816  0.151591  0.868986  0.046130\n2013-01-05 -1.426182 -0.194032  1.376995  1.332500\n2013-01-06 -1.263439 -0.591865  1.479771  0.658840\n"
    },
    {
     "output_type": "execute_result",
     "data": {
      "text/plain": "A   -0.198816\nB    0.151591\nC    0.868986\nD    0.046130\nName: 2013-01-04 00:00:00, dtype: float64"
     },
     "metadata": {},
     "execution_count": 52
    }
   ],
   "source": [
    "######################################################\n",
    "# Selection by position\n",
    "######################################################\n",
    "\n",
    "# index locating? 인듯\n",
    "print(df)\n",
    "df.iloc[3]"
   ]
  },
  {
   "cell_type": "code",
   "execution_count": 54,
   "metadata": {},
   "outputs": [
    {
     "output_type": "execute_result",
     "data": {
      "text/plain": "                   A         B         C         D\n2013-01-02 -0.380125  1.286044 -1.826363 -1.759597\n2013-01-03  0.575377 -1.030226 -1.458529 -0.229265",
      "text/html": "<div>\n<style scoped>\n    .dataframe tbody tr th:only-of-type {\n        vertical-align: middle;\n    }\n\n    .dataframe tbody tr th {\n        vertical-align: top;\n    }\n\n    .dataframe thead th {\n        text-align: right;\n    }\n</style>\n<table border=\"1\" class=\"dataframe\">\n  <thead>\n    <tr style=\"text-align: right;\">\n      <th></th>\n      <th>A</th>\n      <th>B</th>\n      <th>C</th>\n      <th>D</th>\n    </tr>\n  </thead>\n  <tbody>\n    <tr>\n      <th>2013-01-02</th>\n      <td>-0.380125</td>\n      <td>1.286044</td>\n      <td>-1.826363</td>\n      <td>-1.759597</td>\n    </tr>\n    <tr>\n      <th>2013-01-03</th>\n      <td>0.575377</td>\n      <td>-1.030226</td>\n      <td>-1.458529</td>\n      <td>-0.229265</td>\n    </tr>\n  </tbody>\n</table>\n</div>"
     },
     "metadata": {},
     "execution_count": 54
    }
   ],
   "source": [
    "df.iloc[1:3, :]"
   ]
  },
  {
   "cell_type": "code",
   "execution_count": 56,
   "metadata": {},
   "outputs": [
    {
     "output_type": "execute_result",
     "data": {
      "text/plain": "                   A         C\n2013-01-02 -0.380125 -1.826363\n2013-01-03  0.575377 -1.458529\n2013-01-05 -1.426182  1.376995",
      "text/html": "<div>\n<style scoped>\n    .dataframe tbody tr th:only-of-type {\n        vertical-align: middle;\n    }\n\n    .dataframe tbody tr th {\n        vertical-align: top;\n    }\n\n    .dataframe thead th {\n        text-align: right;\n    }\n</style>\n<table border=\"1\" class=\"dataframe\">\n  <thead>\n    <tr style=\"text-align: right;\">\n      <th></th>\n      <th>A</th>\n      <th>C</th>\n    </tr>\n  </thead>\n  <tbody>\n    <tr>\n      <th>2013-01-02</th>\n      <td>-0.380125</td>\n      <td>-1.826363</td>\n    </tr>\n    <tr>\n      <th>2013-01-03</th>\n      <td>0.575377</td>\n      <td>-1.458529</td>\n    </tr>\n    <tr>\n      <th>2013-01-05</th>\n      <td>-1.426182</td>\n      <td>1.376995</td>\n    </tr>\n  </tbody>\n</table>\n</div>"
     },
     "metadata": {},
     "execution_count": 56
    }
   ],
   "source": [
    "df.iloc[[1, 2, 4], [0, 2]]"
   ]
  },
  {
   "cell_type": "code",
   "execution_count": 58,
   "metadata": {},
   "outputs": [
    {
     "output_type": "execute_result",
     "data": {
      "text/plain": "1.2860442931958265"
     },
     "metadata": {},
     "execution_count": 58
    }
   ],
   "source": [
    "# iloc[1, 1], iat[1, 1] 의 결과는 같지만\n",
    "# iat가 개별 값에 접근할 떄는 더 빠르다\n",
    "\n",
    "df.iloc[1, 1]"
   ]
  },
  {
   "cell_type": "code",
   "execution_count": 60,
   "metadata": {},
   "outputs": [
    {
     "output_type": "execute_result",
     "data": {
      "text/plain": "1.2860442931958265"
     },
     "metadata": {},
     "execution_count": 60
    }
   ],
   "source": [
    "df.iat[1, 1]"
   ]
  },
  {
   "cell_type": "code",
   "execution_count": 62,
   "metadata": {},
   "outputs": [
    {
     "output_type": "execute_result",
     "data": {
      "text/plain": "                   A         B         C         D\n2013-01-01       NaN       NaN       NaN -0.614046\n2013-01-02 -0.380125       NaN -1.826363 -1.759597\n2013-01-03       NaN -1.030226 -1.458529 -0.229265\n2013-01-04 -0.198816       NaN       NaN       NaN\n2013-01-05 -1.426182 -0.194032       NaN       NaN\n2013-01-06 -1.263439 -0.591865       NaN       NaN",
      "text/html": "<div>\n<style scoped>\n    .dataframe tbody tr th:only-of-type {\n        vertical-align: middle;\n    }\n\n    .dataframe tbody tr th {\n        vertical-align: top;\n    }\n\n    .dataframe thead th {\n        text-align: right;\n    }\n</style>\n<table border=\"1\" class=\"dataframe\">\n  <thead>\n    <tr style=\"text-align: right;\">\n      <th></th>\n      <th>A</th>\n      <th>B</th>\n      <th>C</th>\n      <th>D</th>\n    </tr>\n  </thead>\n  <tbody>\n    <tr>\n      <th>2013-01-01</th>\n      <td>NaN</td>\n      <td>NaN</td>\n      <td>NaN</td>\n      <td>-0.614046</td>\n    </tr>\n    <tr>\n      <th>2013-01-02</th>\n      <td>-0.380125</td>\n      <td>NaN</td>\n      <td>-1.826363</td>\n      <td>-1.759597</td>\n    </tr>\n    <tr>\n      <th>2013-01-03</th>\n      <td>NaN</td>\n      <td>-1.030226</td>\n      <td>-1.458529</td>\n      <td>-0.229265</td>\n    </tr>\n    <tr>\n      <th>2013-01-04</th>\n      <td>-0.198816</td>\n      <td>NaN</td>\n      <td>NaN</td>\n      <td>NaN</td>\n    </tr>\n    <tr>\n      <th>2013-01-05</th>\n      <td>-1.426182</td>\n      <td>-0.194032</td>\n      <td>NaN</td>\n      <td>NaN</td>\n    </tr>\n    <tr>\n      <th>2013-01-06</th>\n      <td>-1.263439</td>\n      <td>-0.591865</td>\n      <td>NaN</td>\n      <td>NaN</td>\n    </tr>\n  </tbody>\n</table>\n</div>"
     },
     "metadata": {},
     "execution_count": 62
    }
   ],
   "source": [
    "######################################################\n",
    "# boolean indexing\n",
    "######################################################\n",
    "\n",
    "df[df < 0]"
   ]
  },
  {
   "cell_type": "code",
   "execution_count": 64,
   "metadata": {},
   "outputs": [
    {
     "output_type": "execute_result",
     "data": {
      "text/plain": "                   A         B         C        D\n2013-01-01  0.693891  0.342582  0.842040      NaN\n2013-01-02       NaN  1.286044       NaN      NaN\n2013-01-03  0.575377       NaN       NaN      NaN\n2013-01-04       NaN  0.151591  0.868986  0.04613\n2013-01-05       NaN       NaN  1.376995  1.33250\n2013-01-06       NaN       NaN  1.479771  0.65884",
      "text/html": "<div>\n<style scoped>\n    .dataframe tbody tr th:only-of-type {\n        vertical-align: middle;\n    }\n\n    .dataframe tbody tr th {\n        vertical-align: top;\n    }\n\n    .dataframe thead th {\n        text-align: right;\n    }\n</style>\n<table border=\"1\" class=\"dataframe\">\n  <thead>\n    <tr style=\"text-align: right;\">\n      <th></th>\n      <th>A</th>\n      <th>B</th>\n      <th>C</th>\n      <th>D</th>\n    </tr>\n  </thead>\n  <tbody>\n    <tr>\n      <th>2013-01-01</th>\n      <td>0.693891</td>\n      <td>0.342582</td>\n      <td>0.842040</td>\n      <td>NaN</td>\n    </tr>\n    <tr>\n      <th>2013-01-02</th>\n      <td>NaN</td>\n      <td>1.286044</td>\n      <td>NaN</td>\n      <td>NaN</td>\n    </tr>\n    <tr>\n      <th>2013-01-03</th>\n      <td>0.575377</td>\n      <td>NaN</td>\n      <td>NaN</td>\n      <td>NaN</td>\n    </tr>\n    <tr>\n      <th>2013-01-04</th>\n      <td>NaN</td>\n      <td>0.151591</td>\n      <td>0.868986</td>\n      <td>0.04613</td>\n    </tr>\n    <tr>\n      <th>2013-01-05</th>\n      <td>NaN</td>\n      <td>NaN</td>\n      <td>1.376995</td>\n      <td>1.33250</td>\n    </tr>\n    <tr>\n      <th>2013-01-06</th>\n      <td>NaN</td>\n      <td>NaN</td>\n      <td>1.479771</td>\n      <td>0.65884</td>\n    </tr>\n  </tbody>\n</table>\n</div>"
     },
     "metadata": {},
     "execution_count": 64
    }
   ],
   "source": [
    "df[df > 0]"
   ]
  },
  {
   "cell_type": "code",
   "execution_count": 66,
   "metadata": {},
   "outputs": [
    {
     "output_type": "execute_result",
     "data": {
      "text/plain": "                   A         B         C         D      E\n2013-01-01  0.693891  0.342582  0.842040 -0.614046    one\n2013-01-02 -0.380125  1.286044 -1.826363 -1.759597    one\n2013-01-03  0.575377 -1.030226 -1.458529 -0.229265    two\n2013-01-04 -0.198816  0.151591  0.868986  0.046130  three\n2013-01-05 -1.426182 -0.194032  1.376995  1.332500   four\n2013-01-06 -1.263439 -0.591865  1.479771  0.658840  three",
      "text/html": "<div>\n<style scoped>\n    .dataframe tbody tr th:only-of-type {\n        vertical-align: middle;\n    }\n\n    .dataframe tbody tr th {\n        vertical-align: top;\n    }\n\n    .dataframe thead th {\n        text-align: right;\n    }\n</style>\n<table border=\"1\" class=\"dataframe\">\n  <thead>\n    <tr style=\"text-align: right;\">\n      <th></th>\n      <th>A</th>\n      <th>B</th>\n      <th>C</th>\n      <th>D</th>\n      <th>E</th>\n    </tr>\n  </thead>\n  <tbody>\n    <tr>\n      <th>2013-01-01</th>\n      <td>0.693891</td>\n      <td>0.342582</td>\n      <td>0.842040</td>\n      <td>-0.614046</td>\n      <td>one</td>\n    </tr>\n    <tr>\n      <th>2013-01-02</th>\n      <td>-0.380125</td>\n      <td>1.286044</td>\n      <td>-1.826363</td>\n      <td>-1.759597</td>\n      <td>one</td>\n    </tr>\n    <tr>\n      <th>2013-01-03</th>\n      <td>0.575377</td>\n      <td>-1.030226</td>\n      <td>-1.458529</td>\n      <td>-0.229265</td>\n      <td>two</td>\n    </tr>\n    <tr>\n      <th>2013-01-04</th>\n      <td>-0.198816</td>\n      <td>0.151591</td>\n      <td>0.868986</td>\n      <td>0.046130</td>\n      <td>three</td>\n    </tr>\n    <tr>\n      <th>2013-01-05</th>\n      <td>-1.426182</td>\n      <td>-0.194032</td>\n      <td>1.376995</td>\n      <td>1.332500</td>\n      <td>four</td>\n    </tr>\n    <tr>\n      <th>2013-01-06</th>\n      <td>-1.263439</td>\n      <td>-0.591865</td>\n      <td>1.479771</td>\n      <td>0.658840</td>\n      <td>three</td>\n    </tr>\n  </tbody>\n</table>\n</div>"
     },
     "metadata": {},
     "execution_count": 66
    }
   ],
   "source": [
    "# column의 추가\n",
    "\n",
    "df2 = df.copy()\n",
    "df2['E'] = ['one', 'one', 'two', 'three', 'four', 'three']\n",
    "df2"
   ]
  },
  {
   "cell_type": "code",
   "execution_count": 68,
   "metadata": {},
   "outputs": [
    {
     "output_type": "execute_result",
     "data": {
      "text/plain": "                   A         B         C         D\n2013-01-01  0.693891  0.342582  0.842040 -0.614046\n2013-01-03  0.575377 -1.030226 -1.458529 -0.229265",
      "text/html": "<div>\n<style scoped>\n    .dataframe tbody tr th:only-of-type {\n        vertical-align: middle;\n    }\n\n    .dataframe tbody tr th {\n        vertical-align: top;\n    }\n\n    .dataframe thead th {\n        text-align: right;\n    }\n</style>\n<table border=\"1\" class=\"dataframe\">\n  <thead>\n    <tr style=\"text-align: right;\">\n      <th></th>\n      <th>A</th>\n      <th>B</th>\n      <th>C</th>\n      <th>D</th>\n    </tr>\n  </thead>\n  <tbody>\n    <tr>\n      <th>2013-01-01</th>\n      <td>0.693891</td>\n      <td>0.342582</td>\n      <td>0.842040</td>\n      <td>-0.614046</td>\n    </tr>\n    <tr>\n      <th>2013-01-03</th>\n      <td>0.575377</td>\n      <td>-1.030226</td>\n      <td>-1.458529</td>\n      <td>-0.229265</td>\n    </tr>\n  </tbody>\n</table>\n</div>"
     },
     "metadata": {},
     "execution_count": 68
    }
   ],
   "source": [
    "df[df['A'] > 0]"
   ]
  },
  {
   "cell_type": "code",
   "execution_count": 70,
   "metadata": {},
   "outputs": [
    {
     "output_type": "execute_result",
     "data": {
      "text/plain": "                   A         B         C         D     E\n2013-01-03  0.575377 -1.030226 -1.458529 -0.229265   two\n2013-01-05 -1.426182 -0.194032  1.376995  1.332500  four",
      "text/html": "<div>\n<style scoped>\n    .dataframe tbody tr th:only-of-type {\n        vertical-align: middle;\n    }\n\n    .dataframe tbody tr th {\n        vertical-align: top;\n    }\n\n    .dataframe thead th {\n        text-align: right;\n    }\n</style>\n<table border=\"1\" class=\"dataframe\">\n  <thead>\n    <tr style=\"text-align: right;\">\n      <th></th>\n      <th>A</th>\n      <th>B</th>\n      <th>C</th>\n      <th>D</th>\n      <th>E</th>\n    </tr>\n  </thead>\n  <tbody>\n    <tr>\n      <th>2013-01-03</th>\n      <td>0.575377</td>\n      <td>-1.030226</td>\n      <td>-1.458529</td>\n      <td>-0.229265</td>\n      <td>two</td>\n    </tr>\n    <tr>\n      <th>2013-01-05</th>\n      <td>-1.426182</td>\n      <td>-0.194032</td>\n      <td>1.376995</td>\n      <td>1.332500</td>\n      <td>four</td>\n    </tr>\n  </tbody>\n</table>\n</div>"
     },
     "metadata": {},
     "execution_count": 70
    }
   ],
   "source": [
    "df2[df2['E'].isin(['two', 'four'])]"
   ]
  },
  {
   "cell_type": "code",
   "execution_count": 72,
   "metadata": {},
   "outputs": [
    {
     "output_type": "execute_result",
     "data": {
      "text/plain": "                   A         B         C         D    E\n2013-01-01  0.693891  0.342582  0.842040 -0.614046  1.0\n2013-01-02 -0.380125  1.286044 -1.826363 -1.759597  1.0\n2013-01-03  0.575377 -1.030226 -1.458529 -0.229265  NaN\n2013-01-04 -0.198816  0.151591  0.868986  0.046130  NaN",
      "text/html": "<div>\n<style scoped>\n    .dataframe tbody tr th:only-of-type {\n        vertical-align: middle;\n    }\n\n    .dataframe tbody tr th {\n        vertical-align: top;\n    }\n\n    .dataframe thead th {\n        text-align: right;\n    }\n</style>\n<table border=\"1\" class=\"dataframe\">\n  <thead>\n    <tr style=\"text-align: right;\">\n      <th></th>\n      <th>A</th>\n      <th>B</th>\n      <th>C</th>\n      <th>D</th>\n      <th>E</th>\n    </tr>\n  </thead>\n  <tbody>\n    <tr>\n      <th>2013-01-01</th>\n      <td>0.693891</td>\n      <td>0.342582</td>\n      <td>0.842040</td>\n      <td>-0.614046</td>\n      <td>1.0</td>\n    </tr>\n    <tr>\n      <th>2013-01-02</th>\n      <td>-0.380125</td>\n      <td>1.286044</td>\n      <td>-1.826363</td>\n      <td>-1.759597</td>\n      <td>1.0</td>\n    </tr>\n    <tr>\n      <th>2013-01-03</th>\n      <td>0.575377</td>\n      <td>-1.030226</td>\n      <td>-1.458529</td>\n      <td>-0.229265</td>\n      <td>NaN</td>\n    </tr>\n    <tr>\n      <th>2013-01-04</th>\n      <td>-0.198816</td>\n      <td>0.151591</td>\n      <td>0.868986</td>\n      <td>0.046130</td>\n      <td>NaN</td>\n    </tr>\n  </tbody>\n</table>\n</div>"
     },
     "metadata": {},
     "execution_count": 72
    }
   ],
   "source": [
    "######################################################\n",
    "# pandas primarily uses the value 'np.nan' to represent\n",
    "# missing data. It is by default not included in computations.\n",
    "# See the missing data selection\n",
    "######################################################\n",
    "\n",
    "# reindexing allows you to change / add / delete the index on a \n",
    "# specified axis. This returns a copy of the data\n",
    "\n",
    "df1 = df.reindex(index=dates[0:4], columns=list(df.columns) + ['E'])\n",
    "df1.loc[dates[0]:dates[1], 'E'] = 1\n",
    "df1"
   ]
  },
  {
   "cell_type": "code",
   "execution_count": 74,
   "metadata": {},
   "outputs": [
    {
     "output_type": "execute_result",
     "data": {
      "text/plain": "                   A         B         C         D    E\n2013-01-01  0.693891  0.342582  0.842040 -0.614046  1.0\n2013-01-02 -0.380125  1.286044 -1.826363 -1.759597  1.0",
      "text/html": "<div>\n<style scoped>\n    .dataframe tbody tr th:only-of-type {\n        vertical-align: middle;\n    }\n\n    .dataframe tbody tr th {\n        vertical-align: top;\n    }\n\n    .dataframe thead th {\n        text-align: right;\n    }\n</style>\n<table border=\"1\" class=\"dataframe\">\n  <thead>\n    <tr style=\"text-align: right;\">\n      <th></th>\n      <th>A</th>\n      <th>B</th>\n      <th>C</th>\n      <th>D</th>\n      <th>E</th>\n    </tr>\n  </thead>\n  <tbody>\n    <tr>\n      <th>2013-01-01</th>\n      <td>0.693891</td>\n      <td>0.342582</td>\n      <td>0.842040</td>\n      <td>-0.614046</td>\n      <td>1.0</td>\n    </tr>\n    <tr>\n      <th>2013-01-02</th>\n      <td>-0.380125</td>\n      <td>1.286044</td>\n      <td>-1.826363</td>\n      <td>-1.759597</td>\n      <td>1.0</td>\n    </tr>\n  </tbody>\n</table>\n</div>"
     },
     "metadata": {},
     "execution_count": 74
    }
   ],
   "source": [
    "# to drop any rows that have missing data\n",
    "df1.dropna(how='any')"
   ]
  },
  {
   "cell_type": "code",
   "execution_count": 76,
   "metadata": {},
   "outputs": [
    {
     "output_type": "execute_result",
     "data": {
      "text/plain": "                   A         B         C         D    E\n2013-01-01  0.693891  0.342582  0.842040 -0.614046  1.0\n2013-01-02 -0.380125  1.286044 -1.826363 -1.759597  1.0\n2013-01-03  0.575377 -1.030226 -1.458529 -0.229265  5.0\n2013-01-04 -0.198816  0.151591  0.868986  0.046130  5.0",
      "text/html": "<div>\n<style scoped>\n    .dataframe tbody tr th:only-of-type {\n        vertical-align: middle;\n    }\n\n    .dataframe tbody tr th {\n        vertical-align: top;\n    }\n\n    .dataframe thead th {\n        text-align: right;\n    }\n</style>\n<table border=\"1\" class=\"dataframe\">\n  <thead>\n    <tr style=\"text-align: right;\">\n      <th></th>\n      <th>A</th>\n      <th>B</th>\n      <th>C</th>\n      <th>D</th>\n      <th>E</th>\n    </tr>\n  </thead>\n  <tbody>\n    <tr>\n      <th>2013-01-01</th>\n      <td>0.693891</td>\n      <td>0.342582</td>\n      <td>0.842040</td>\n      <td>-0.614046</td>\n      <td>1.0</td>\n    </tr>\n    <tr>\n      <th>2013-01-02</th>\n      <td>-0.380125</td>\n      <td>1.286044</td>\n      <td>-1.826363</td>\n      <td>-1.759597</td>\n      <td>1.0</td>\n    </tr>\n    <tr>\n      <th>2013-01-03</th>\n      <td>0.575377</td>\n      <td>-1.030226</td>\n      <td>-1.458529</td>\n      <td>-0.229265</td>\n      <td>5.0</td>\n    </tr>\n    <tr>\n      <th>2013-01-04</th>\n      <td>-0.198816</td>\n      <td>0.151591</td>\n      <td>0.868986</td>\n      <td>0.046130</td>\n      <td>5.0</td>\n    </tr>\n  </tbody>\n</table>\n</div>"
     },
     "metadata": {},
     "execution_count": 76
    }
   ],
   "source": [
    "# filling missing data\n",
    "df1.fillna(value=5)"
   ]
  },
  {
   "cell_type": "code",
   "execution_count": 78,
   "metadata": {},
   "outputs": [
    {
     "output_type": "execute_result",
     "data": {
      "text/plain": "                A      B      C      D      E\n2013-01-01  False  False  False  False  False\n2013-01-02  False  False  False  False  False\n2013-01-03  False  False  False  False   True\n2013-01-04  False  False  False  False   True",
      "text/html": "<div>\n<style scoped>\n    .dataframe tbody tr th:only-of-type {\n        vertical-align: middle;\n    }\n\n    .dataframe tbody tr th {\n        vertical-align: top;\n    }\n\n    .dataframe thead th {\n        text-align: right;\n    }\n</style>\n<table border=\"1\" class=\"dataframe\">\n  <thead>\n    <tr style=\"text-align: right;\">\n      <th></th>\n      <th>A</th>\n      <th>B</th>\n      <th>C</th>\n      <th>D</th>\n      <th>E</th>\n    </tr>\n  </thead>\n  <tbody>\n    <tr>\n      <th>2013-01-01</th>\n      <td>False</td>\n      <td>False</td>\n      <td>False</td>\n      <td>False</td>\n      <td>False</td>\n    </tr>\n    <tr>\n      <th>2013-01-02</th>\n      <td>False</td>\n      <td>False</td>\n      <td>False</td>\n      <td>False</td>\n      <td>False</td>\n    </tr>\n    <tr>\n      <th>2013-01-03</th>\n      <td>False</td>\n      <td>False</td>\n      <td>False</td>\n      <td>False</td>\n      <td>True</td>\n    </tr>\n    <tr>\n      <th>2013-01-04</th>\n      <td>False</td>\n      <td>False</td>\n      <td>False</td>\n      <td>False</td>\n      <td>True</td>\n    </tr>\n  </tbody>\n</table>\n</div>"
     },
     "metadata": {},
     "execution_count": 78
    }
   ],
   "source": [
    "# to get the boolean mask where values are nan\n",
    "pd.isna(df1)"
   ]
  },
  {
   "cell_type": "code",
   "execution_count": 80,
   "metadata": {},
   "outputs": [
    {
     "output_type": "execute_result",
     "data": {
      "text/plain": "A   -0.333216\nB   -0.005984\nC    0.213817\nD   -0.094240\ndtype: float64"
     },
     "metadata": {},
     "execution_count": 80
    }
   ],
   "source": [
    "######################################################\n",
    "# Operation\n",
    "######################################################\n",
    "\n",
    "# column 기준\n",
    "df.mean(False)"
   ]
  },
  {
   "cell_type": "code",
   "execution_count": 82,
   "metadata": {},
   "outputs": [
    {
     "output_type": "execute_result",
     "data": {
      "text/plain": "2013-01-01    0.316117\n2013-01-02   -0.670010\n2013-01-03   -0.535661\n2013-01-04    0.216973\n2013-01-05    0.272320\n2013-01-06    0.070827\nFreq: D, dtype: float64"
     },
     "metadata": {},
     "execution_count": 82
    }
   ],
   "source": [
    "# row 기준 row기준 = False 가 default 인듯\n",
    "df.mean(True)"
   ]
  },
  {
   "cell_type": "code",
   "execution_count": 84,
   "metadata": {},
   "outputs": [
    {
     "output_type": "execute_result",
     "data": {
      "text/plain": "2013-01-01    NaN\n2013-01-02    1.0\n2013-01-03    3.0\n2013-01-04    5.0\n2013-01-05    NaN\n2013-01-06    6.0\nFreq: D, dtype: float64"
     },
     "metadata": {},
     "execution_count": 84
    }
   ],
   "source": [
    "# shift\n",
    "\n",
    "s = pd.Series([1, 3, 5, np.nan, 6, 8], index=dates).shift(1)\n",
    "s"
   ]
  },
  {
   "cell_type": "code",
   "execution_count": 86,
   "metadata": {},
   "outputs": [
    {
     "output_type": "execute_result",
     "data": {
      "text/plain": "                   A         B         C         D\n2013-01-01       NaN       NaN       NaN       NaN\n2013-01-02 -1.380125  0.286044 -2.826363 -2.759597\n2013-01-03 -2.424623 -4.030226 -4.458529 -3.229265\n2013-01-04 -5.198816 -4.848409 -4.131014 -4.953870\n2013-01-05       NaN       NaN       NaN       NaN\n2013-01-06 -7.263439 -6.591865 -4.520229 -5.341160",
      "text/html": "<div>\n<style scoped>\n    .dataframe tbody tr th:only-of-type {\n        vertical-align: middle;\n    }\n\n    .dataframe tbody tr th {\n        vertical-align: top;\n    }\n\n    .dataframe thead th {\n        text-align: right;\n    }\n</style>\n<table border=\"1\" class=\"dataframe\">\n  <thead>\n    <tr style=\"text-align: right;\">\n      <th></th>\n      <th>A</th>\n      <th>B</th>\n      <th>C</th>\n      <th>D</th>\n    </tr>\n  </thead>\n  <tbody>\n    <tr>\n      <th>2013-01-01</th>\n      <td>NaN</td>\n      <td>NaN</td>\n      <td>NaN</td>\n      <td>NaN</td>\n    </tr>\n    <tr>\n      <th>2013-01-02</th>\n      <td>-1.380125</td>\n      <td>0.286044</td>\n      <td>-2.826363</td>\n      <td>-2.759597</td>\n    </tr>\n    <tr>\n      <th>2013-01-03</th>\n      <td>-2.424623</td>\n      <td>-4.030226</td>\n      <td>-4.458529</td>\n      <td>-3.229265</td>\n    </tr>\n    <tr>\n      <th>2013-01-04</th>\n      <td>-5.198816</td>\n      <td>-4.848409</td>\n      <td>-4.131014</td>\n      <td>-4.953870</td>\n    </tr>\n    <tr>\n      <th>2013-01-05</th>\n      <td>NaN</td>\n      <td>NaN</td>\n      <td>NaN</td>\n      <td>NaN</td>\n    </tr>\n    <tr>\n      <th>2013-01-06</th>\n      <td>-7.263439</td>\n      <td>-6.591865</td>\n      <td>-4.520229</td>\n      <td>-5.341160</td>\n    </tr>\n  </tbody>\n</table>\n</div>"
     },
     "metadata": {},
     "execution_count": 86
    }
   ],
   "source": [
    "df.sub(s, axis='index')"
   ]
  },
  {
   "cell_type": "code",
   "execution_count": 88,
   "metadata": {},
   "outputs": [
    {
     "output_type": "execute_result",
     "data": {
      "text/plain": "                   A         B         C         D\n2013-01-01       NaN       NaN       NaN       NaN\n2013-01-02 -1.380125  0.286044 -2.826363 -2.759597\n2013-01-03 -2.424623 -4.030226 -4.458529 -3.229265\n2013-01-04 -5.198816 -4.848409 -4.131014 -4.953870\n2013-01-05       NaN       NaN       NaN       NaN\n2013-01-06 -7.263439 -6.591865 -4.520229 -5.341160",
      "text/html": "<div>\n<style scoped>\n    .dataframe tbody tr th:only-of-type {\n        vertical-align: middle;\n    }\n\n    .dataframe tbody tr th {\n        vertical-align: top;\n    }\n\n    .dataframe thead th {\n        text-align: right;\n    }\n</style>\n<table border=\"1\" class=\"dataframe\">\n  <thead>\n    <tr style=\"text-align: right;\">\n      <th></th>\n      <th>A</th>\n      <th>B</th>\n      <th>C</th>\n      <th>D</th>\n    </tr>\n  </thead>\n  <tbody>\n    <tr>\n      <th>2013-01-01</th>\n      <td>NaN</td>\n      <td>NaN</td>\n      <td>NaN</td>\n      <td>NaN</td>\n    </tr>\n    <tr>\n      <th>2013-01-02</th>\n      <td>-1.380125</td>\n      <td>0.286044</td>\n      <td>-2.826363</td>\n      <td>-2.759597</td>\n    </tr>\n    <tr>\n      <th>2013-01-03</th>\n      <td>-2.424623</td>\n      <td>-4.030226</td>\n      <td>-4.458529</td>\n      <td>-3.229265</td>\n    </tr>\n    <tr>\n      <th>2013-01-04</th>\n      <td>-5.198816</td>\n      <td>-4.848409</td>\n      <td>-4.131014</td>\n      <td>-4.953870</td>\n    </tr>\n    <tr>\n      <th>2013-01-05</th>\n      <td>NaN</td>\n      <td>NaN</td>\n      <td>NaN</td>\n      <td>NaN</td>\n    </tr>\n    <tr>\n      <th>2013-01-06</th>\n      <td>-7.263439</td>\n      <td>-6.591865</td>\n      <td>-4.520229</td>\n      <td>-5.341160</td>\n    </tr>\n  </tbody>\n</table>\n</div>"
     },
     "metadata": {},
     "execution_count": 88
    }
   ],
   "source": [
    "df.sub(s, axis='index')"
   ]
  },
  {
   "cell_type": "code",
   "execution_count": 90,
   "metadata": {
    "tags": []
   },
   "outputs": [
    {
     "output_type": "stream",
     "name": "stdout",
     "text": "A         B         C         D\n2013-01-01  0.693891  0.342582  0.842040 -0.614046\n2013-01-02 -0.380125  1.286044 -1.826363 -1.759597\n2013-01-03  0.575377 -1.030226 -1.458529 -0.229265\n2013-01-04 -0.198816  0.151591  0.868986  0.046130\n2013-01-05 -1.426182 -0.194032  1.376995  1.332500\n2013-01-06 -1.263439 -0.591865  1.479771  0.658840\n"
    },
    {
     "output_type": "execute_result",
     "data": {
      "text/plain": "                   A         B         C         D\n2013-01-01  0.693891  0.342582  0.842040 -0.614046\n2013-01-02  0.313765  1.628626 -0.984323 -2.373643\n2013-01-03  0.889142  0.598400 -2.442852 -2.602908\n2013-01-04  0.690326  0.749991 -1.573865 -2.556778\n2013-01-05 -0.735855  0.555959 -0.196870 -1.224278\n2013-01-06 -1.999294 -0.035906  1.282901 -0.565438",
      "text/html": "<div>\n<style scoped>\n    .dataframe tbody tr th:only-of-type {\n        vertical-align: middle;\n    }\n\n    .dataframe tbody tr th {\n        vertical-align: top;\n    }\n\n    .dataframe thead th {\n        text-align: right;\n    }\n</style>\n<table border=\"1\" class=\"dataframe\">\n  <thead>\n    <tr style=\"text-align: right;\">\n      <th></th>\n      <th>A</th>\n      <th>B</th>\n      <th>C</th>\n      <th>D</th>\n    </tr>\n  </thead>\n  <tbody>\n    <tr>\n      <th>2013-01-01</th>\n      <td>0.693891</td>\n      <td>0.342582</td>\n      <td>0.842040</td>\n      <td>-0.614046</td>\n    </tr>\n    <tr>\n      <th>2013-01-02</th>\n      <td>0.313765</td>\n      <td>1.628626</td>\n      <td>-0.984323</td>\n      <td>-2.373643</td>\n    </tr>\n    <tr>\n      <th>2013-01-03</th>\n      <td>0.889142</td>\n      <td>0.598400</td>\n      <td>-2.442852</td>\n      <td>-2.602908</td>\n    </tr>\n    <tr>\n      <th>2013-01-04</th>\n      <td>0.690326</td>\n      <td>0.749991</td>\n      <td>-1.573865</td>\n      <td>-2.556778</td>\n    </tr>\n    <tr>\n      <th>2013-01-05</th>\n      <td>-0.735855</td>\n      <td>0.555959</td>\n      <td>-0.196870</td>\n      <td>-1.224278</td>\n    </tr>\n    <tr>\n      <th>2013-01-06</th>\n      <td>-1.999294</td>\n      <td>-0.035906</td>\n      <td>1.282901</td>\n      <td>-0.565438</td>\n    </tr>\n  </tbody>\n</table>\n</div>"
     },
     "metadata": {},
     "execution_count": 90
    }
   ],
   "source": [
    "# ######################################################\n",
    "# Applying function to the data :\n",
    "######################################################\n",
    "print(df)\n",
    "# column별로 cumulative sum\n",
    "df.apply(np.cumsum)"
   ]
  },
  {
   "cell_type": "code",
   "execution_count": 92,
   "metadata": {},
   "outputs": [
    {
     "output_type": "execute_result",
     "data": {
      "text/plain": "0    1\n1    5\n2    0\n3    0\n4    6\n5    6\n6    0\n7    6\n8    4\n9    2\ndtype: int64"
     },
     "metadata": {},
     "execution_count": 92
    }
   ],
   "source": [
    "######################################################\n",
    "# Histogramming\n",
    "######################################################\n",
    "\n",
    "s = pd.Series(np.random.randint(0, 7, size=10))\n",
    "s"
   ]
  },
  {
   "cell_type": "code",
   "execution_count": 94,
   "metadata": {},
   "outputs": [
    {
     "output_type": "execute_result",
     "data": {
      "text/plain": "6    3\n0    3\n5    1\n4    1\n2    1\n1    1\ndtype: int64"
     },
     "metadata": {},
     "execution_count": 94
    }
   ],
   "source": [
    "s.value_counts()"
   ]
  },
  {
   "cell_type": "code",
   "execution_count": 96,
   "metadata": {},
   "outputs": [
    {
     "output_type": "execute_result",
     "data": {
      "text/plain": "Aaba      1\nBanan     1\nBcad      1\nCABA      1\nCarrot    1\napple     1\ndtype: int64"
     },
     "metadata": {},
     "execution_count": 96
    }
   ],
   "source": [
    "s.value_counts().sort_index()"
   ]
  },
  {
   "cell_type": "code",
   "execution_count": 98,
   "metadata": {
    "tags": []
   },
   "outputs": [
    {
     "output_type": "execute_result",
     "data": {
      "text/plain": "0     apple\n1     banan\n2    carrot\n3      aaba\n4      bcad\n5       NaN\n6      caba\ndtype: object"
     },
     "metadata": {},
     "execution_count": 98
    }
   ],
   "source": [
    "s = pd.Series(['apple', 'Banan', 'Carrot', 'Aaba', 'Bcad', np.nan, 'CABA'])\n",
    "s.str.lower()"
   ]
  },
  {
   "cell_type": "code",
   "execution_count": 100,
   "metadata": {},
   "outputs": [
    {
     "output_type": "execute_result",
     "data": {
      "text/plain": "DatetimeIndex(['2013-01-01', '2013-01-02', '2013-01-03', '2013-01-04',\n               '2013-01-05', '2013-01-06'],\n              dtype='datetime64[ns]', freq='D')"
     },
     "metadata": {},
     "execution_count": 100
    }
   ],
   "source": [
    "dates"
   ]
  },
  {
   "cell_type": "code",
   "execution_count": 102,
   "metadata": {},
   "outputs": [
    {
     "output_type": "execute_result",
     "data": {
      "text/plain": "2013-01-02    1\n2013-01-03    2\n2013-01-04    3\n2013-01-05    4\n2013-01-06    5\n2013-01-07    6\nFreq: D, dtype: int64"
     },
     "metadata": {},
     "execution_count": 102
    }
   ],
   "source": [
    "############################################\n",
    "# Setting \n",
    "############################################\n",
    "# Setting a new column automatically aligns the data by the indices\n",
    "\n",
    "s1 = pd.Series([1, 2, 3, 4, 5, 6], index=pd.date_range('20130102', periods=6))\n",
    "s1"
   ]
  },
  {
   "cell_type": "code",
   "execution_count": 104,
   "metadata": {},
   "outputs": [
    {
     "output_type": "execute_result",
     "data": {
      "text/plain": "                   A         B         C         D\n2013-01-01  0.693891  0.342582  0.842040 -0.614046\n2013-01-02 -0.380125  1.286044 -1.826363 -1.759597\n2013-01-03  0.575377 -1.030226 -1.458529 -0.229265\n2013-01-04 -0.198816  0.151591  0.868986  0.046130\n2013-01-05 -1.426182 -0.194032  1.376995  1.332500\n2013-01-06 -1.263439 -0.591865  1.479771  0.658840",
      "text/html": "<div>\n<style scoped>\n    .dataframe tbody tr th:only-of-type {\n        vertical-align: middle;\n    }\n\n    .dataframe tbody tr th {\n        vertical-align: top;\n    }\n\n    .dataframe thead th {\n        text-align: right;\n    }\n</style>\n<table border=\"1\" class=\"dataframe\">\n  <thead>\n    <tr style=\"text-align: right;\">\n      <th></th>\n      <th>A</th>\n      <th>B</th>\n      <th>C</th>\n      <th>D</th>\n    </tr>\n  </thead>\n  <tbody>\n    <tr>\n      <th>2013-01-01</th>\n      <td>0.693891</td>\n      <td>0.342582</td>\n      <td>0.842040</td>\n      <td>-0.614046</td>\n    </tr>\n    <tr>\n      <th>2013-01-02</th>\n      <td>-0.380125</td>\n      <td>1.286044</td>\n      <td>-1.826363</td>\n      <td>-1.759597</td>\n    </tr>\n    <tr>\n      <th>2013-01-03</th>\n      <td>0.575377</td>\n      <td>-1.030226</td>\n      <td>-1.458529</td>\n      <td>-0.229265</td>\n    </tr>\n    <tr>\n      <th>2013-01-04</th>\n      <td>-0.198816</td>\n      <td>0.151591</td>\n      <td>0.868986</td>\n      <td>0.046130</td>\n    </tr>\n    <tr>\n      <th>2013-01-05</th>\n      <td>-1.426182</td>\n      <td>-0.194032</td>\n      <td>1.376995</td>\n      <td>1.332500</td>\n    </tr>\n    <tr>\n      <th>2013-01-06</th>\n      <td>-1.263439</td>\n      <td>-0.591865</td>\n      <td>1.479771</td>\n      <td>0.658840</td>\n    </tr>\n  </tbody>\n</table>\n</div>"
     },
     "metadata": {},
     "execution_count": 104
    }
   ],
   "source": [
    "df"
   ]
  },
  {
   "cell_type": "code",
   "execution_count": 106,
   "metadata": {},
   "outputs": [],
   "source": [
    "# df에 F column으로 s1을 추가\n"
   ]
  },
  {
   "cell_type": "code",
   "execution_count": 108,
   "metadata": {},
   "outputs": [
    {
     "output_type": "execute_result",
     "data": {
      "text/plain": "                   A         B         C         D    F\n2013-01-01  0.000000  0.342582  0.842040 -0.614046  NaN\n2013-01-02 -0.380125  1.286044 -1.826363 -1.759597  1.0\n2013-01-03  0.575377 -1.030226 -1.458529 -0.229265  2.0\n2013-01-04 -0.198816  0.151591  0.868986  0.046130  3.0\n2013-01-05 -1.426182 -0.194032  1.376995  1.332500  4.0\n2013-01-06 -1.263439 -0.591865  1.479771  0.658840  5.0",
      "text/html": "<div>\n<style scoped>\n    .dataframe tbody tr th:only-of-type {\n        vertical-align: middle;\n    }\n\n    .dataframe tbody tr th {\n        vertical-align: top;\n    }\n\n    .dataframe thead th {\n        text-align: right;\n    }\n</style>\n<table border=\"1\" class=\"dataframe\">\n  <thead>\n    <tr style=\"text-align: right;\">\n      <th></th>\n      <th>A</th>\n      <th>B</th>\n      <th>C</th>\n      <th>D</th>\n      <th>F</th>\n    </tr>\n  </thead>\n  <tbody>\n    <tr>\n      <th>2013-01-01</th>\n      <td>0.000000</td>\n      <td>0.342582</td>\n      <td>0.842040</td>\n      <td>-0.614046</td>\n      <td>NaN</td>\n    </tr>\n    <tr>\n      <th>2013-01-02</th>\n      <td>-0.380125</td>\n      <td>1.286044</td>\n      <td>-1.826363</td>\n      <td>-1.759597</td>\n      <td>1.0</td>\n    </tr>\n    <tr>\n      <th>2013-01-03</th>\n      <td>0.575377</td>\n      <td>-1.030226</td>\n      <td>-1.458529</td>\n      <td>-0.229265</td>\n      <td>2.0</td>\n    </tr>\n    <tr>\n      <th>2013-01-04</th>\n      <td>-0.198816</td>\n      <td>0.151591</td>\n      <td>0.868986</td>\n      <td>0.046130</td>\n      <td>3.0</td>\n    </tr>\n    <tr>\n      <th>2013-01-05</th>\n      <td>-1.426182</td>\n      <td>-0.194032</td>\n      <td>1.376995</td>\n      <td>1.332500</td>\n      <td>4.0</td>\n    </tr>\n    <tr>\n      <th>2013-01-06</th>\n      <td>-1.263439</td>\n      <td>-0.591865</td>\n      <td>1.479771</td>\n      <td>0.658840</td>\n      <td>5.0</td>\n    </tr>\n  </tbody>\n</table>\n</div>"
     },
     "metadata": {},
     "execution_count": 108
    }
   ],
   "source": [
    "# 1월2일부터 해당 값이 자동으로 setting되어 입력된다\n",
    "\n",
    "df['F'] = s1\n",
    "df"
   ]
  },
  {
   "cell_type": "code",
   "execution_count": 110,
   "metadata": {},
   "outputs": [
    {
     "output_type": "execute_result",
     "data": {
      "text/plain": "                   A         B         C         D    F\n2013-01-01  0.000000  0.000000  0.842040 -0.614046  NaN\n2013-01-02 -0.380125  1.286044 -1.826363 -1.759597  1.0\n2013-01-03  0.575377 -1.030226 -1.458529 -0.229265  2.0\n2013-01-04 -0.198816  0.151591  0.868986  0.046130  3.0\n2013-01-05 -1.426182 -0.194032  1.376995  1.332500  4.0\n2013-01-06 -1.263439 -0.591865  1.479771  0.658840  5.0",
      "text/html": "<div>\n<style scoped>\n    .dataframe tbody tr th:only-of-type {\n        vertical-align: middle;\n    }\n\n    .dataframe tbody tr th {\n        vertical-align: top;\n    }\n\n    .dataframe thead th {\n        text-align: right;\n    }\n</style>\n<table border=\"1\" class=\"dataframe\">\n  <thead>\n    <tr style=\"text-align: right;\">\n      <th></th>\n      <th>A</th>\n      <th>B</th>\n      <th>C</th>\n      <th>D</th>\n      <th>F</th>\n    </tr>\n  </thead>\n  <tbody>\n    <tr>\n      <th>2013-01-01</th>\n      <td>0.000000</td>\n      <td>0.000000</td>\n      <td>0.842040</td>\n      <td>-0.614046</td>\n      <td>NaN</td>\n    </tr>\n    <tr>\n      <th>2013-01-02</th>\n      <td>-0.380125</td>\n      <td>1.286044</td>\n      <td>-1.826363</td>\n      <td>-1.759597</td>\n      <td>1.0</td>\n    </tr>\n    <tr>\n      <th>2013-01-03</th>\n      <td>0.575377</td>\n      <td>-1.030226</td>\n      <td>-1.458529</td>\n      <td>-0.229265</td>\n      <td>2.0</td>\n    </tr>\n    <tr>\n      <th>2013-01-04</th>\n      <td>-0.198816</td>\n      <td>0.151591</td>\n      <td>0.868986</td>\n      <td>0.046130</td>\n      <td>3.0</td>\n    </tr>\n    <tr>\n      <th>2013-01-05</th>\n      <td>-1.426182</td>\n      <td>-0.194032</td>\n      <td>1.376995</td>\n      <td>1.332500</td>\n      <td>4.0</td>\n    </tr>\n    <tr>\n      <th>2013-01-06</th>\n      <td>-1.263439</td>\n      <td>-0.591865</td>\n      <td>1.479771</td>\n      <td>0.658840</td>\n      <td>5.0</td>\n    </tr>\n  </tbody>\n</table>\n</div>"
     },
     "metadata": {},
     "execution_count": 110
    }
   ],
   "source": [
    "# setting values by label\n",
    "df.at[dates[0], 'A'] = 0\n",
    "df"
   ]
  },
  {
   "cell_type": "code",
   "execution_count": 112,
   "metadata": {},
   "outputs": [
    {
     "output_type": "execute_result",
     "data": {
      "text/plain": "                   A         B         C  D    F\n2013-01-01  0.000000  0.000000  0.842040  5  NaN\n2013-01-02 -0.380125  1.286044 -1.826363  5  1.0\n2013-01-03  0.575377 -1.030226 -1.458529  5  2.0\n2013-01-04 -0.198816  0.151591  0.868986  5  3.0\n2013-01-05 -1.426182 -0.194032  1.376995  5  4.0\n2013-01-06 -1.263439 -0.591865  1.479771  5  5.0",
      "text/html": "<div>\n<style scoped>\n    .dataframe tbody tr th:only-of-type {\n        vertical-align: middle;\n    }\n\n    .dataframe tbody tr th {\n        vertical-align: top;\n    }\n\n    .dataframe thead th {\n        text-align: right;\n    }\n</style>\n<table border=\"1\" class=\"dataframe\">\n  <thead>\n    <tr style=\"text-align: right;\">\n      <th></th>\n      <th>A</th>\n      <th>B</th>\n      <th>C</th>\n      <th>D</th>\n      <th>F</th>\n    </tr>\n  </thead>\n  <tbody>\n    <tr>\n      <th>2013-01-01</th>\n      <td>0.000000</td>\n      <td>0.000000</td>\n      <td>0.842040</td>\n      <td>5</td>\n      <td>NaN</td>\n    </tr>\n    <tr>\n      <th>2013-01-02</th>\n      <td>-0.380125</td>\n      <td>1.286044</td>\n      <td>-1.826363</td>\n      <td>5</td>\n      <td>1.0</td>\n    </tr>\n    <tr>\n      <th>2013-01-03</th>\n      <td>0.575377</td>\n      <td>-1.030226</td>\n      <td>-1.458529</td>\n      <td>5</td>\n      <td>2.0</td>\n    </tr>\n    <tr>\n      <th>2013-01-04</th>\n      <td>-0.198816</td>\n      <td>0.151591</td>\n      <td>0.868986</td>\n      <td>5</td>\n      <td>3.0</td>\n    </tr>\n    <tr>\n      <th>2013-01-05</th>\n      <td>-1.426182</td>\n      <td>-0.194032</td>\n      <td>1.376995</td>\n      <td>5</td>\n      <td>4.0</td>\n    </tr>\n    <tr>\n      <th>2013-01-06</th>\n      <td>-1.263439</td>\n      <td>-0.591865</td>\n      <td>1.479771</td>\n      <td>5</td>\n      <td>5.0</td>\n    </tr>\n  </tbody>\n</table>\n</div>"
     },
     "metadata": {},
     "execution_count": 112
    }
   ],
   "source": [
    "# setting by position\n",
    "df.iat[0, 1] = 0\n",
    "df"
   ]
  },
  {
   "cell_type": "code",
   "execution_count": 114,
   "metadata": {},
   "outputs": [
    {
     "output_type": "execute_result",
     "data": {
      "text/plain": "                   A         B         C  D    F\n2013-01-01  0.000000  0.000000  0.842040  5  NaN\n2013-01-02 -0.380125  1.286044 -1.826363  5  1.0\n2013-01-03  0.575377 -1.030226 -1.458529  5  2.0\n2013-01-04 -0.198816  0.151591  0.868986  5  3.0\n2013-01-05 -1.426182 -0.194032  1.376995  5  4.0\n2013-01-06 -1.263439 -0.591865  1.479771  5  5.0",
      "text/html": "<div>\n<style scoped>\n    .dataframe tbody tr th:only-of-type {\n        vertical-align: middle;\n    }\n\n    .dataframe tbody tr th {\n        vertical-align: top;\n    }\n\n    .dataframe thead th {\n        text-align: right;\n    }\n</style>\n<table border=\"1\" class=\"dataframe\">\n  <thead>\n    <tr style=\"text-align: right;\">\n      <th></th>\n      <th>A</th>\n      <th>B</th>\n      <th>C</th>\n      <th>D</th>\n      <th>F</th>\n    </tr>\n  </thead>\n  <tbody>\n    <tr>\n      <th>2013-01-01</th>\n      <td>0.000000</td>\n      <td>0.000000</td>\n      <td>0.842040</td>\n      <td>5</td>\n      <td>NaN</td>\n    </tr>\n    <tr>\n      <th>2013-01-02</th>\n      <td>-0.380125</td>\n      <td>1.286044</td>\n      <td>-1.826363</td>\n      <td>5</td>\n      <td>1.0</td>\n    </tr>\n    <tr>\n      <th>2013-01-03</th>\n      <td>0.575377</td>\n      <td>-1.030226</td>\n      <td>-1.458529</td>\n      <td>5</td>\n      <td>2.0</td>\n    </tr>\n    <tr>\n      <th>2013-01-04</th>\n      <td>-0.198816</td>\n      <td>0.151591</td>\n      <td>0.868986</td>\n      <td>5</td>\n      <td>3.0</td>\n    </tr>\n    <tr>\n      <th>2013-01-05</th>\n      <td>-1.426182</td>\n      <td>-0.194032</td>\n      <td>1.376995</td>\n      <td>5</td>\n      <td>4.0</td>\n    </tr>\n    <tr>\n      <th>2013-01-06</th>\n      <td>-1.263439</td>\n      <td>-0.591865</td>\n      <td>1.479771</td>\n      <td>5</td>\n      <td>5.0</td>\n    </tr>\n  </tbody>\n</table>\n</div>"
     },
     "metadata": {},
     "execution_count": 114
    }
   ],
   "source": [
    "# setting by assigning with a NumPy array :\n",
    "len(df)  # num of rows\n",
    "df.loc[:, 'D'] = np.array([5] * len(df)) # [5, 5, 5, 5, 5, 5]\n",
    "df"
   ]
  },
  {
   "cell_type": "code",
   "execution_count": 116,
   "metadata": {},
   "outputs": [
    {
     "output_type": "execute_result",
     "data": {
      "text/plain": "                   A         B         C  D    F    E\n2013-01-01  0.000000  0.000000  0.842040  5  NaN  1.0\n2013-01-02 -0.380125  1.286044 -1.826363  5  1.0  1.0\n2013-01-03  0.575377 -1.030226 -1.458529  5  2.0  NaN\n2013-01-04 -0.198816  0.151591  0.868986  5  3.0  NaN",
      "text/html": "<div>\n<style scoped>\n    .dataframe tbody tr th:only-of-type {\n        vertical-align: middle;\n    }\n\n    .dataframe tbody tr th {\n        vertical-align: top;\n    }\n\n    .dataframe thead th {\n        text-align: right;\n    }\n</style>\n<table border=\"1\" class=\"dataframe\">\n  <thead>\n    <tr style=\"text-align: right;\">\n      <th></th>\n      <th>A</th>\n      <th>B</th>\n      <th>C</th>\n      <th>D</th>\n      <th>F</th>\n      <th>E</th>\n    </tr>\n  </thead>\n  <tbody>\n    <tr>\n      <th>2013-01-01</th>\n      <td>0.000000</td>\n      <td>0.000000</td>\n      <td>0.842040</td>\n      <td>5</td>\n      <td>NaN</td>\n      <td>1.0</td>\n    </tr>\n    <tr>\n      <th>2013-01-02</th>\n      <td>-0.380125</td>\n      <td>1.286044</td>\n      <td>-1.826363</td>\n      <td>5</td>\n      <td>1.0</td>\n      <td>1.0</td>\n    </tr>\n    <tr>\n      <th>2013-01-03</th>\n      <td>0.575377</td>\n      <td>-1.030226</td>\n      <td>-1.458529</td>\n      <td>5</td>\n      <td>2.0</td>\n      <td>NaN</td>\n    </tr>\n    <tr>\n      <th>2013-01-04</th>\n      <td>-0.198816</td>\n      <td>0.151591</td>\n      <td>0.868986</td>\n      <td>5</td>\n      <td>3.0</td>\n      <td>NaN</td>\n    </tr>\n  </tbody>\n</table>\n</div>"
     },
     "metadata": {},
     "execution_count": 116
    }
   ],
   "source": [
    "############################################\n",
    "# Missing Data\n",
    "############################################\n",
    "\n",
    "# pandas primarily uses the value 'np.nan' ro represent missing data.\n",
    "# it is by default not included computations.\n",
    "\n",
    "# Reindecing allows you to  change/add/delete the index on a specified\n",
    "# axis. this returns a copy of the data\n",
    "\n",
    "df1 = df.reindex(index=dates[0:4], columns=list(df.columns) + ['E'])\n",
    "df1.loc[dates[0]:dates[1], 'E'] = 1\n",
    "df1"
   ]
  },
  {
   "cell_type": "code",
   "execution_count": 118,
   "metadata": {},
   "outputs": [
    {
     "output_type": "execute_result",
     "data": {
      "text/plain": "                   A         B         C  D    F    E\n2013-01-02 -0.380125  1.286044 -1.826363  5  1.0  1.0",
      "text/html": "<div>\n<style scoped>\n    .dataframe tbody tr th:only-of-type {\n        vertical-align: middle;\n    }\n\n    .dataframe tbody tr th {\n        vertical-align: top;\n    }\n\n    .dataframe thead th {\n        text-align: right;\n    }\n</style>\n<table border=\"1\" class=\"dataframe\">\n  <thead>\n    <tr style=\"text-align: right;\">\n      <th></th>\n      <th>A</th>\n      <th>B</th>\n      <th>C</th>\n      <th>D</th>\n      <th>F</th>\n      <th>E</th>\n    </tr>\n  </thead>\n  <tbody>\n    <tr>\n      <th>2013-01-02</th>\n      <td>-0.380125</td>\n      <td>1.286044</td>\n      <td>-1.826363</td>\n      <td>5</td>\n      <td>1.0</td>\n      <td>1.0</td>\n    </tr>\n  </tbody>\n</table>\n</div>"
     },
     "metadata": {},
     "execution_count": 118
    }
   ],
   "source": [
    "# to drop any rows that have missing data\n",
    "df1.dropna(how='any')"
   ]
  },
  {
   "cell_type": "code",
   "execution_count": 120,
   "metadata": {},
   "outputs": [
    {
     "output_type": "execute_result",
     "data": {
      "text/plain": "                   A         B         C  D    F    E\n2013-01-01  0.000000  0.000000  0.842040  5  5.0  1.0\n2013-01-02 -0.380125  1.286044 -1.826363  5  1.0  1.0\n2013-01-03  0.575377 -1.030226 -1.458529  5  2.0  5.0\n2013-01-04 -0.198816  0.151591  0.868986  5  3.0  5.0",
      "text/html": "<div>\n<style scoped>\n    .dataframe tbody tr th:only-of-type {\n        vertical-align: middle;\n    }\n\n    .dataframe tbody tr th {\n        vertical-align: top;\n    }\n\n    .dataframe thead th {\n        text-align: right;\n    }\n</style>\n<table border=\"1\" class=\"dataframe\">\n  <thead>\n    <tr style=\"text-align: right;\">\n      <th></th>\n      <th>A</th>\n      <th>B</th>\n      <th>C</th>\n      <th>D</th>\n      <th>F</th>\n      <th>E</th>\n    </tr>\n  </thead>\n  <tbody>\n    <tr>\n      <th>2013-01-01</th>\n      <td>0.000000</td>\n      <td>0.000000</td>\n      <td>0.842040</td>\n      <td>5</td>\n      <td>5.0</td>\n      <td>1.0</td>\n    </tr>\n    <tr>\n      <th>2013-01-02</th>\n      <td>-0.380125</td>\n      <td>1.286044</td>\n      <td>-1.826363</td>\n      <td>5</td>\n      <td>1.0</td>\n      <td>1.0</td>\n    </tr>\n    <tr>\n      <th>2013-01-03</th>\n      <td>0.575377</td>\n      <td>-1.030226</td>\n      <td>-1.458529</td>\n      <td>5</td>\n      <td>2.0</td>\n      <td>5.0</td>\n    </tr>\n    <tr>\n      <th>2013-01-04</th>\n      <td>-0.198816</td>\n      <td>0.151591</td>\n      <td>0.868986</td>\n      <td>5</td>\n      <td>3.0</td>\n      <td>5.0</td>\n    </tr>\n  </tbody>\n</table>\n</div>"
     },
     "metadata": {},
     "execution_count": 120
    }
   ],
   "source": [
    "# Filling missing data\n",
    "df1.fillna(value=5)"
   ]
  },
  {
   "cell_type": "code",
   "execution_count": 122,
   "metadata": {},
   "outputs": [
    {
     "output_type": "execute_result",
     "data": {
      "text/plain": "                A      B      C      D      F      E\n2013-01-01  False  False  False  False   True  False\n2013-01-02  False  False  False  False  False  False\n2013-01-03  False  False  False  False  False   True\n2013-01-04  False  False  False  False  False   True",
      "text/html": "<div>\n<style scoped>\n    .dataframe tbody tr th:only-of-type {\n        vertical-align: middle;\n    }\n\n    .dataframe tbody tr th {\n        vertical-align: top;\n    }\n\n    .dataframe thead th {\n        text-align: right;\n    }\n</style>\n<table border=\"1\" class=\"dataframe\">\n  <thead>\n    <tr style=\"text-align: right;\">\n      <th></th>\n      <th>A</th>\n      <th>B</th>\n      <th>C</th>\n      <th>D</th>\n      <th>F</th>\n      <th>E</th>\n    </tr>\n  </thead>\n  <tbody>\n    <tr>\n      <th>2013-01-01</th>\n      <td>False</td>\n      <td>False</td>\n      <td>False</td>\n      <td>False</td>\n      <td>True</td>\n      <td>False</td>\n    </tr>\n    <tr>\n      <th>2013-01-02</th>\n      <td>False</td>\n      <td>False</td>\n      <td>False</td>\n      <td>False</td>\n      <td>False</td>\n      <td>False</td>\n    </tr>\n    <tr>\n      <th>2013-01-03</th>\n      <td>False</td>\n      <td>False</td>\n      <td>False</td>\n      <td>False</td>\n      <td>False</td>\n      <td>True</td>\n    </tr>\n    <tr>\n      <th>2013-01-04</th>\n      <td>False</td>\n      <td>False</td>\n      <td>False</td>\n      <td>False</td>\n      <td>False</td>\n      <td>True</td>\n    </tr>\n  </tbody>\n</table>\n</div>"
     },
     "metadata": {},
     "execution_count": 122
    }
   ],
   "source": [
    "# To get the boolean mask where values are nan\n",
    "pd.isna(df1)"
   ]
  },
  {
   "cell_type": "code",
   "execution_count": 123,
   "metadata": {},
   "outputs": [
    {
     "output_type": "execute_result",
     "data": {
      "text/plain": "                   A         B         C   D     F\n2013-01-01  0.000000  0.000000  0.842040   5   NaN\n2013-01-02 -0.380125  1.286044 -0.984323  10   1.0\n2013-01-03  0.195251  0.255818 -2.442852  15   3.0\n2013-01-04 -0.003564  0.407409 -1.573865  20   6.0\n2013-01-05 -1.429746  0.213377 -0.196870  25  10.0\n2013-01-06 -2.693185 -0.378488  1.282901  30  15.0",
      "text/html": "<div>\n<style scoped>\n    .dataframe tbody tr th:only-of-type {\n        vertical-align: middle;\n    }\n\n    .dataframe tbody tr th {\n        vertical-align: top;\n    }\n\n    .dataframe thead th {\n        text-align: right;\n    }\n</style>\n<table border=\"1\" class=\"dataframe\">\n  <thead>\n    <tr style=\"text-align: right;\">\n      <th></th>\n      <th>A</th>\n      <th>B</th>\n      <th>C</th>\n      <th>D</th>\n      <th>F</th>\n    </tr>\n  </thead>\n  <tbody>\n    <tr>\n      <th>2013-01-01</th>\n      <td>0.000000</td>\n      <td>0.000000</td>\n      <td>0.842040</td>\n      <td>5</td>\n      <td>NaN</td>\n    </tr>\n    <tr>\n      <th>2013-01-02</th>\n      <td>-0.380125</td>\n      <td>1.286044</td>\n      <td>-0.984323</td>\n      <td>10</td>\n      <td>1.0</td>\n    </tr>\n    <tr>\n      <th>2013-01-03</th>\n      <td>0.195251</td>\n      <td>0.255818</td>\n      <td>-2.442852</td>\n      <td>15</td>\n      <td>3.0</td>\n    </tr>\n    <tr>\n      <th>2013-01-04</th>\n      <td>-0.003564</td>\n      <td>0.407409</td>\n      <td>-1.573865</td>\n      <td>20</td>\n      <td>6.0</td>\n    </tr>\n    <tr>\n      <th>2013-01-05</th>\n      <td>-1.429746</td>\n      <td>0.213377</td>\n      <td>-0.196870</td>\n      <td>25</td>\n      <td>10.0</td>\n    </tr>\n    <tr>\n      <th>2013-01-06</th>\n      <td>-2.693185</td>\n      <td>-0.378488</td>\n      <td>1.282901</td>\n      <td>30</td>\n      <td>15.0</td>\n    </tr>\n  </tbody>\n</table>\n</div>"
     },
     "metadata": {},
     "execution_count": 123
    }
   ],
   "source": [
    "# applying functions to the data\n",
    "\n",
    "df.apply(np.cumsum)"
   ]
  },
  {
   "cell_type": "code",
   "execution_count": 124,
   "metadata": {},
   "outputs": [
    {
     "output_type": "execute_result",
     "data": {
      "text/plain": "0    5\n1    4\n2    6\n3    4\n4    3\n5    1\n6    0\n7    2\n8    0\n9    3\ndtype: int64"
     },
     "metadata": {},
     "execution_count": 124
    }
   ],
   "source": [
    "# histogramming\n",
    "s = pd.Series(np.random.randint(0, 7, size=10))\n",
    "s"
   ]
  },
  {
   "cell_type": "code",
   "execution_count": 125,
   "metadata": {},
   "outputs": [
    {
     "output_type": "execute_result",
     "data": {
      "text/plain": "4    2\n3    2\n0    2\n6    1\n5    1\n2    1\n1    1\ndtype: int64"
     },
     "metadata": {},
     "execution_count": 125
    }
   ],
   "source": [
    "s.value_counts()"
   ]
  },
  {
   "cell_type": "code",
   "execution_count": 126,
   "metadata": {},
   "outputs": [
    {
     "output_type": "execute_result",
     "data": {
      "text/plain": "          0         1         2         3\n0  0.156307  2.077708 -0.187990  0.683766\n1 -1.355984  1.719081 -0.185957 -1.282808\n2 -0.274689  0.151476 -0.618786  0.321699\n3 -0.665057 -0.873130 -1.032076 -0.595082\n4 -0.965135  1.029279 -1.227946 -1.850264\n5 -1.571672  0.139650 -1.897425  0.520509\n6  0.167088  1.217712  1.467844 -0.907316\n7 -0.147954 -1.235942  1.720112  0.478887\n8  0.533746  0.106593 -0.336349  0.501408\n9 -0.562698  0.969664  1.088266 -0.451649",
      "text/html": "<div>\n<style scoped>\n    .dataframe tbody tr th:only-of-type {\n        vertical-align: middle;\n    }\n\n    .dataframe tbody tr th {\n        vertical-align: top;\n    }\n\n    .dataframe thead th {\n        text-align: right;\n    }\n</style>\n<table border=\"1\" class=\"dataframe\">\n  <thead>\n    <tr style=\"text-align: right;\">\n      <th></th>\n      <th>0</th>\n      <th>1</th>\n      <th>2</th>\n      <th>3</th>\n    </tr>\n  </thead>\n  <tbody>\n    <tr>\n      <th>0</th>\n      <td>0.156307</td>\n      <td>2.077708</td>\n      <td>-0.187990</td>\n      <td>0.683766</td>\n    </tr>\n    <tr>\n      <th>1</th>\n      <td>-1.355984</td>\n      <td>1.719081</td>\n      <td>-0.185957</td>\n      <td>-1.282808</td>\n    </tr>\n    <tr>\n      <th>2</th>\n      <td>-0.274689</td>\n      <td>0.151476</td>\n      <td>-0.618786</td>\n      <td>0.321699</td>\n    </tr>\n    <tr>\n      <th>3</th>\n      <td>-0.665057</td>\n      <td>-0.873130</td>\n      <td>-1.032076</td>\n      <td>-0.595082</td>\n    </tr>\n    <tr>\n      <th>4</th>\n      <td>-0.965135</td>\n      <td>1.029279</td>\n      <td>-1.227946</td>\n      <td>-1.850264</td>\n    </tr>\n    <tr>\n      <th>5</th>\n      <td>-1.571672</td>\n      <td>0.139650</td>\n      <td>-1.897425</td>\n      <td>0.520509</td>\n    </tr>\n    <tr>\n      <th>6</th>\n      <td>0.167088</td>\n      <td>1.217712</td>\n      <td>1.467844</td>\n      <td>-0.907316</td>\n    </tr>\n    <tr>\n      <th>7</th>\n      <td>-0.147954</td>\n      <td>-1.235942</td>\n      <td>1.720112</td>\n      <td>0.478887</td>\n    </tr>\n    <tr>\n      <th>8</th>\n      <td>0.533746</td>\n      <td>0.106593</td>\n      <td>-0.336349</td>\n      <td>0.501408</td>\n    </tr>\n    <tr>\n      <th>9</th>\n      <td>-0.562698</td>\n      <td>0.969664</td>\n      <td>1.088266</td>\n      <td>-0.451649</td>\n    </tr>\n  </tbody>\n</table>\n</div>"
     },
     "metadata": {},
     "execution_count": 126
    }
   ],
   "source": [
    "df = pd.DataFrame(np.random.randn(10, 4))\n",
    "df"
   ]
  },
  {
   "cell_type": "code",
   "execution_count": 129,
   "metadata": {},
   "outputs": [
    {
     "output_type": "execute_result",
     "data": {
      "text/plain": "[          0         1         2         3\n 0  0.156307  2.077708 -0.187990  0.683766\n 1 -1.355984  1.719081 -0.185957 -1.282808\n 2 -0.274689  0.151476 -0.618786  0.321699,\n           0         1         2         3\n 3 -0.665057 -0.873130 -1.032076 -0.595082\n 4 -0.965135  1.029279 -1.227946 -1.850264\n 5 -1.571672  0.139650 -1.897425  0.520509\n 6  0.167088  1.217712  1.467844 -0.907316,\n           0         1         2         3\n 7 -0.147954 -1.235942  1.720112  0.478887\n 8  0.533746  0.106593 -0.336349  0.501408\n 9 -0.562698  0.969664  1.088266 -0.451649]"
     },
     "metadata": {},
     "execution_count": 129
    }
   ],
   "source": [
    "pieces = [df[:3], df[3:7], df[7:]]\n",
    "pieces"
   ]
  },
  {
   "cell_type": "code",
   "execution_count": 130,
   "metadata": {},
   "outputs": [
    {
     "output_type": "execute_result",
     "data": {
      "text/plain": "          0         1         2         3\n0  0.156307  2.077708 -0.187990  0.683766\n1 -1.355984  1.719081 -0.185957 -1.282808\n2 -0.274689  0.151476 -0.618786  0.321699\n3 -0.665057 -0.873130 -1.032076 -0.595082\n4 -0.965135  1.029279 -1.227946 -1.850264\n5 -1.571672  0.139650 -1.897425  0.520509\n6  0.167088  1.217712  1.467844 -0.907316\n7 -0.147954 -1.235942  1.720112  0.478887\n8  0.533746  0.106593 -0.336349  0.501408\n9 -0.562698  0.969664  1.088266 -0.451649",
      "text/html": "<div>\n<style scoped>\n    .dataframe tbody tr th:only-of-type {\n        vertical-align: middle;\n    }\n\n    .dataframe tbody tr th {\n        vertical-align: top;\n    }\n\n    .dataframe thead th {\n        text-align: right;\n    }\n</style>\n<table border=\"1\" class=\"dataframe\">\n  <thead>\n    <tr style=\"text-align: right;\">\n      <th></th>\n      <th>0</th>\n      <th>1</th>\n      <th>2</th>\n      <th>3</th>\n    </tr>\n  </thead>\n  <tbody>\n    <tr>\n      <th>0</th>\n      <td>0.156307</td>\n      <td>2.077708</td>\n      <td>-0.187990</td>\n      <td>0.683766</td>\n    </tr>\n    <tr>\n      <th>1</th>\n      <td>-1.355984</td>\n      <td>1.719081</td>\n      <td>-0.185957</td>\n      <td>-1.282808</td>\n    </tr>\n    <tr>\n      <th>2</th>\n      <td>-0.274689</td>\n      <td>0.151476</td>\n      <td>-0.618786</td>\n      <td>0.321699</td>\n    </tr>\n    <tr>\n      <th>3</th>\n      <td>-0.665057</td>\n      <td>-0.873130</td>\n      <td>-1.032076</td>\n      <td>-0.595082</td>\n    </tr>\n    <tr>\n      <th>4</th>\n      <td>-0.965135</td>\n      <td>1.029279</td>\n      <td>-1.227946</td>\n      <td>-1.850264</td>\n    </tr>\n    <tr>\n      <th>5</th>\n      <td>-1.571672</td>\n      <td>0.139650</td>\n      <td>-1.897425</td>\n      <td>0.520509</td>\n    </tr>\n    <tr>\n      <th>6</th>\n      <td>0.167088</td>\n      <td>1.217712</td>\n      <td>1.467844</td>\n      <td>-0.907316</td>\n    </tr>\n    <tr>\n      <th>7</th>\n      <td>-0.147954</td>\n      <td>-1.235942</td>\n      <td>1.720112</td>\n      <td>0.478887</td>\n    </tr>\n    <tr>\n      <th>8</th>\n      <td>0.533746</td>\n      <td>0.106593</td>\n      <td>-0.336349</td>\n      <td>0.501408</td>\n    </tr>\n    <tr>\n      <th>9</th>\n      <td>-0.562698</td>\n      <td>0.969664</td>\n      <td>1.088266</td>\n      <td>-0.451649</td>\n    </tr>\n  </tbody>\n</table>\n</div>"
     },
     "metadata": {},
     "execution_count": 130
    }
   ],
   "source": [
    "pd.concat(pieces)"
   ]
  },
  {
   "cell_type": "code",
   "execution_count": null,
   "metadata": {},
   "outputs": [],
   "source": []
  }
 ]
}