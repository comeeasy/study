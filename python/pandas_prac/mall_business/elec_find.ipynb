{
 "metadata": {
  "language_info": {
   "codemirror_mode": {
    "name": "ipython",
    "version": 3
   },
   "file_extension": ".py",
   "mimetype": "text/x-python",
   "name": "python",
   "nbconvert_exporter": "python",
   "pygments_lexer": "ipython3",
   "version": 3
  },
  "orig_nbformat": 2,
  "kernelspec": {
   "name": "python_defaultSpec_1596772551309",
   "display_name": "Python 3.8.2 64-bit"
  }
 },
 "nbformat": 4,
 "nbformat_minor": 2,
 "cells": [
  {
   "cell_type": "code",
   "execution_count": 111,
   "metadata": {},
   "outputs": [],
   "source": [
    "import pandas as pd\n",
    "\n",
    "file_name = 'mall_business_info.csv'\n",
    "df = pd.read_csv(file_name, delimiter='|')"
   ]
  },
  {
   "cell_type": "code",
   "execution_count": 112,
   "metadata": {},
   "outputs": [
    {
     "output_type": "execute_result",
     "data": {
      "text/plain": "                 상호명 상권업종중분류명 상권업종소분류명                       도로명주소  \\\n4976            태윤전자   가전제품소매   일반가전제품      경기도 고양시 일산서구 일청로36번길 2   \n5532    삼성전자로지텍서서울센터   가전제품소매   일반가전제품        경기도 고양시 일산서구 덕이로 256   \n6045            삼성전자   가전제품소매   일반가전제품       경기도 고양시 일산동구 중앙로 1068   \n6921            디에스엘   가전제품소매   일반가전제품       경기도 고양시 일산동구 문원길 82-5   \n6937            하이마트   가전제품소매   일반가전제품       경기도 고양시 일산동구 중앙로 1060   \n...              ...      ...      ...                         ...   \n554967        롯데하이마트   가전제품소매   일반가전제품       경기도 고양시 덕양구 고양대로 1970   \n559476          보아스홈   가전제품소매   일반가전제품          경기도 고양시 덕양구 화정로 52   \n563601        디지털프라자   가전제품소매   일반가전제품         경기도 고양시 덕양구 중앙로 462   \n576967        롯데하이마트   가전제품소매   일반가전제품        경기도 고양시 일산서구 경의로 858   \n577919            주한   가전제품소매   일반가전제품  경기도 고양시 덕양구 서오릉로716번길 63-7   \n\n                건물명    신우편번호  동정보  층정보  호정보  \n4976            NaN  10342.0  NaN    1  NaN  \n5532    삼성전자서서울물류센터  10227.0  NaN    1  NaN  \n6045         리더스프라자  10447.0  NaN  NaN  NaN  \n6921            NaN  10254.0  NaN    1  NaN  \n6937           하이마트  10447.0  NaN    2  NaN  \n...             ...      ...  ...  ...  ...  \n554967          NaN  10596.0  NaN  NaN  NaN  \n559476         세이브존  10500.0  NaN    5  NaN  \n563601          NaN  10492.0  NaN    3  NaN  \n576967          NaN  10232.0  NaN  NaN  NaN  \n577919          NaN  10552.0    나  NaN  NaN  \n\n[196 rows x 9 columns]",
      "text/html": "<div>\n<style scoped>\n    .dataframe tbody tr th:only-of-type {\n        vertical-align: middle;\n    }\n\n    .dataframe tbody tr th {\n        vertical-align: top;\n    }\n\n    .dataframe thead th {\n        text-align: right;\n    }\n</style>\n<table border=\"1\" class=\"dataframe\">\n  <thead>\n    <tr style=\"text-align: right;\">\n      <th></th>\n      <th>상호명</th>\n      <th>상권업종중분류명</th>\n      <th>상권업종소분류명</th>\n      <th>도로명주소</th>\n      <th>건물명</th>\n      <th>신우편번호</th>\n      <th>동정보</th>\n      <th>층정보</th>\n      <th>호정보</th>\n    </tr>\n  </thead>\n  <tbody>\n    <tr>\n      <th>4976</th>\n      <td>태윤전자</td>\n      <td>가전제품소매</td>\n      <td>일반가전제품</td>\n      <td>경기도 고양시 일산서구 일청로36번길 2</td>\n      <td>NaN</td>\n      <td>10342.0</td>\n      <td>NaN</td>\n      <td>1</td>\n      <td>NaN</td>\n    </tr>\n    <tr>\n      <th>5532</th>\n      <td>삼성전자로지텍서서울센터</td>\n      <td>가전제품소매</td>\n      <td>일반가전제품</td>\n      <td>경기도 고양시 일산서구 덕이로 256</td>\n      <td>삼성전자서서울물류센터</td>\n      <td>10227.0</td>\n      <td>NaN</td>\n      <td>1</td>\n      <td>NaN</td>\n    </tr>\n    <tr>\n      <th>6045</th>\n      <td>삼성전자</td>\n      <td>가전제품소매</td>\n      <td>일반가전제품</td>\n      <td>경기도 고양시 일산동구 중앙로 1068</td>\n      <td>리더스프라자</td>\n      <td>10447.0</td>\n      <td>NaN</td>\n      <td>NaN</td>\n      <td>NaN</td>\n    </tr>\n    <tr>\n      <th>6921</th>\n      <td>디에스엘</td>\n      <td>가전제품소매</td>\n      <td>일반가전제품</td>\n      <td>경기도 고양시 일산동구 문원길 82-5</td>\n      <td>NaN</td>\n      <td>10254.0</td>\n      <td>NaN</td>\n      <td>1</td>\n      <td>NaN</td>\n    </tr>\n    <tr>\n      <th>6937</th>\n      <td>하이마트</td>\n      <td>가전제품소매</td>\n      <td>일반가전제품</td>\n      <td>경기도 고양시 일산동구 중앙로 1060</td>\n      <td>하이마트</td>\n      <td>10447.0</td>\n      <td>NaN</td>\n      <td>2</td>\n      <td>NaN</td>\n    </tr>\n    <tr>\n      <th>...</th>\n      <td>...</td>\n      <td>...</td>\n      <td>...</td>\n      <td>...</td>\n      <td>...</td>\n      <td>...</td>\n      <td>...</td>\n      <td>...</td>\n      <td>...</td>\n    </tr>\n    <tr>\n      <th>554967</th>\n      <td>롯데하이마트</td>\n      <td>가전제품소매</td>\n      <td>일반가전제품</td>\n      <td>경기도 고양시 덕양구 고양대로 1970</td>\n      <td>NaN</td>\n      <td>10596.0</td>\n      <td>NaN</td>\n      <td>NaN</td>\n      <td>NaN</td>\n    </tr>\n    <tr>\n      <th>559476</th>\n      <td>보아스홈</td>\n      <td>가전제품소매</td>\n      <td>일반가전제품</td>\n      <td>경기도 고양시 덕양구 화정로 52</td>\n      <td>세이브존</td>\n      <td>10500.0</td>\n      <td>NaN</td>\n      <td>5</td>\n      <td>NaN</td>\n    </tr>\n    <tr>\n      <th>563601</th>\n      <td>디지털프라자</td>\n      <td>가전제품소매</td>\n      <td>일반가전제품</td>\n      <td>경기도 고양시 덕양구 중앙로 462</td>\n      <td>NaN</td>\n      <td>10492.0</td>\n      <td>NaN</td>\n      <td>3</td>\n      <td>NaN</td>\n    </tr>\n    <tr>\n      <th>576967</th>\n      <td>롯데하이마트</td>\n      <td>가전제품소매</td>\n      <td>일반가전제품</td>\n      <td>경기도 고양시 일산서구 경의로 858</td>\n      <td>NaN</td>\n      <td>10232.0</td>\n      <td>NaN</td>\n      <td>NaN</td>\n      <td>NaN</td>\n    </tr>\n    <tr>\n      <th>577919</th>\n      <td>주한</td>\n      <td>가전제품소매</td>\n      <td>일반가전제품</td>\n      <td>경기도 고양시 덕양구 서오릉로716번길 63-7</td>\n      <td>NaN</td>\n      <td>10552.0</td>\n      <td>나</td>\n      <td>NaN</td>\n      <td>NaN</td>\n    </tr>\n  </tbody>\n</table>\n<p>196 rows × 9 columns</p>\n</div>"
     },
     "metadata": {},
     "execution_count": 112
    }
   ],
   "source": [
    "address_list = ['도로명주소', '건물명', '신우편번호', '동정보', '층정보', '호정보']\n",
    "total_columns = ['주소', '상호명', '상권업종중분류명']\n",
    "goyang = df[df.loc[:, '도로명주소'].str.contains('경기도 고양시')]\n",
    "\n",
    "goyang1 = goyang[['상호명','상권업종중분류명', '상권업종소분류명'] + address_list]\n",
    "goyang1 = goyang1[goyang1['상권업종중분류명'] == '가전제품소매']\n",
    "goyang1[goyang1['상권업종소분류명'] == '일반가전제품']"
   ]
  },
  {
   "cell_type": "code",
   "execution_count": 113,
   "metadata": {},
   "outputs": [
    {
     "output_type": "execute_result",
     "data": {
      "text/plain": "1445      10401\n4976      10342\n5337      10208\n5532      10227\n6005      10257\n          ...  \n600308    10403\n601628    10459\n601740    10450\n602686    10249\n604122    10414\nName: 신우편번호, Length: 262, dtype: int64"
     },
     "metadata": {},
     "execution_count": 113
    }
   ],
   "source": [
    "goyang1['신우편번호'] = goyang1['신우편번호'].map(int)\n",
    "goyang1['신우편번호']"
   ]
  },
  {
   "cell_type": "code",
   "execution_count": 114,
   "metadata": {},
   "outputs": [],
   "source": [
    "for idx in goyang1.index :\n",
    "    goyang1.loc[idx, '주소'] = '{0} {1}'.format(goyang1.loc[idx, '도로명주소'], goyang1.loc[idx, '신우편번호'])"
   ]
  },
  {
   "cell_type": "code",
   "execution_count": 118,
   "metadata": {},
   "outputs": [],
   "source": [
    "goyang1 = goyang1[total_columns]"
   ]
  },
  {
   "cell_type": "code",
   "execution_count": 119,
   "metadata": {},
   "outputs": [],
   "source": [
    "goyang1.to_excel('goyang_info.xlsx')"
   ]
  },
  {
   "cell_type": "code",
   "execution_count": null,
   "metadata": {},
   "outputs": [],
   "source": []
  }
 ]
}