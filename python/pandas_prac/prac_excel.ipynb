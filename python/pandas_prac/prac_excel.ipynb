{
 "metadata": {
  "language_info": {
   "codemirror_mode": {
    "name": "ipython",
    "version": 3
   },
   "file_extension": ".py",
   "mimetype": "text/x-python",
   "name": "python",
   "nbconvert_exporter": "python",
   "pygments_lexer": "ipython3",
   "version": 3
  },
  "orig_nbformat": 2,
  "kernelspec": {
   "name": "python_defaultSpec_1596183865444",
   "display_name": "Python 3.8.2 64-bit"
  }
 },
 "nbformat": 4,
 "nbformat_minor": 2,
 "cells": [
  {
   "cell_type": "code",
   "execution_count": 31,
   "metadata": {},
   "outputs": [],
   "source": [
    "import pandas as pd\n",
    "import numpy as np\n",
    "import matplotlib.pyplot as plt\n",
    "plt.close('all')"
   ]
  },
  {
   "cell_type": "code",
   "execution_count": 32,
   "metadata": {},
   "outputs": [
    {
     "output_type": "execute_result",
     "data": {
      "text/plain": "    대중교통구분    노선명      년월   승차총승객수\n0      지하철    1호선  201711  8633618\n1      지하철    1호선  201712  8737235\n2      지하철    1호선  201801  8145989\n3      지하철    1호선  201802  7273309\n4      지하철    1호선  201803  8692551\n..     ...    ...     ...      ...\n596    지하철  우이신설선  201901  1263643\n597    지하철  우이신설선  201902  1102109\n598    지하철  우이신설선  201903  1402393\n599    지하철  우이신설선  201904  1403115\n600    지하철  우이신설선  201905  1469681\n\n[601 rows x 4 columns]",
      "text/html": "<div>\n<style scoped>\n    .dataframe tbody tr th:only-of-type {\n        vertical-align: middle;\n    }\n\n    .dataframe tbody tr th {\n        vertical-align: top;\n    }\n\n    .dataframe thead th {\n        text-align: right;\n    }\n</style>\n<table border=\"1\" class=\"dataframe\">\n  <thead>\n    <tr style=\"text-align: right;\">\n      <th></th>\n      <th>대중교통구분</th>\n      <th>노선명</th>\n      <th>년월</th>\n      <th>승차총승객수</th>\n    </tr>\n  </thead>\n  <tbody>\n    <tr>\n      <th>0</th>\n      <td>지하철</td>\n      <td>1호선</td>\n      <td>201711</td>\n      <td>8633618</td>\n    </tr>\n    <tr>\n      <th>1</th>\n      <td>지하철</td>\n      <td>1호선</td>\n      <td>201712</td>\n      <td>8737235</td>\n    </tr>\n    <tr>\n      <th>2</th>\n      <td>지하철</td>\n      <td>1호선</td>\n      <td>201801</td>\n      <td>8145989</td>\n    </tr>\n    <tr>\n      <th>3</th>\n      <td>지하철</td>\n      <td>1호선</td>\n      <td>201802</td>\n      <td>7273309</td>\n    </tr>\n    <tr>\n      <th>4</th>\n      <td>지하철</td>\n      <td>1호선</td>\n      <td>201803</td>\n      <td>8692551</td>\n    </tr>\n    <tr>\n      <th>...</th>\n      <td>...</td>\n      <td>...</td>\n      <td>...</td>\n      <td>...</td>\n    </tr>\n    <tr>\n      <th>596</th>\n      <td>지하철</td>\n      <td>우이신설선</td>\n      <td>201901</td>\n      <td>1263643</td>\n    </tr>\n    <tr>\n      <th>597</th>\n      <td>지하철</td>\n      <td>우이신설선</td>\n      <td>201902</td>\n      <td>1102109</td>\n    </tr>\n    <tr>\n      <th>598</th>\n      <td>지하철</td>\n      <td>우이신설선</td>\n      <td>201903</td>\n      <td>1402393</td>\n    </tr>\n    <tr>\n      <th>599</th>\n      <td>지하철</td>\n      <td>우이신설선</td>\n      <td>201904</td>\n      <td>1403115</td>\n    </tr>\n    <tr>\n      <th>600</th>\n      <td>지하철</td>\n      <td>우이신설선</td>\n      <td>201905</td>\n      <td>1469681</td>\n    </tr>\n  </tbody>\n</table>\n<p>601 rows × 4 columns</p>\n</div>"
     },
     "metadata": {},
     "execution_count": 32
    }
   ],
   "source": [
    "df = pd.read_excel('data.xlsx')\n",
    "df"
   ]
  },
  {
   "cell_type": "code",
   "execution_count": 33,
   "metadata": {},
   "outputs": [
    {
     "output_type": "execute_result",
     "data": {
      "text/plain": "   대중교통구분  노선명      년월   승차총승객수\n0     지하철  1호선  201711  8633618\n1     지하철  1호선  201712  8737235\n2     지하철  1호선  201801  8145989\n3     지하철  1호선  201802  7273309\n4     지하철  1호선  201803  8692551\n5     지하철  1호선  201804  8275767\n6     지하철  1호선  201805  8543247\n7     지하철  1호선  201806  7972991\n8     지하철  1호선  201807  8150061\n9     지하철  1호선  201808  7930624\n10    지하철  1호선  201809  7876712\n11    지하철  1호선  201810  8783242\n12    지하철  1호선  201811  8692924\n13    지하철  1호선  201812  8686311\n14    지하철  1호선  201901  8591419\n15    지하철  1호선  201902  7356277\n16    지하철  1호선  201903  8684841\n17    지하철  1호선  201904  8594542\n18    지하철  1호선  201905  8848275",
      "text/html": "<div>\n<style scoped>\n    .dataframe tbody tr th:only-of-type {\n        vertical-align: middle;\n    }\n\n    .dataframe tbody tr th {\n        vertical-align: top;\n    }\n\n    .dataframe thead th {\n        text-align: right;\n    }\n</style>\n<table border=\"1\" class=\"dataframe\">\n  <thead>\n    <tr style=\"text-align: right;\">\n      <th></th>\n      <th>대중교통구분</th>\n      <th>노선명</th>\n      <th>년월</th>\n      <th>승차총승객수</th>\n    </tr>\n  </thead>\n  <tbody>\n    <tr>\n      <th>0</th>\n      <td>지하철</td>\n      <td>1호선</td>\n      <td>201711</td>\n      <td>8633618</td>\n    </tr>\n    <tr>\n      <th>1</th>\n      <td>지하철</td>\n      <td>1호선</td>\n      <td>201712</td>\n      <td>8737235</td>\n    </tr>\n    <tr>\n      <th>2</th>\n      <td>지하철</td>\n      <td>1호선</td>\n      <td>201801</td>\n      <td>8145989</td>\n    </tr>\n    <tr>\n      <th>3</th>\n      <td>지하철</td>\n      <td>1호선</td>\n      <td>201802</td>\n      <td>7273309</td>\n    </tr>\n    <tr>\n      <th>4</th>\n      <td>지하철</td>\n      <td>1호선</td>\n      <td>201803</td>\n      <td>8692551</td>\n    </tr>\n    <tr>\n      <th>5</th>\n      <td>지하철</td>\n      <td>1호선</td>\n      <td>201804</td>\n      <td>8275767</td>\n    </tr>\n    <tr>\n      <th>6</th>\n      <td>지하철</td>\n      <td>1호선</td>\n      <td>201805</td>\n      <td>8543247</td>\n    </tr>\n    <tr>\n      <th>7</th>\n      <td>지하철</td>\n      <td>1호선</td>\n      <td>201806</td>\n      <td>7972991</td>\n    </tr>\n    <tr>\n      <th>8</th>\n      <td>지하철</td>\n      <td>1호선</td>\n      <td>201807</td>\n      <td>8150061</td>\n    </tr>\n    <tr>\n      <th>9</th>\n      <td>지하철</td>\n      <td>1호선</td>\n      <td>201808</td>\n      <td>7930624</td>\n    </tr>\n    <tr>\n      <th>10</th>\n      <td>지하철</td>\n      <td>1호선</td>\n      <td>201809</td>\n      <td>7876712</td>\n    </tr>\n    <tr>\n      <th>11</th>\n      <td>지하철</td>\n      <td>1호선</td>\n      <td>201810</td>\n      <td>8783242</td>\n    </tr>\n    <tr>\n      <th>12</th>\n      <td>지하철</td>\n      <td>1호선</td>\n      <td>201811</td>\n      <td>8692924</td>\n    </tr>\n    <tr>\n      <th>13</th>\n      <td>지하철</td>\n      <td>1호선</td>\n      <td>201812</td>\n      <td>8686311</td>\n    </tr>\n    <tr>\n      <th>14</th>\n      <td>지하철</td>\n      <td>1호선</td>\n      <td>201901</td>\n      <td>8591419</td>\n    </tr>\n    <tr>\n      <th>15</th>\n      <td>지하철</td>\n      <td>1호선</td>\n      <td>201902</td>\n      <td>7356277</td>\n    </tr>\n    <tr>\n      <th>16</th>\n      <td>지하철</td>\n      <td>1호선</td>\n      <td>201903</td>\n      <td>8684841</td>\n    </tr>\n    <tr>\n      <th>17</th>\n      <td>지하철</td>\n      <td>1호선</td>\n      <td>201904</td>\n      <td>8594542</td>\n    </tr>\n    <tr>\n      <th>18</th>\n      <td>지하철</td>\n      <td>1호선</td>\n      <td>201905</td>\n      <td>8848275</td>\n    </tr>\n  </tbody>\n</table>\n</div>"
     },
     "metadata": {},
     "execution_count": 33
    }
   ],
   "source": [
    "# 1호선만 빼와서 다시 저장\n",
    "\n",
    "line_1 = df[df['노선명'] == '1호선']\n",
    "line_1"
   ]
  },
  {
   "cell_type": "code",
   "execution_count": 34,
   "metadata": {},
   "outputs": [
    {
     "output_type": "execute_result",
     "data": {
      "text/plain": "['경의선',\n '경기철도',\n '경인선',\n '용인에버라인',\n '인천1호선',\n '신분당선',\n '일산선',\n '1호선',\n '안산선',\n '9호선',\n '경원선',\n '과천선',\n '경춘선',\n '수인선',\n '경강선',\n '2호선',\n '서해선',\n '3호선',\n '중앙선',\n '장항선',\n '우이신설선',\n '5호선',\n '경부선',\n '인천2호선',\n '8호선',\n '7호선',\n '9호선2~3단계',\n '4호선',\n '의정부경전철',\n '공항철도 1호선',\n '6호선',\n '분당선']"
     },
     "metadata": {},
     "execution_count": 34
    }
   ],
   "source": [
    "# 지하철 노선도의 종류\n",
    "line_type = list(set(df['노선명']))\n",
    "line_type"
   ]
  },
  {
   "cell_type": "code",
   "execution_count": 38,
   "metadata": {},
   "outputs": [],
   "source": [
    "# line을 기준으로 index를 시간으로 하여 새로운 df생성\n",
    "\n",
    "# start   : 시작 일시\n",
    "# periods : 몇 개 만들건데\n",
    "# freq    : 무슨 기준?\n",
    "# freq = 'MS' == monthly srart\n",
    "\n",
    "dates = pd.date_range(start='2017-11', periods=19, freq='MS')"
   ]
  },
  {
   "cell_type": "code",
   "execution_count": 42,
   "metadata": {},
   "outputs": [
    {
     "output_type": "execute_result",
     "data": {
      "text/plain": "pandas.core.indexes.numeric.Int64Index"
     },
     "metadata": {},
     "execution_count": 42
    }
   ],
   "source": [
    "# 년, 월 별로 때어오고 싶어 \n",
    "dates.year"
   ]
  },
  {
   "cell_type": "code",
   "execution_count": 37,
   "metadata": {},
   "outputs": [],
   "source": [
    "# dir(pd.timeStamp) 를 실행하여 attribute를 확인하였더니\n",
    "# month와 year가 있었다.\n",
    "\n"
   ]
  }
 ]
}